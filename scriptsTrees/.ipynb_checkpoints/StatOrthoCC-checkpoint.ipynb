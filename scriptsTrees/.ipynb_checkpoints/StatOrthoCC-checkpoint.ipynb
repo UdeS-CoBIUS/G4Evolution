{
 "cells": [
  {
   "cell_type": "code",
   "execution_count": 1,
   "id": "9ece7c54",
   "metadata": {},
   "outputs": [],
   "source": [
    "import os\n",
    "import scipy\n",
    "import subprocess\n",
    "import numpy as np\n",
    "import pandas as pd\n",
    "import seaborn as sns\n",
    "from Bio import SeqIO\n",
    "from pprint import pprint\n",
    "import matplotlib.pyplot as plt\n",
    "from matplotlib_venn import venn2"
   ]
  },
  {
   "cell_type": "markdown",
   "id": "b2021f22",
   "metadata": {},
   "source": [
    "# Get the number trees a specie is in"
   ]
  },
  {
   "cell_type": "code",
   "execution_count": 2,
   "id": "9950d3c2",
   "metadata": {},
   "outputs": [
    {
     "name": "stdout",
     "output_type": "stream",
     "text": [
      "{'Arc': ['candidatus_korarchaeum_cryptofilum_opf8',\n",
      "         'nanoarchaeum_equitans_kin4_m',\n",
      "         'pyrobaculum_aerophilum_str_im2',\n",
      "         'hyperthermus_butylicus_dsm_5456',\n",
      "         'archaeoglobus_fulgidus_dsm_4304',\n",
      "         'methanosarcina_acetivorans_c2a',\n",
      "         'pyrococcus_horikoshii_ot3',\n",
      "         'thermoplasma_acidophilum_dsm_1728',\n",
      "         'halobacterium_salinarum_r1',\n",
      "         'cenarchaeum_symbiosum_a',\n",
      "         'methanobrevibacter_smithii_atcc_35061',\n",
      "         'sulfolobus_solfataricus_p2'],\n",
      " 'ArcBacEuk': ['pongo_abelii',\n",
      "               'aquifex_aeolicus_vf5',\n",
      "               'anolis_carolinensis',\n",
      "               'mus_musculus',\n",
      "               'hyperthermus_butylicus_dsm_5456',\n",
      "               'brucella_abortus_bv_1_str_9_941',\n",
      "               'chlamydomonas_reinhardtii',\n",
      "               'enterococcus_faecalis_v583',\n",
      "               'escherichia_coli_str_k_12_substr_mg1655',\n",
      "               'mycobacterium_tuberculosis_h37rv',\n",
      "               'gasterosteus_aculeatus',\n",
      "               'saccharomyces_cerevisiae',\n",
      "               'campylobacter_jejuni_subsp_jejuni_nctc_11168_atcc_700819',\n",
      "               'schizosaccharomyces_pombe',\n",
      "               'drosophila_melanogaster',\n",
      "               'aspergillus_nidulans',\n",
      "               'physcomitrella_patens',\n",
      "               'candidatus_korarchaeum_cryptofilum_opf8',\n",
      "               'arabidopsis_thaliana',\n",
      "               'pyrobaculum_aerophilum_str_im2',\n",
      "               'vitis_vinifera',\n",
      "               'neisseria_meningitidis_z2491',\n",
      "               'archaeoglobus_fulgidus_dsm_4304',\n",
      "               'streptococcus_pneumoniae_tigr4',\n",
      "               'solanum_lycopersicum',\n",
      "               'pyrococcus_horikoshii_ot3',\n",
      "               'apis_mellifera',\n",
      "               'halobacterium_salinarum_r1',\n",
      "               'thermoplasma_acidophilum_dsm_1728',\n",
      "               'bacillus_subtilis_subsp_subtilis_str_168',\n",
      "               'legionella_pneumophila_str_paris',\n",
      "               'neurospora_crassa',\n",
      "               'borrelia_burgdorferi_b31',\n",
      "               'danio_rerio',\n",
      "               'nanoarchaeum_equitans_kin4_m',\n",
      "               'gallus_gallus',\n",
      "               'methanosarcina_acetivorans_c2a',\n",
      "               'thermus_thermophilus_hb8',\n",
      "               'anaplasma_phagocytophilum_str_hz',\n",
      "               'yersinia_pestis_biovar_microtus_str_91001',\n",
      "               'staphylococcus_aureus_subsp_aureus_n315',\n",
      "               'methanobrevibacter_smithii_atcc_35061',\n",
      "               'leishmania_major',\n",
      "               'francisella_tularensis_subsp_tularensis_schu_s4',\n",
      "               'wolbachia_endosymbiont_of_drosophila_melanogaster',\n",
      "               'homo_sapiens',\n",
      "               'caenorhabditis_elegans',\n",
      "               'chloroflexus_aurantiacus_j_10_fl',\n",
      "               'sulfolobus_solfataricus_p2',\n",
      "               'chlamydia_trachomatis_d_uw_3_cx',\n",
      "               'ornithorhynchus_anatinus',\n",
      "               'oryza_sativa',\n",
      "               'cenarchaeum_symbiosum_a',\n",
      "               'myxococcus_xanthus_dk_1622',\n",
      "               'mycoplasma_pneumoniae_m129',\n",
      "               'pan_troglodytes',\n",
      "               'haemophilus_influenzae_rd_kw20',\n",
      "               'monodelphis_domestica',\n",
      "               'geobacter_sulfurreducens_pca'],\n",
      " 'Bac': ['aquifex_aeolicus_vf5',\n",
      "         'brucella_abortus_bv_1_str_9_941',\n",
      "         'enterococcus_faecalis_v583',\n",
      "         'escherichia_coli_str_k_12_substr_mg1655',\n",
      "         'mycobacterium_tuberculosis_h37rv',\n",
      "         'campylobacter_jejuni_subsp_jejuni_nctc_11168_atcc_700819',\n",
      "         'streptococcus_pneumoniae_tigr4',\n",
      "         'neisseria_meningitidis_z2491',\n",
      "         'legionella_pneumophila_str_paris',\n",
      "         'bacillus_subtilis_subsp_subtilis_str_168',\n",
      "         'borrelia_burgdorferi_b31',\n",
      "         'anaplasma_phagocytophilum_str_hz',\n",
      "         'thermus_thermophilus_hb8',\n",
      "         'yersinia_pestis_biovar_microtus_str_91001',\n",
      "         'staphylococcus_aureus_subsp_aureus_n315',\n",
      "         'wolbachia_endosymbiont_of_drosophila_melanogaster',\n",
      "         'francisella_tularensis_subsp_tularensis_schu_s4',\n",
      "         'chloroflexus_aurantiacus_j_10_fl',\n",
      "         'chlamydia_trachomatis_d_uw_3_cx',\n",
      "         'myxococcus_xanthus_dk_1622',\n",
      "         'mycoplasma_pneumoniae_m129',\n",
      "         'haemophilus_influenzae_rd_kw20',\n",
      "         'geobacter_sulfurreducens_pca'],\n",
      " 'Euk': ['pongo_abelii',\n",
      "         'mus_musculus',\n",
      "         'chlamydomonas_reinhardtii',\n",
      "         'schizosaccharomyces_pombe',\n",
      "         'gasterosteus_aculeatus',\n",
      "         'saccharomyces_cerevisiae',\n",
      "         'drosophila_melanogaster',\n",
      "         'aspergillus_nidulans',\n",
      "         'physcomitrella_patens',\n",
      "         'arabidopsis_thaliana',\n",
      "         'vitis_vinifera',\n",
      "         'solanum_lycopersicum',\n",
      "         'apis_mellifera',\n",
      "         'danio_rerio',\n",
      "         'gallus_gallus',\n",
      "         'leishmania_major',\n",
      "         'homo_sapiens',\n",
      "         'caenorhabditis_elegans',\n",
      "         'oryza_sativa',\n",
      "         'pan_troglodytes',\n",
      "         'anolis_carolinensis',\n",
      "         'ornithorhynchus_anatinus',\n",
      "         'monodelphis_domestica',\n",
      "         'neurospora_crassa']}\n"
     ]
    }
   ],
   "source": [
    "dicoGeneListbySp = {}\n",
    "homologyDir = '/home/anais/Documents/Projet/G4Evolution/Homology/'\n",
    "for path, dirs, files in os.walk(homologyDir):\n",
    "    # for each element of the directory to passed\n",
    "    for filename in files: # for each files\n",
    "        if 'txt' in filename:\n",
    "            inputfile = homologyDir + filename\n",
    "            sp = filename.split('.')[0]\n",
    "            with open(inputfile) as f:\n",
    "                content = f.read()\n",
    "                lines = content.split('\\n')\n",
    "                for l in lines:\n",
    "                    dicoGeneListbySp[l] = sp\n",
    "                \n",
    "# grpSpInTrees = {'Arc': [], 'Bac': [], 'Euk': [],\n",
    "#          'ArcBac': [], 'ArcEuk': [], 'BacEuk': [],\n",
    "#          'ArcBacEuk': []}\n",
    "\n",
    "grpSpInTrees = {'Arc': [], 'Bac': [], 'Euk': [], 'ArcBacEuk': []}\n",
    "\n",
    "cpt = 0\n",
    "\n",
    "for grp in grpSpInTrees:\n",
    "    files = subprocess.check_output(\"ls /home/anais/Documents/Projet/G4Evolution/listOrtho/\"+grp+\"/\", shell=True)\n",
    "    files = files.decode(\"utf-8\")\n",
    "    files = files.split('\\n')\n",
    "    if files[-1] == '':\n",
    "        files = files[:-1]\n",
    "    for file in files:\n",
    "        content = subprocess.check_output(\"cat /home/anais/Documents/Projet/G4Evolution/listOrtho/\"+grp+\"/\"+file, shell=True)\n",
    "        content = content.decode(\"utf-8\")\n",
    "        content = content.split('\\n')\n",
    "        if content[-1] == '':\n",
    "            content = content[:-1]\n",
    "        for l in content:\n",
    "            if l in dicoGeneListbySp:\n",
    "                grpSpInTrees[grp].append(dicoGeneListbySp[l])\n",
    "            else:\n",
    "                cpt += 1\n",
    "\n",
    "for grp in grpSpInTrees:\n",
    "    grpSpInTrees[grp] = list(set(grpSpInTrees[grp]))\n",
    "\n",
    "pprint(grpSpInTrees)"
   ]
  },
  {
   "cell_type": "markdown",
   "id": "24d170ff",
   "metadata": {},
   "source": [
    "# find common genes between dataset"
   ]
  },
  {
   "cell_type": "code",
   "execution_count": 3,
   "id": "a155c7ca",
   "metadata": {},
   "outputs": [
    {
     "name": "stdout",
     "output_type": "stream",
     "text": [
      "Arc 723\n",
      "Bac 2316\n",
      "Euk 52590\n",
      "ArcBac 9063\n",
      "ArcEuk 3503\n",
      "BacEuk 11216\n",
      "ArcBacEuk 21239\n"
     ]
    }
   ],
   "source": [
    "grpGeneInOrtho = {'Arc': [], 'Bac': [], 'Euk': [],\n",
    "         'ArcBac': [], 'ArcEuk': [], 'BacEuk': [],\n",
    "         'ArcBacEuk': []}\n",
    "\n",
    "for grp in grpGeneInOrtho:\n",
    "    files = subprocess.check_output(\"ls /home/anais/Documents/Projet/G4Evolution/listOrtho/\"+grp+\"/\", shell=True)\n",
    "    files = files.decode(\"utf-8\")\n",
    "    files = files.split('\\n')\n",
    "    if files[-1] == '':\n",
    "        files = files[:-1]\n",
    "    for file in files:\n",
    "        content = subprocess.check_output(\"cat /home/anais/Documents/Projet/G4Evolution/listOrtho/\"+grp+\"/\"+file, shell=True)\n",
    "        content = content.decode(\"utf-8\")\n",
    "        content = content.split('\\n')\n",
    "        if content[-1] == '':\n",
    "            content = content[:-1]\n",
    "        grpGeneInOrtho[grp].extend(content)\n",
    "\n",
    "for grp in grpGeneInOrtho:\n",
    "    grpGeneInOrtho[grp] = list(set(grpGeneInOrtho[grp]))\n",
    "    print(grp, len(grpGeneInOrtho[grp]))"
   ]
  },
  {
   "cell_type": "code",
   "execution_count": 4,
   "id": "3f0372f0",
   "metadata": {},
   "outputs": [
    {
     "name": "stdout",
     "output_type": "stream",
     "text": [
      "Arc 51\n",
      "Bac 1217\n",
      "Euk 46432\n",
      "ArcBac 2430\n",
      "ArcEuk 2946\n",
      "BacEuk 9134\n",
      "ArcBacEuk 13507\n"
     ]
    }
   ],
   "source": [
    "grpGeneInTree = {'Arc': [], 'Bac': [], 'Euk': [],\n",
    "         'ArcBac': [], 'ArcEuk': [], 'BacEuk': [],\n",
    "         'ArcBacEuk': []}\n",
    "\n",
    "for grp in grpGeneInTree:\n",
    "    files = subprocess.check_output(\"ls /home/anais/Documents/Projet/G4Evolution/FiltredGeneListByGrpAfterNbfilter/\"+grp+\"/\", shell=True)\n",
    "    files = files.decode(\"utf-8\")\n",
    "    files = files.split('\\n')\n",
    "    if files[-1] == '':\n",
    "        files = files[:-1]\n",
    "    for file in files:\n",
    "        content = subprocess.check_output(\"cat /home/anais/Documents/Projet/G4Evolution/FiltredGeneListByGrpAfterNbfilter/\"+grp+\"/\"+file, shell=True)\n",
    "        content = content.decode(\"utf-8\")\n",
    "        content = content.split('\\n')\n",
    "        if content[-1] == '':\n",
    "            content = content[:-1]\n",
    "        grpGeneInTree[grp].extend(content)\n",
    "\n",
    "for grp in grpGeneInTree:\n",
    "    grpGeneInTree[grp] = list(set(grpGeneInTree[grp]))\n",
    "    print(grp, len(grpGeneInTree[grp]))"
   ]
  },
  {
   "cell_type": "markdown",
   "id": "cb50e55f",
   "metadata": {},
   "source": [
    "# diagram de venn"
   ]
  },
  {
   "cell_type": "code",
   "execution_count": 5,
   "id": "f9df42e4",
   "metadata": {},
   "outputs": [
    {
     "name": "stdout",
     "output_type": "stream",
     "text": [
      "Arc\n"
     ]
    },
    {
     "data": {
      "image/png": "[encoded data removed]",
      "text/plain": [
       "<Figure size 432x288 with 1 Axes>"
      ]
     },
     "metadata": {},
     "output_type": "display_data"
    },
    {
     "name": "stdout",
     "output_type": "stream",
     "text": [
      "Bac\n"
     ]
    },
    {
     "data": {
      "image/png": "[encoded data removed]",
      "text/plain": [
       "<Figure size 432x288 with 1 Axes>"
      ]
     },
     "metadata": {},
     "output_type": "display_data"
    },
    {
     "name": "stdout",
     "output_type": "stream",
     "text": [
      "Euk\n"
     ]
    },
    {
     "data": {
      "image/png": "[encoded data removed]",
      "text/plain": [
       "<Figure size 432x288 with 1 Axes>"
      ]
     },
     "metadata": {},
     "output_type": "display_data"
    },
    {
     "name": "stdout",
     "output_type": "stream",
     "text": [
      "ArcBac\n"
     ]
    },
    {
     "data": {
      "image/png": "[encoded data removed]",
      "text/plain": [
       "<Figure size 432x288 with 1 Axes>"
      ]
     },
     "metadata": {},
     "output_type": "display_data"
    },
    {
     "name": "stdout",
     "output_type": "stream",
     "text": [
      "ArcEuk\n"
     ]
    },
    {
     "data": {
      "image/png": "[encoded data removed]",
      "text/plain": [
       "<Figure size 432x288 with 1 Axes>"
      ]
     },
     "metadata": {},
     "output_type": "display_data"
    },
    {
     "name": "stdout",
     "output_type": "stream",
     "text": [
      "BacEuk\n"
     ]
    },
    {
     "data": {
      "image/png": "[encoded data removed]",
      "text/plain": [
       "<Figure size 432x288 with 1 Axes>"
      ]
     },
     "metadata": {},
     "output_type": "display_data"
    },
    {
     "name": "stdout",
     "output_type": "stream",
     "text": [
      "ArcBacEuk\n"
     ]
    },
    {
     "data": {
      "image/png": "[encoded data removed]",
      "text/plain": [
       "<Figure size 432x288 with 1 Axes>"
      ]
     },
     "metadata": {},
     "output_type": "display_data"
    }
   ],
   "source": [
    "for grp in grpGeneInOrtho:\n",
    "    print(grp)\n",
    "    geneintree = len(grpGeneInTree[grp])\n",
    "    geneinortho = len(grpGeneInOrtho[grp])\n",
    "    intersectdataset = len(list(set(grpGeneInTree[grp]).intersection(grpGeneInOrtho[grp])))\n",
    "    venn2(subsets = ( geneintree,\n",
    "                     geneinortho,\n",
    "                     intersectdataset )\n",
    "         )\n",
    "    plt.show()\n"
   ]
  }
 ],
 "metadata": {
  "kernelspec": {
   "display_name": "Python 3",
   "language": "python",
   "name": "python3"
  },
  "language_info": {
   "codemirror_mode": {
    "name": "ipython",
    "version": 3
   },
   "file_extension": ".py",
   "mimetype": "text/x-python",
   "name": "python",
   "nbconvert_exporter": "python",
   "pygments_lexer": "ipython3",
   "version": "3.9.5"
  }
 },
 "nbformat": 4,
 "nbformat_minor": 5
}
