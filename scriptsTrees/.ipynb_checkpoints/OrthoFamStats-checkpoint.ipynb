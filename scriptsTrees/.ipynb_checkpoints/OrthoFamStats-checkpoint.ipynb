{
 "cells": [
  {
   "cell_type": "code",
   "execution_count": 1,
   "id": "da7bf93f",
   "metadata": {},
   "outputs": [],
   "source": [
    "import os\n",
    "import scipy\n",
    "import subprocess\n",
    "import numpy as np\n",
    "import pandas as pd\n",
    "import seaborn as sns\n",
    "from pprint import pprint\n",
    "import matplotlib.pyplot as plt"
   ]
  },
  {
   "cell_type": "markdown",
   "id": "c7492dd6",
   "metadata": {},
   "source": [
    "# Get alignment length"
   ]
  },
  {
   "cell_type": "code",
   "execution_count": 2,
   "id": "46a53d67",
   "metadata": {},
   "outputs": [],
   "source": [
    "LengthAlignment = {'Arc': {}, 'Bac': {}, 'Euk': {},\n",
    "         'ArcBac': {}, 'ArcEuk': {}, 'BacEuk': {},\n",
    "         'ArcBacEuk': {}}\n",
    "\n",
    "for grp in LengthAlignment:\n",
    "    files = subprocess.check_output(\"ls /home/anais/Documents/Projet/G4Evolution/gapFamOrthoBeforeMErge/\"+grp+\"/\", shell=True)\n",
    "    files = files.decode(\"utf-8\")\n",
    "    files = files[:-1]\n",
    "    for file in files.split('\\n'):\n",
    "        tree = file.split('.')[0]\n",
    "        nbLines = subprocess.check_output(\"cat /home/anais/Documents/Projet/G4Evolution/ProcessedAlignOrtho/\"+grp+\"/ProcAlignment_\"+tree+\".csv\", shell=True)\n",
    "        nbLines = nbLines.decode(\"utf-8\")\n",
    "        LengthAlignment[grp][tree] = len(nbLines.split('\\n')) -1"
   ]
  },
  {
   "cell_type": "markdown",
   "id": "f5745ce3",
   "metadata": {},
   "source": [
    "LengthAlignment -> {Species group: {tree:length of the alignment}}"
   ]
  },
  {
   "cell_type": "markdown",
   "id": "c5099e82",
   "metadata": {},
   "source": [
    "# Get up/down stream coord\n",
    "\n",
    "I would like to check if the pG4 family is more or less conserved compare to 300nt upstream/dowstream of the familly, and the reste of the alignment. This would allow me to have familly vs alignement and familly vs upstream or familly vs downstream."
   ]
  },
  {
   "cell_type": "code",
   "execution_count": 3,
   "id": "18e1b78e",
   "metadata": {},
   "outputs": [],
   "source": [
    "grpSp = {'Arc': {}, 'Bac': {}, 'Euk': {},\n",
    "         'ArcBac': {}, 'ArcEuk': {}, 'BacEuk': {},\n",
    "         'ArcBacEuk': {}}\n",
    "\n",
    "for grp in grpSp:\n",
    "    files = subprocess.check_output(\"ls /home/anais/Documents/Projet/G4Evolution/gapFamOrthoBeforeMErge/\"+grp+\"/\", shell=True)\n",
    "    files = files.decode(\"utf-8\")[:-1]\n",
    "    for file in files.split('\\n'):\n",
    "        tree = file.split('.')[0]\n",
    "        grpSp[grp][tree] = {'Fam': [], 'Up': [], 'Down': [], 'Rest': []}\n",
    "        content = subprocess.check_output('cat /home/anais/Documents/Projet/G4Evolution/pG4FamiliesOrtho/'+grp+'/Families_'+tree+'.csv', shell=True)\n",
    "        content = content.decode(\"utf-8\").split('\\n')[1:-1]\n",
    "        for fam in content:\n",
    "            fam = fam.split('\\t')\n",
    "            grpSp[grp][tree]['Fam'].append([ int(fam[1]), int(fam[2]) ])\n",
    "        for i in range(0, len(grpSp[grp][tree]['Fam'])):\n",
    "            lenFam = float(grpSp[grp][tree]['Fam'][i][1]-grpSp[grp][tree]['Fam'][i][0]+1)\n",
    "            if i != 0 and i != len(grpSp[grp][tree]['Fam'])-1:\n",
    "                #not the first or last fam\n",
    "                start =  grpSp[grp][tree]['Fam'][i-1][1]+1\n",
    "                end = grpSp[grp][tree]['Fam'][i][0]-1\n",
    "                grpSp[grp][tree]['Rest'].append([start, end])\n",
    "                if not grpSp[grp][tree]['Fam'][i+1][0] < grpSp[grp][tree]['Fam'][i][1]+300:\n",
    "                    grpSp[grp][tree]['Down'].append([grpSp[grp][tree]['Fam'][i][1]+1, grpSp[grp][tree]['Fam'][i][1]+300])\n",
    "                else:\n",
    "                    grpSp[grp][tree]['Down'].append([grpSp[grp][tree]['Fam'][i][1]+1, grpSp[grp][tree]['Fam'][i+1][0]])\n",
    "                if not grpSp[grp][tree]['Fam'][i-1][1] > grpSp[grp][tree]['Fam'][i][0]-300:\n",
    "                    grpSp[grp][tree]['Up'].append([grpSp[grp][tree]['Fam'][i][0]-300, end])\n",
    "                else:\n",
    "                    grpSp[grp][tree]['Up'].append([grpSp[grp][tree]['Fam'][i-1][1], end])\n",
    "            elif i == 0 and grpSp[grp][tree]['Fam'][i][0] == 0:\n",
    "                #first fam and start at the begining of the alignment\n",
    "                    grpSp[grp][tree]['Down'].append([grpSp[grp][tree]['Fam'][i][1]+1, grpSp[grp][tree]['Fam'][i][1]+300])\n",
    "            elif i == 0 and grpSp[grp][tree]['Fam'][i][0] != 0:\n",
    "                #first fam and do not start at the begining of the alignment\n",
    "                start =  0\n",
    "                end = grpSp[grp][tree]['Fam'][i][0]-1\n",
    "                if end == 0:\n",
    "                    end = 1\n",
    "                if len(grpSp[grp][tree]['Fam']) != 1:\n",
    "                    if not grpSp[grp][tree]['Fam'][i+1][0] < grpSp[grp][tree]['Fam'][i][1]+300:\n",
    "                        grpSp[grp][tree]['Down'].append([grpSp[grp][tree]['Fam'][i][1]+1, grpSp[grp][tree]['Fam'][i][1]+300])\n",
    "                    else:\n",
    "                        grpSp[grp][tree]['Down'].append([grpSp[grp][tree]['Fam'][i][1]+1, grpSp[grp][tree]['Fam'][i+1][0]])\n",
    "                    if not 0 > grpSp[grp][tree]['Fam'][i][0]-300:\n",
    "                        grpSp[grp][tree]['Up'].append([grpSp[grp][tree]['Fam'][i][0]-300, end])\n",
    "                    else:\n",
    "                        grpSp[grp][tree]['Up'].append([0, end])\n",
    "                else:\n",
    "                    grpSp[grp][tree]['Down'].append([grpSp[grp][tree]['Fam'][i][1]+1, grpSp[grp][tree]['Fam'][i][1]+300])\n",
    "                    grpSp[grp][tree]['Up'].append([grpSp[grp][tree]['Fam'][i][0]-300, end])\n",
    "            elif i == len(grpSp[grp][tree]['Fam'])-1 and grpSp[grp][tree]['Fam'][i][1] == LengthAlignment[grp][tree]:\n",
    "                #last fam and end at the end of the alignment\n",
    "                start =  grpSp[grp][tree]['Fam'][i-1][1]+1\n",
    "                end = grpSp[grp][tree]['Fam'][i][0]-1\n",
    "                grpSp[grp][tree]['Rest'].append([start, end])\n",
    "                if len(grpSp[grp][tree]['Fam']) != 1:\n",
    "                    if not grpSp[grp][tree]['Fam'][i-1][1] > grpSp[grp][tree]['Fam'][i][0]-300:\n",
    "                        grpSp[grp][tree]['Up'].append([grpSp[grp][tree]['Fam'][i][0]-300, end])\n",
    "                    else:\n",
    "                        grpSp[grp][tree]['Up'].append([grpSp[grp][tree]['Fam'][i-1][1], end])\n",
    "                else:\n",
    "                    grpSp[grp][tree]['Up'].append([grpSp[grp][tree]['Fam'][i][0]-300, end])\n",
    "            elif i == len(grpSp[grp][tree]['Fam'])-1 and grpSp[grp][tree]['Fam'][i][1] != LengthAlignment[grp][tree]:\n",
    "                #last fam and do not end at the end of the alignment\n",
    "                start =  grpSp[grp][tree]['Fam'][i][1]\n",
    "                end = LengthAlignment[grp][tree]\n",
    "                grpSp[grp][tree]['Rest'].append([start, end])\n",
    "                if len(grpSp[grp][tree]['Fam']) > 1:\n",
    "                    grpSp[grp][tree]['Down'].append([grpSp[grp][tree]['Fam'][i][1]+1, grpSp[grp][tree]['Fam'][i][1]+300])\n",
    "                    if not grpSp[grp][tree]['Fam'][i-1][1] > grpSp[grp][tree]['Fam'][i][0]-300:\n",
    "                        grpSp[grp][tree]['Up'].append([grpSp[grp][tree]['Fam'][i][0]-300, end])\n",
    "                    else:\n",
    "                        grpSp[grp][tree]['Up'].append([grpSp[grp][tree]['Fam'][i-1][1], end])\n",
    "                else:\n",
    "                    grpSp[grp][tree]['Down'].append([grpSp[grp][tree]['Fam'][i][1]+1, grpSp[grp][tree]['Fam'][i][1]+300])\n",
    "                    grpSp[grp][tree]['Up'].append([grpSp[grp][tree]['Fam'][i][0]-300, end])            "
   ]
  },
  {
   "cell_type": "markdown",
   "id": "06b58730",
   "metadata": {},
   "source": [
    "grpSp -> {Species group:{tree:{**Down**:[list of coord],\n",
    "                               **Fam**:[list of coord],\n",
    "                               **Rest**:[list of coord],\n",
    "                               **Up**:[list of coord],}}}"
   ]
  },
  {
   "cell_type": "markdown",
   "id": "d8010e22",
   "metadata": {},
   "source": [
    "# Ratio seq vs nb gene"
   ]
  },
  {
   "cell_type": "code",
   "execution_count": 4,
   "id": "77f42b32",
   "metadata": {
    "scrolled": true
   },
   "outputs": [
    {
     "name": "stderr",
     "output_type": "stream",
     "text": [
      "/home/anais/software/projectsVp3/lib/python3.9/site-packages/IPython/core/interactiveshell.py:3169: DtypeWarning: Columns (2) have mixed types.Specify dtype option on import or set low_memory=False.\n",
      "  has_raised = await self.run_ast_nodes(code_ast.body, cell_name,\n",
      "/home/anais/software/projectsVp3/lib/python3.9/site-packages/IPython/core/interactiveshell.py:3169: DtypeWarning: Columns (4) have mixed types.Specify dtype option on import or set low_memory=False.\n",
      "  has_raised = await self.run_ast_nodes(code_ast.body, cell_name,\n",
      "/home/anais/software/projectsVp3/lib/python3.9/site-packages/IPython/core/interactiveshell.py:3169: DtypeWarning: Columns (11) have mixed types.Specify dtype option on import or set low_memory=False.\n",
      "  has_raised = await self.run_ast_nodes(code_ast.body, cell_name,\n",
      "/home/anais/software/projectsVp3/lib/python3.9/site-packages/IPython/core/interactiveshell.py:3169: DtypeWarning: Columns (3) have mixed types.Specify dtype option on import or set low_memory=False.\n",
      "  has_raised = await self.run_ast_nodes(code_ast.body, cell_name,\n",
      "/home/anais/software/projectsVp3/lib/python3.9/site-packages/IPython/core/interactiveshell.py:3169: DtypeWarning: Columns (1) have mixed types.Specify dtype option on import or set low_memory=False.\n",
      "  has_raised = await self.run_ast_nodes(code_ast.body, cell_name,\n",
      "/home/anais/software/projectsVp3/lib/python3.9/site-packages/IPython/core/interactiveshell.py:3169: DtypeWarning: Columns (6) have mixed types.Specify dtype option on import or set low_memory=False.\n",
      "  has_raised = await self.run_ast_nodes(code_ast.body, cell_name,\n",
      "/home/anais/software/projectsVp3/lib/python3.9/site-packages/IPython/core/interactiveshell.py:3169: DtypeWarning: Columns (0) have mixed types.Specify dtype option on import or set low_memory=False.\n",
      "  has_raised = await self.run_ast_nodes(code_ast.body, cell_name,\n",
      "/home/anais/software/projectsVp3/lib/python3.9/site-packages/IPython/core/interactiveshell.py:3169: DtypeWarning: Columns (15) have mixed types.Specify dtype option on import or set low_memory=False.\n",
      "  has_raised = await self.run_ast_nodes(code_ast.body, cell_name,\n",
      "/home/anais/software/projectsVp3/lib/python3.9/site-packages/IPython/core/interactiveshell.py:3169: DtypeWarning: Columns (5) have mixed types.Specify dtype option on import or set low_memory=False.\n",
      "  has_raised = await self.run_ast_nodes(code_ast.body, cell_name,\n",
      "/home/anais/software/projectsVp3/lib/python3.9/site-packages/IPython/core/interactiveshell.py:3169: DtypeWarning: Columns (8) have mixed types.Specify dtype option on import or set low_memory=False.\n",
      "  has_raised = await self.run_ast_nodes(code_ast.body, cell_name,\n",
      "/home/anais/software/projectsVp3/lib/python3.9/site-packages/IPython/core/interactiveshell.py:3169: DtypeWarning: Columns (22) have mixed types.Specify dtype option on import or set low_memory=False.\n",
      "  has_raised = await self.run_ast_nodes(code_ast.body, cell_name,\n",
      "/home/anais/software/projectsVp3/lib/python3.9/site-packages/IPython/core/interactiveshell.py:3169: DtypeWarning: Columns (7) have mixed types.Specify dtype option on import or set low_memory=False.\n",
      "  has_raised = await self.run_ast_nodes(code_ast.body, cell_name,\n",
      "/home/anais/software/projectsVp3/lib/python3.9/site-packages/IPython/core/interactiveshell.py:3169: DtypeWarning: Columns (10) have mixed types.Specify dtype option on import or set low_memory=False.\n",
      "  has_raised = await self.run_ast_nodes(code_ast.body, cell_name,\n",
      "/home/anais/software/projectsVp3/lib/python3.9/site-packages/IPython/core/interactiveshell.py:3169: DtypeWarning: Columns (9) have mixed types.Specify dtype option on import or set low_memory=False.\n",
      "  has_raised = await self.run_ast_nodes(code_ast.body, cell_name,\n",
      "/home/anais/software/projectsVp3/lib/python3.9/site-packages/IPython/core/interactiveshell.py:3169: DtypeWarning: Columns (12) have mixed types.Specify dtype option on import or set low_memory=False.\n",
      "  has_raised = await self.run_ast_nodes(code_ast.body, cell_name,\n",
      "/home/anais/software/projectsVp3/lib/python3.9/site-packages/IPython/core/interactiveshell.py:3169: DtypeWarning: Columns (16) have mixed types.Specify dtype option on import or set low_memory=False.\n",
      "  has_raised = await self.run_ast_nodes(code_ast.body, cell_name,\n",
      "/home/anais/software/projectsVp3/lib/python3.9/site-packages/IPython/core/interactiveshell.py:3169: DtypeWarning: Columns (19) have mixed types.Specify dtype option on import or set low_memory=False.\n",
      "  has_raised = await self.run_ast_nodes(code_ast.body, cell_name,\n",
      "/home/anais/software/projectsVp3/lib/python3.9/site-packages/IPython/core/interactiveshell.py:3169: DtypeWarning: Columns (23) have mixed types.Specify dtype option on import or set low_memory=False.\n",
      "  has_raised = await self.run_ast_nodes(code_ast.body, cell_name,\n",
      "/home/anais/software/projectsVp3/lib/python3.9/site-packages/IPython/core/interactiveshell.py:3169: DtypeWarning: Columns (14) have mixed types.Specify dtype option on import or set low_memory=False.\n",
      "  has_raised = await self.run_ast_nodes(code_ast.body, cell_name,\n",
      "/home/anais/software/projectsVp3/lib/python3.9/site-packages/IPython/core/interactiveshell.py:3169: DtypeWarning: Columns (20) have mixed types.Specify dtype option on import or set low_memory=False.\n",
      "  has_raised = await self.run_ast_nodes(code_ast.body, cell_name,\n",
      "/home/anais/software/projectsVp3/lib/python3.9/site-packages/IPython/core/interactiveshell.py:3169: DtypeWarning: Columns (13) have mixed types.Specify dtype option on import or set low_memory=False.\n",
      "  has_raised = await self.run_ast_nodes(code_ast.body, cell_name,\n",
      "/home/anais/software/projectsVp3/lib/python3.9/site-packages/IPython/core/interactiveshell.py:3169: DtypeWarning: Columns (21) have mixed types.Specify dtype option on import or set low_memory=False.\n",
      "  has_raised = await self.run_ast_nodes(code_ast.body, cell_name,\n",
      "/home/anais/software/projectsVp3/lib/python3.9/site-packages/IPython/core/interactiveshell.py:3169: DtypeWarning: Columns (18) have mixed types.Specify dtype option on import or set low_memory=False.\n",
      "  has_raised = await self.run_ast_nodes(code_ast.body, cell_name,\n",
      "/home/anais/software/projectsVp3/lib/python3.9/site-packages/IPython/core/interactiveshell.py:3169: DtypeWarning: Columns (17) have mixed types.Specify dtype option on import or set low_memory=False.\n",
      "  has_raised = await self.run_ast_nodes(code_ast.body, cell_name,\n",
      "/home/anais/software/projectsVp3/lib/python3.9/site-packages/IPython/core/interactiveshell.py:3169: DtypeWarning: Columns (27) have mixed types.Specify dtype option on import or set low_memory=False.\n",
      "  has_raised = await self.run_ast_nodes(code_ast.body, cell_name,\n",
      "/home/anais/software/projectsVp3/lib/python3.9/site-packages/IPython/core/interactiveshell.py:3169: DtypeWarning: Columns (4,31) have mixed types.Specify dtype option on import or set low_memory=False.\n",
      "  has_raised = await self.run_ast_nodes(code_ast.body, cell_name,\n",
      "/home/anais/software/projectsVp3/lib/python3.9/site-packages/IPython/core/interactiveshell.py:3169: DtypeWarning: Columns (28) have mixed types.Specify dtype option on import or set low_memory=False.\n",
      "  has_raised = await self.run_ast_nodes(code_ast.body, cell_name,\n",
      "/home/anais/software/projectsVp3/lib/python3.9/site-packages/IPython/core/interactiveshell.py:3169: DtypeWarning: Columns (24) have mixed types.Specify dtype option on import or set low_memory=False.\n",
      "  has_raised = await self.run_ast_nodes(code_ast.body, cell_name,\n",
      "/home/anais/software/projectsVp3/lib/python3.9/site-packages/IPython/core/interactiveshell.py:3169: DtypeWarning: Columns (25) have mixed types.Specify dtype option on import or set low_memory=False.\n",
      "  has_raised = await self.run_ast_nodes(code_ast.body, cell_name,\n",
      "/home/anais/software/projectsVp3/lib/python3.9/site-packages/IPython/core/interactiveshell.py:3169: DtypeWarning: Columns (38) have mixed types.Specify dtype option on import or set low_memory=False.\n",
      "  has_raised = await self.run_ast_nodes(code_ast.body, cell_name,\n",
      "/home/anais/software/projectsVp3/lib/python3.9/site-packages/IPython/core/interactiveshell.py:3169: DtypeWarning: Columns (29) have mixed types.Specify dtype option on import or set low_memory=False.\n",
      "  has_raised = await self.run_ast_nodes(code_ast.body, cell_name,\n"
     ]
    },
    {
     "name": "stderr",
     "output_type": "stream",
     "text": [
      "/home/anais/software/projectsVp3/lib/python3.9/site-packages/IPython/core/interactiveshell.py:3169: DtypeWarning: Columns (30) have mixed types.Specify dtype option on import or set low_memory=False.\n",
      "  has_raised = await self.run_ast_nodes(code_ast.body, cell_name,\n",
      "/home/anais/software/projectsVp3/lib/python3.9/site-packages/IPython/core/interactiveshell.py:3169: DtypeWarning: Columns (31) have mixed types.Specify dtype option on import or set low_memory=False.\n",
      "  has_raised = await self.run_ast_nodes(code_ast.body, cell_name,\n",
      "/home/anais/software/projectsVp3/lib/python3.9/site-packages/IPython/core/interactiveshell.py:3169: DtypeWarning: Columns (44) have mixed types.Specify dtype option on import or set low_memory=False.\n",
      "  has_raised = await self.run_ast_nodes(code_ast.body, cell_name,\n",
      "/home/anais/software/projectsVp3/lib/python3.9/site-packages/IPython/core/interactiveshell.py:3169: DtypeWarning: Columns (37) have mixed types.Specify dtype option on import or set low_memory=False.\n",
      "  has_raised = await self.run_ast_nodes(code_ast.body, cell_name,\n",
      "/home/anais/software/projectsVp3/lib/python3.9/site-packages/IPython/core/interactiveshell.py:3169: DtypeWarning: Columns (34) have mixed types.Specify dtype option on import or set low_memory=False.\n",
      "  has_raised = await self.run_ast_nodes(code_ast.body, cell_name,\n",
      "/home/anais/software/projectsVp3/lib/python3.9/site-packages/IPython/core/interactiveshell.py:3169: DtypeWarning: Columns (41) have mixed types.Specify dtype option on import or set low_memory=False.\n",
      "  has_raised = await self.run_ast_nodes(code_ast.body, cell_name,\n",
      "/home/anais/software/projectsVp3/lib/python3.9/site-packages/IPython/core/interactiveshell.py:3169: DtypeWarning: Columns (33) have mixed types.Specify dtype option on import or set low_memory=False.\n",
      "  has_raised = await self.run_ast_nodes(code_ast.body, cell_name,\n",
      "/home/anais/software/projectsVp3/lib/python3.9/site-packages/IPython/core/interactiveshell.py:3169: DtypeWarning: Columns (26) have mixed types.Specify dtype option on import or set low_memory=False.\n",
      "  has_raised = await self.run_ast_nodes(code_ast.body, cell_name,\n",
      "/home/anais/software/projectsVp3/lib/python3.9/site-packages/IPython/core/interactiveshell.py:3169: DtypeWarning: Columns (32) have mixed types.Specify dtype option on import or set low_memory=False.\n",
      "  has_raised = await self.run_ast_nodes(code_ast.body, cell_name,\n",
      "/home/anais/software/projectsVp3/lib/python3.9/site-packages/IPython/core/interactiveshell.py:3169: DtypeWarning: Columns (47) have mixed types.Specify dtype option on import or set low_memory=False.\n",
      "  has_raised = await self.run_ast_nodes(code_ast.body, cell_name,\n",
      "/home/anais/software/projectsVp3/lib/python3.9/site-packages/IPython/core/interactiveshell.py:3169: DtypeWarning: Columns (10,27) have mixed types.Specify dtype option on import or set low_memory=False.\n",
      "  has_raised = await self.run_ast_nodes(code_ast.body, cell_name,\n",
      "/home/anais/software/projectsVp3/lib/python3.9/site-packages/IPython/core/interactiveshell.py:3169: DtypeWarning: Columns (39) have mixed types.Specify dtype option on import or set low_memory=False.\n",
      "  has_raised = await self.run_ast_nodes(code_ast.body, cell_name,\n"
     ]
    }
   ],
   "source": [
    "Dico = {'SpGrp': [], 'RatioSeq': [], 'NbGene':[], 'Tree': []}\n",
    "\n",
    "for grp in LengthAlignment:\n",
    "    for t in LengthAlignment[grp]:\n",
    "        try:\n",
    "            #read processed alignment\n",
    "            df = pd.read_csv('/home/anais/Documents/Projet/G4Evolution/ProcessedAlignOrtho/'+grp+'/ProcAlignment_'+t+'.csv', sep='\\t')\n",
    "        except:\n",
    "            #it is possible that some trees didn't had their alignment\n",
    "            #and or the processing of the alignment\n",
    "            print('No Ali/Proce : ',grp, tree)\n",
    "        else:\n",
    "            #get the number of genes in a tree\n",
    "            nbLines = subprocess.check_output(\"cat /home/anais/Documents/Projet/G4Evolution/listOrtho/\"+grp+\"/grpOrtho_\"+t+\".txt\", shell=True)\n",
    "            nbLines = nbLines.decode(\"utf-8\")\n",
    "            length = len(nbLines.split('\\n'))\n",
    "            Dico['NbGene'].append(length) #nb gene for this tree\n",
    "            Dico['SpGrp'].append(grp) #species group\n",
    "            Dico['Tree'].append(t) #tree identifier\n",
    "            Dico['RatioSeq'].append(df['RatioSeq'][0:-1].mean()) #get the ratio of sequence\n",
    "            #(for each column we compute the nb of gap on the number of tot sequences)"
   ]
  },
  {
   "cell_type": "markdown",
   "id": "cc103c70",
   "metadata": {},
   "source": [
    "A dataframe is made with row : tree  -  Nb gene  -  Ratio of sequence  -  species group\n",
    "\n",
    "It allows to get a grapic for each species group with x: number of gene in a tree and y: ratio of sequences"
   ]
  },
  {
   "cell_type": "code",
   "execution_count": 5,
   "id": "85fd5b41",
   "metadata": {},
   "outputs": [
    {
     "name": "stdout",
     "output_type": "stream",
     "text": [
      "Arc\n"
     ]
    },
    {
     "data": {
      "image/png": "[encoded data removed]",
      "text/plain": [
       "<Figure size 432x288 with 1 Axes>"
      ]
     },
     "metadata": {
      "needs_background": "light"
     },
     "output_type": "display_data"
    },
    {
     "name": "stdout",
     "output_type": "stream",
     "text": [
      "ArcBac\n"
     ]
    },
    {
     "data": {
      "image/png": "[encoded data removed]",
      "text/plain": [
       "<Figure size 432x288 with 1 Axes>"
      ]
     },
     "metadata": {
      "needs_background": "light"
     },
     "output_type": "display_data"
    },
    {
     "name": "stdout",
     "output_type": "stream",
     "text": [
      "ArcBacEuk\n"
     ]
    },
    {
     "data": {
      "image/png": "[encoded data removed]",
      "text/plain": [
       "<Figure size 432x288 with 1 Axes>"
      ]
     },
     "metadata": {
      "needs_background": "light"
     },
     "output_type": "display_data"
    },
    {
     "name": "stdout",
     "output_type": "stream",
     "text": [
      "ArcEuk\n"
     ]
    },
    {
     "data": {
      "image/png": "[encoded data removed]",
      "text/plain": [
       "<Figure size 432x288 with 1 Axes>"
      ]
     },
     "metadata": {
      "needs_background": "light"
     },
     "output_type": "display_data"
    },
    {
     "name": "stdout",
     "output_type": "stream",
     "text": [
      "Bac\n"
     ]
    },
    {
     "data": {
      "image/png": "[encoded data removed]",
      "text/plain": [
       "<Figure size 432x288 with 1 Axes>"
      ]
     },
     "metadata": {
      "needs_background": "light"
     },
     "output_type": "display_data"
    },
    {
     "name": "stdout",
     "output_type": "stream",
     "text": [
      "BacEuk\n"
     ]
    },
    {
     "data": {
      "image/png": "[encoded data removed]",
      "text/plain": [
       "<Figure size 432x288 with 1 Axes>"
      ]
     },
     "metadata": {
      "needs_background": "light"
     },
     "output_type": "display_data"
    },
    {
     "name": "stdout",
     "output_type": "stream",
     "text": [
      "Euk\n"
     ]
    },
    {
     "data": {
      "image/png": "[encoded data removed]",
      "text/plain": [
       "<Figure size 432x288 with 1 Axes>"
      ]
     },
     "metadata": {
      "needs_background": "light"
     },
     "output_type": "display_data"
    }
   ],
   "source": [
    "dfTmp = pd.DataFrame(data=Dico)\n",
    "groups = dfTmp.groupby('SpGrp')\n",
    "for name, group in groups:\n",
    "    print(name)\n",
    "    sns.scatterplot(data=group, x=\"NbGene\", y=\"RatioSeq\")\n",
    "    plt.show()"
   ]
  },
  {
   "cell_type": "markdown",
   "id": "5440ee44",
   "metadata": {},
   "source": [
    "- Arc -> alignments are globally above 70% and the number of gene doesn't seem to impact the quality\n",
    "- ArcBac -> alignments are mainly above 70% but the more genes their are, the lowest the ratio of sequence is. A threshold around 70% might be needed but will remove trees with 20+ genes.\n",
    "- ArcBacEuk -> the ratio of seq is mainly UNDER 40%, and we saw that the more genes there are in a tree, less good is the ratio\n",
    "- ArcEuk -> idem ArcBacEuk\n",
    "- Bac -> almost all over 60%, the ratio is getting a bit lower with the gene number but not that much\n",
    "- BacEuk -> as ArcEukBac et ArcEuk\n",
    "- Euk -> huge smir, threshold over 50% but will remove most of the alignments."
   ]
  },
  {
   "cell_type": "markdown",
   "id": "a187c736",
   "metadata": {},
   "source": [
    "**A PARTIR DE MAINTEANT IL FAUT FILTRER LES DATA POUR ENLEVER LES GRP D'ORTHO AVEC DES ALIGNEMENS PAS BON**\n",
    "\n",
    "Seuil du ratio de séquence 55% pour toutes les espèces, ça va faire du gros ménage mais je veux pas avoir de super alignment avec des mauvais juste pour garder le plus d'arbre possible.\n",
    "\n",
    "# Stat on familly conservation and location in the alignment"
   ]
  },
  {
   "cell_type": "code",
   "execution_count": 6,
   "id": "ee325e66",
   "metadata": {},
   "outputs": [
    {
     "data": {
      "text/html": [
       "<div>\n",
       "<style scoped>\n",
       "    .dataframe tbody tr th:only-of-type {\n",
       "        vertical-align: middle;\n",
       "    }\n",
       "\n",
       "    .dataframe tbody tr th {\n",
       "        vertical-align: top;\n",
       "    }\n",
       "\n",
       "    .dataframe thead th {\n",
       "        text-align: right;\n",
       "    }\n",
       "</style>\n",
       "<table border=\"1\" class=\"dataframe\">\n",
       "  <thead>\n",
       "    <tr style=\"text-align: right;\">\n",
       "      <th></th>\n",
       "      <th>SpGrp</th>\n",
       "      <th>RatioSeq</th>\n",
       "      <th>NbGene</th>\n",
       "      <th>Tree</th>\n",
       "    </tr>\n",
       "  </thead>\n",
       "  <tbody>\n",
       "    <tr>\n",
       "      <th>0</th>\n",
       "      <td>Arc</td>\n",
       "      <td>0.812538</td>\n",
       "      <td>10</td>\n",
       "      <td>13111</td>\n",
       "    </tr>\n",
       "    <tr>\n",
       "      <th>1</th>\n",
       "      <td>Arc</td>\n",
       "      <td>0.910683</td>\n",
       "      <td>11</td>\n",
       "      <td>13118</td>\n",
       "    </tr>\n",
       "    <tr>\n",
       "      <th>2</th>\n",
       "      <td>Arc</td>\n",
       "      <td>0.899340</td>\n",
       "      <td>7</td>\n",
       "      <td>13119</td>\n",
       "    </tr>\n",
       "    <tr>\n",
       "      <th>3</th>\n",
       "      <td>Arc</td>\n",
       "      <td>0.907799</td>\n",
       "      <td>8</td>\n",
       "      <td>13120</td>\n",
       "    </tr>\n",
       "    <tr>\n",
       "      <th>4</th>\n",
       "      <td>Arc</td>\n",
       "      <td>0.806787</td>\n",
       "      <td>10</td>\n",
       "      <td>13129</td>\n",
       "    </tr>\n",
       "    <tr>\n",
       "      <th>...</th>\n",
       "      <td>...</td>\n",
       "      <td>...</td>\n",
       "      <td>...</td>\n",
       "      <td>...</td>\n",
       "    </tr>\n",
       "    <tr>\n",
       "      <th>519</th>\n",
       "      <td>ArcBacEuk</td>\n",
       "      <td>0.699877</td>\n",
       "      <td>22</td>\n",
       "      <td>225</td>\n",
       "    </tr>\n",
       "    <tr>\n",
       "      <th>520</th>\n",
       "      <td>ArcBacEuk</td>\n",
       "      <td>0.684795</td>\n",
       "      <td>24</td>\n",
       "      <td>300</td>\n",
       "    </tr>\n",
       "    <tr>\n",
       "      <th>521</th>\n",
       "      <td>ArcBacEuk</td>\n",
       "      <td>0.674314</td>\n",
       "      <td>36</td>\n",
       "      <td>329</td>\n",
       "    </tr>\n",
       "    <tr>\n",
       "      <th>522</th>\n",
       "      <td>ArcBacEuk</td>\n",
       "      <td>0.694059</td>\n",
       "      <td>32</td>\n",
       "      <td>369</td>\n",
       "    </tr>\n",
       "    <tr>\n",
       "      <th>523</th>\n",
       "      <td>ArcBacEuk</td>\n",
       "      <td>0.604015</td>\n",
       "      <td>35</td>\n",
       "      <td>502</td>\n",
       "    </tr>\n",
       "  </tbody>\n",
       "</table>\n",
       "<p>524 rows × 4 columns</p>\n",
       "</div>"
      ],
      "text/plain": [
       "         SpGrp  RatioSeq  NbGene   Tree\n",
       "0          Arc  0.812538      10  13111\n",
       "1          Arc  0.910683      11  13118\n",
       "2          Arc  0.899340       7  13119\n",
       "3          Arc  0.907799       8  13120\n",
       "4          Arc  0.806787      10  13129\n",
       "..         ...       ...     ...    ...\n",
       "519  ArcBacEuk  0.699877      22    225\n",
       "520  ArcBacEuk  0.684795      24    300\n",
       "521  ArcBacEuk  0.674314      36    329\n",
       "522  ArcBacEuk  0.694059      32    369\n",
       "523  ArcBacEuk  0.604015      35    502\n",
       "\n",
       "[524 rows x 4 columns]"
      ]
     },
     "execution_count": 6,
     "metadata": {},
     "output_type": "execute_result"
    }
   ],
   "source": [
    "dfTree = pd.DataFrame()\n",
    "dfTree = dfTree.append(dfTmp[dfTmp.RatioSeq >= 0.55])\n",
    "dfTree.reset_index(drop=True)"
   ]
  },
  {
   "cell_type": "markdown",
   "id": "65fa2f49",
   "metadata": {},
   "source": [
    "Once the trees are filter to contain only alignments with more than 55% of nt, there 524 spread through all living kingdom. In the next steps, information about alignment location are going to be added so we will have info about all, down/upstream, familly and rest."
   ]
  },
  {
   "cell_type": "code",
   "execution_count": 7,
   "id": "552fea11",
   "metadata": {
    "scrolled": true
   },
   "outputs": [
    {
     "name": "stderr",
     "output_type": "stream",
     "text": [
      "/home/anais/software/projectsVp3/lib/python3.9/site-packages/IPython/core/interactiveshell.py:3169: DtypeWarning: Columns (5) have mixed types.Specify dtype option on import or set low_memory=False.\n",
      "  has_raised = await self.run_ast_nodes(code_ast.body, cell_name,\n"
     ]
    }
   ],
   "source": [
    "dfDico = dfTree.to_dict('split')\n",
    "dfTree[\"Loc\"] = \"All\"\n",
    "dfTree[\"Measure\"] = \"RatioSeq\"\n",
    "# print(dfDico['columns'])\n",
    "for i in range(0,len(dfDico['data'])):\n",
    "    grp = dfDico['data'][i][0]\n",
    "    tree = dfDico['data'][i][3]\n",
    "    nbGene = dfDico['data'][i][2]\n",
    "    df = pd.read_csv('/home/anais/Documents/Projet/G4Evolution/ProcessedAlignOrtho/'+grp+'/ProcAlignment_'+tree+'.csv', sep='\\t')\n",
    "    entroFam, idFam, entroUp, idUp, entroRest, idRest, entroDown, idDown, ratioFam, ratioUp, ratioDown, ratioRest = ([] for i in range(12))\n",
    "    for f in grpSp[grp][tree]['Fam']:\n",
    "        entroFam.append(df['Entropy'][f[0]:f[1]].mean())\n",
    "        idFam.append(df['Identiy'][f[0]:f[1]].mean())\n",
    "        ratioFam.append(df['RatioSeq'][f[0]:f[1]].mean())\n",
    "    for f in grpSp[grp][tree]['Up']:\n",
    "        entroUp.append(df['Entropy'][f[0]:f[1]].mean())\n",
    "        idUp.append(df['Identiy'][f[0]:f[1]].mean())\n",
    "        ratioUp.append(df['RatioSeq'][f[0]:f[1]].mean())\n",
    "#         if tree == '14599' and grp == 'ArcBac':\n",
    "#             print(tree, grp, f)\n",
    "#             print(entroUp)\n",
    "    for f in grpSp[grp][tree]['Down']:\n",
    "        entroDown.append(df['Entropy'][f[0]:f[1]].mean())\n",
    "        idDown.append(df['Identiy'][f[0]:f[1]].mean())\n",
    "        ratioDown.append(df['RatioSeq'][f[0]:f[1]].mean())\n",
    "    for f in grpSp[grp][tree]['Rest']:\n",
    "        entroRest.append(df['Entropy'][f[0]:f[1]].mean())\n",
    "        idRest.append(df['Identiy'][f[0]:f[1]].mean())\n",
    "        ratioRest.append(df['RatioSeq'][f[0]:f[1]].mean())\n",
    "    if idRest != []:\n",
    "        row = {'SpGrp': [grp, grp, grp, grp, grp, grp, grp, grp, grp, grp, grp, grp],\n",
    "               'RatioSeq': [sum(entroFam)/len(entroFam), sum(entroUp)/len(entroUp), sum(entroDown)/len(entroDown), sum(entroRest)/len(entroRest),\n",
    "                           sum(idFam)/len(idFam), sum(idUp)/len(idUp), sum(idDown)/len(idDown), sum(idRest)/len(idRest),\n",
    "                           sum(ratioFam)/len(ratioFam), sum(ratioUp)/len(ratioUp), sum(ratioDown)/len(ratioDown), sum(ratioRest)/len(ratioRest)],\n",
    "               'NbGene': [nbGene, nbGene, nbGene, nbGene, nbGene, nbGene, nbGene, nbGene, nbGene, nbGene, nbGene, nbGene],\n",
    "               'Tree': [tree, tree, tree, tree, tree, tree, tree, tree, tree, tree, tree, tree],\n",
    "               'Loc': ['Fam', 'Up', 'Down', 'Rest', 'Fam', 'Up', 'Down', 'Rest', 'Fam', 'Up', 'Down', 'Rest'],\n",
    "               'Measure': ['Entropy', 'Entropy', 'Entropy', 'Entropy',\n",
    "                          'Identiy', 'Identiy', 'Identiy', 'Identiy',\n",
    "                          'RatioSeq', 'RatioSeq', 'RatioSeq', 'RatioSeq']}\n",
    "        dfTree = dfTree.append(pd.DataFrame(data=row))"
   ]
  },
  {
   "cell_type": "code",
   "execution_count": 8,
   "id": "5649dafd",
   "metadata": {},
   "outputs": [
    {
     "data": {
      "text/html": [
       "<div>\n",
       "<style scoped>\n",
       "    .dataframe tbody tr th:only-of-type {\n",
       "        vertical-align: middle;\n",
       "    }\n",
       "\n",
       "    .dataframe tbody tr th {\n",
       "        vertical-align: top;\n",
       "    }\n",
       "\n",
       "    .dataframe thead th {\n",
       "        text-align: right;\n",
       "    }\n",
       "</style>\n",
       "<table border=\"1\" class=\"dataframe\">\n",
       "  <thead>\n",
       "    <tr style=\"text-align: right;\">\n",
       "      <th></th>\n",
       "      <th>SpGrp</th>\n",
       "      <th>Value</th>\n",
       "      <th>NbGene</th>\n",
       "      <th>Tree</th>\n",
       "      <th>Loc</th>\n",
       "      <th>Measure</th>\n",
       "    </tr>\n",
       "  </thead>\n",
       "  <tbody>\n",
       "    <tr>\n",
       "      <th>0</th>\n",
       "      <td>Arc</td>\n",
       "      <td>0.812538</td>\n",
       "      <td>10</td>\n",
       "      <td>13111</td>\n",
       "      <td>All</td>\n",
       "      <td>RatioSeq</td>\n",
       "    </tr>\n",
       "    <tr>\n",
       "      <th>1</th>\n",
       "      <td>Arc</td>\n",
       "      <td>0.910683</td>\n",
       "      <td>11</td>\n",
       "      <td>13118</td>\n",
       "      <td>All</td>\n",
       "      <td>RatioSeq</td>\n",
       "    </tr>\n",
       "    <tr>\n",
       "      <th>2</th>\n",
       "      <td>Arc</td>\n",
       "      <td>0.899340</td>\n",
       "      <td>7</td>\n",
       "      <td>13119</td>\n",
       "      <td>All</td>\n",
       "      <td>RatioSeq</td>\n",
       "    </tr>\n",
       "    <tr>\n",
       "      <th>3</th>\n",
       "      <td>Arc</td>\n",
       "      <td>0.907799</td>\n",
       "      <td>8</td>\n",
       "      <td>13120</td>\n",
       "      <td>All</td>\n",
       "      <td>RatioSeq</td>\n",
       "    </tr>\n",
       "    <tr>\n",
       "      <th>4</th>\n",
       "      <td>Arc</td>\n",
       "      <td>0.806787</td>\n",
       "      <td>10</td>\n",
       "      <td>13129</td>\n",
       "      <td>All</td>\n",
       "      <td>RatioSeq</td>\n",
       "    </tr>\n",
       "    <tr>\n",
       "      <th>...</th>\n",
       "      <td>...</td>\n",
       "      <td>...</td>\n",
       "      <td>...</td>\n",
       "      <td>...</td>\n",
       "      <td>...</td>\n",
       "      <td>...</td>\n",
       "    </tr>\n",
       "    <tr>\n",
       "      <th>7</th>\n",
       "      <td>ArcBacEuk</td>\n",
       "      <td>0.607067</td>\n",
       "      <td>35</td>\n",
       "      <td>502</td>\n",
       "      <td>Rest</td>\n",
       "      <td>Identiy</td>\n",
       "    </tr>\n",
       "    <tr>\n",
       "      <th>8</th>\n",
       "      <td>ArcBacEuk</td>\n",
       "      <td>0.577783</td>\n",
       "      <td>35</td>\n",
       "      <td>502</td>\n",
       "      <td>Fam</td>\n",
       "      <td>RatioSeq</td>\n",
       "    </tr>\n",
       "    <tr>\n",
       "      <th>9</th>\n",
       "      <td>ArcBacEuk</td>\n",
       "      <td>0.620966</td>\n",
       "      <td>35</td>\n",
       "      <td>502</td>\n",
       "      <td>Up</td>\n",
       "      <td>RatioSeq</td>\n",
       "    </tr>\n",
       "    <tr>\n",
       "      <th>10</th>\n",
       "      <td>ArcBacEuk</td>\n",
       "      <td>0.624015</td>\n",
       "      <td>35</td>\n",
       "      <td>502</td>\n",
       "      <td>Down</td>\n",
       "      <td>RatioSeq</td>\n",
       "    </tr>\n",
       "    <tr>\n",
       "      <th>11</th>\n",
       "      <td>ArcBacEuk</td>\n",
       "      <td>0.645752</td>\n",
       "      <td>35</td>\n",
       "      <td>502</td>\n",
       "      <td>Rest</td>\n",
       "      <td>RatioSeq</td>\n",
       "    </tr>\n",
       "  </tbody>\n",
       "</table>\n",
       "<p>3092 rows × 6 columns</p>\n",
       "</div>"
      ],
      "text/plain": [
       "        SpGrp     Value  NbGene   Tree   Loc   Measure\n",
       "0         Arc  0.812538      10  13111   All  RatioSeq\n",
       "1         Arc  0.910683      11  13118   All  RatioSeq\n",
       "2         Arc  0.899340       7  13119   All  RatioSeq\n",
       "3         Arc  0.907799       8  13120   All  RatioSeq\n",
       "4         Arc  0.806787      10  13129   All  RatioSeq\n",
       "..        ...       ...     ...    ...   ...       ...\n",
       "7   ArcBacEuk  0.607067      35    502  Rest   Identiy\n",
       "8   ArcBacEuk  0.577783      35    502   Fam  RatioSeq\n",
       "9   ArcBacEuk  0.620966      35    502    Up  RatioSeq\n",
       "10  ArcBacEuk  0.624015      35    502  Down  RatioSeq\n",
       "11  ArcBacEuk  0.645752      35    502  Rest  RatioSeq\n",
       "\n",
       "[3092 rows x 6 columns]"
      ]
     },
     "execution_count": 8,
     "metadata": {},
     "output_type": "execute_result"
    }
   ],
   "source": [
    "dfTree.columns = ['SpGrp', 'Value', 'NbGene', 'Tree', 'Loc', 'Measure']\n",
    "dfTree"
   ]
  },
  {
   "cell_type": "code",
   "execution_count": 9,
   "id": "248afa37",
   "metadata": {
    "scrolled": true
   },
   "outputs": [
    {
     "name": "stdout",
     "output_type": "stream",
     "text": [
      "------------------Arc------------------\n",
      "         --------Entropy----------        \n"
     ]
    },
    {
     "data": {
      "image/png": "[encoded data removed]",
      "text/plain": [
       "<Figure size 432x288 with 1 Axes>"
      ]
     },
     "metadata": {
      "needs_background": "light"
     },
     "output_type": "display_data"
    },
    {
     "name": "stdout",
     "output_type": "stream",
     "text": [
      "         --------Identiy----------        \n"
     ]
    },
    {
     "data": {
      "image/png": "[encoded data removed]",
      "text/plain": [
       "<Figure size 432x288 with 1 Axes>"
      ]
     },
     "metadata": {
      "needs_background": "light"
     },
     "output_type": "display_data"
    },
    {
     "name": "stdout",
     "output_type": "stream",
     "text": [
      "         --------RatioSeq----------        \n"
     ]
    },
    {
     "data": {
      "image/png": "[encoded data removed]",
      "text/plain": [
       "<Figure size 432x288 with 1 Axes>"
      ]
     },
     "metadata": {
      "needs_background": "light"
     },
     "output_type": "display_data"
    },
    {
     "name": "stdout",
     "output_type": "stream",
     "text": [
      "------------------ArcBac------------------\n",
      "         --------Entropy----------        \n"
     ]
    },
    {
     "data": {
      "image/png": "[encoded data removed]",
      "text/plain": [
       "<Figure size 432x288 with 1 Axes>"
      ]
     },
     "metadata": {
      "needs_background": "light"
     },
     "output_type": "display_data"
    },
    {
     "name": "stdout",
     "output_type": "stream",
     "text": [
      "         --------Identiy----------        \n"
     ]
    },
    {
     "data": {
      "image/png": "[encoded data removed]",
      "text/plain": [
       "<Figure size 432x288 with 1 Axes>"
      ]
     },
     "metadata": {
      "needs_background": "light"
     },
     "output_type": "display_data"
    },
    {
     "name": "stdout",
     "output_type": "stream",
     "text": [
      "         --------RatioSeq----------        \n"
     ]
    },
    {
     "data": {
      "image/png": "[encoded data removed]",
      "text/plain": [
       "<Figure size 432x288 with 1 Axes>"
      ]
     },
     "metadata": {
      "needs_background": "light"
     },
     "output_type": "display_data"
    },
    {
     "name": "stdout",
     "output_type": "stream",
     "text": [
      "------------------ArcBacEuk------------------\n",
      "         --------Entropy----------        \n"
     ]
    },
    {
     "data": {
      "image/png": "[encoded data removed]",
      "text/plain": [
       "<Figure size 432x288 with 1 Axes>"
      ]
     },
     "metadata": {
      "needs_background": "light"
     },
     "output_type": "display_data"
    },
    {
     "name": "stdout",
     "output_type": "stream",
     "text": [
      "         --------Identiy----------        \n"
     ]
    },
    {
     "data": {
      "image/png": "[encoded data removed]",
      "text/plain": [
       "<Figure size 432x288 with 1 Axes>"
      ]
     },
     "metadata": {
      "needs_background": "light"
     },
     "output_type": "display_data"
    },
    {
     "name": "stdout",
     "output_type": "stream",
     "text": [
      "         --------RatioSeq----------        \n"
     ]
    },
    {
     "data": {
      "image/png": "[encoded data removed]",
      "text/plain": [
       "<Figure size 432x288 with 1 Axes>"
      ]
     },
     "metadata": {
      "needs_background": "light"
     },
     "output_type": "display_data"
    },
    {
     "name": "stdout",
     "output_type": "stream",
     "text": [
      "------------------Bac------------------\n",
      "         --------Entropy----------        \n"
     ]
    },
    {
     "data": {
      "image/png": "[encoded data removed]",
      "text/plain": [
       "<Figure size 432x288 with 1 Axes>"
      ]
     },
     "metadata": {
      "needs_background": "light"
     },
     "output_type": "display_data"
    },
    {
     "name": "stdout",
     "output_type": "stream",
     "text": [
      "         --------Identiy----------        \n"
     ]
    },
    {
     "data": {
      "image/png": "[encoded data removed]",
      "text/plain": [
       "<Figure size 432x288 with 1 Axes>"
      ]
     },
     "metadata": {
      "needs_background": "light"
     },
     "output_type": "display_data"
    },
    {
     "name": "stdout",
     "output_type": "stream",
     "text": [
      "         --------RatioSeq----------        \n"
     ]
    },
    {
     "data": {
      "image/png": "[encoded data removed]",
      "text/plain": [
       "<Figure size 432x288 with 1 Axes>"
      ]
     },
     "metadata": {
      "needs_background": "light"
     },
     "output_type": "display_data"
    },
    {
     "name": "stdout",
     "output_type": "stream",
     "text": [
      "------------------BacEuk------------------\n",
      "         --------Entropy----------        \n"
     ]
    },
    {
     "data": {
      "image/png": "[encoded data removed]",
      "text/plain": [
       "<Figure size 432x288 with 1 Axes>"
      ]
     },
     "metadata": {
      "needs_background": "light"
     },
     "output_type": "display_data"
    },
    {
     "name": "stdout",
     "output_type": "stream",
     "text": [
      "         --------Identiy----------        \n"
     ]
    },
    {
     "data": {
      "image/png": "[encoded data removed]",
      "text/plain": [
       "<Figure size 432x288 with 1 Axes>"
      ]
     },
     "metadata": {
      "needs_background": "light"
     },
     "output_type": "display_data"
    },
    {
     "name": "stdout",
     "output_type": "stream",
     "text": [
      "         --------RatioSeq----------        \n"
     ]
    },
    {
     "data": {
      "image/png": "[encoded data removed]",
      "text/plain": [
       "<Figure size 432x288 with 1 Axes>"
      ]
     },
     "metadata": {
      "needs_background": "light"
     },
     "output_type": "display_data"
    },
    {
     "name": "stdout",
     "output_type": "stream",
     "text": [
      "------------------Euk------------------\n",
      "         --------Entropy----------        \n"
     ]
    },
    {
     "data": {
      "image/png": "[encoded data removed]",
      "text/plain": [
       "<Figure size 432x288 with 1 Axes>"
      ]
     },
     "metadata": {
      "needs_background": "light"
     },
     "output_type": "display_data"
    },
    {
     "name": "stdout",
     "output_type": "stream",
     "text": [
      "         --------Identiy----------        \n"
     ]
    },
    {
     "data": {
      "image/png": "[encoded data removed]",
      "text/plain": [
       "<Figure size 432x288 with 1 Axes>"
      ]
     },
     "metadata": {
      "needs_background": "light"
     },
     "output_type": "display_data"
    },
    {
     "name": "stdout",
     "output_type": "stream",
     "text": [
      "         --------RatioSeq----------        \n"
     ]
    },
    {
     "data": {
      "image/png": "[encoded data removed]",
      "text/plain": [
       "<Figure size 432x288 with 1 Axes>"
      ]
     },
     "metadata": {
      "needs_background": "light"
     },
     "output_type": "display_data"
    }
   ],
   "source": [
    "groups = dfTree.groupby('SpGrp')\n",
    "for name, group in groups:\n",
    "    print('------------------'+name+'------------------')\n",
    "    groups2 = group.groupby('Measure')\n",
    "    for name2, group2 in groups2:\n",
    "        print('         --------'+name2+'----------        ')\n",
    "        if name2 == 'Entropy':\n",
    "            sns.boxplot(y=group2['Value'], x=group2['Loc'])\n",
    "            plt.ylim(0,2.4)\n",
    "            plt.show()\n",
    "        else:\n",
    "            if name2 == 'RatioSeq':\n",
    "                group2 = group2[group2.Loc != 'All']\n",
    "            sns.boxplot(y=group2['Value'], x=group2['Loc'])\n",
    "            plt.ylim(0,1.1)\n",
    "            plt.show()"
   ]
  },
  {
   "cell_type": "markdown",
   "id": "3e20112a",
   "metadata": {},
   "source": [
    "It doesn't seems that there is any important differences bewteen locations."
   ]
  },
  {
   "cell_type": "markdown",
   "id": "e2d09bf7",
   "metadata": {},
   "source": [
    "# Stat sur les arbres sans merge des familles\n",
    "## gap between fam"
   ]
  },
  {
   "cell_type": "code",
   "execution_count": 10,
   "id": "5ac57d75",
   "metadata": {},
   "outputs": [],
   "source": [
    "grpSp = {'Arc': [], 'Bac': [], 'Euk': [],\n",
    "         'ArcBac': [], 'ArcEuk': [], 'BacEuk': [],\n",
    "         'ArcBacEuk': []}\n",
    "grpSpNormalized = {'Arc': [], 'Bac': [], 'Euk': [],\n",
    "         'ArcBac': [], 'ArcEuk': [], 'BacEuk': [],\n",
    "         'ArcBacEuk': []}\n",
    "\n",
    "trees = {}\n",
    "treesLength = {}\n",
    "\n",
    "for grp in grpSp:\n",
    "    files = subprocess.check_output(\"ls /home/anais/Documents/Projet/G4Evolution/gapFamOrtho/\"+grp+\"/\", shell=True)\n",
    "    files = files.decode(\"utf-8\")\n",
    "    for file in files.split('\\n'):\n",
    "        if file != '':\n",
    "            if file.split('.')[0] in list(set(dfTree['Tree'])):\n",
    "                content = subprocess.check_output('cat /home/anais/Documents/Projet/G4Evolution/gapFamOrtho/'+grp+'/'+file, shell=True)\n",
    "                content = content.decode(\"utf-8\")\n",
    "                content = content.split('\\n')\n",
    "                if content[-1] == '':\n",
    "                    content = content[:-1]\n",
    "                content = [int(x) for x in content]\n",
    "                grpSp[grp].extend(content)\n",
    "                trees[file.split('.')[0]] = grp\n",
    "                treesLength[file.split('.')[0]] = {'Gaps': content}"
   ]
  },
  {
   "cell_type": "code",
   "execution_count": 11,
   "id": "94d79d33",
   "metadata": {},
   "outputs": [],
   "source": [
    "for grp in grpSp:       \n",
    "    for t in treesLength:\n",
    "        if grp == trees[t]:\n",
    "            nbLines = subprocess.check_output(\"cat /home/anais/Documents/Projet/G4Evolution/ProcessedAlignOrtho/\"+grp+\"/ProcAlignment_\"+t+\".csv | wc\", shell=True)\n",
    "            nbLines = nbLines.decode(\"utf-8\")\n",
    "            try:\n",
    "                length = int(nbLines.split(' ')[3])\n",
    "            except:\n",
    "                try:\n",
    "                    length = int(nbLines.split(' ')[4])\n",
    "                except:\n",
    "                    try:\n",
    "                        length = int(nbLines.split(' ')[5])\n",
    "                    except:\n",
    "                        try:\n",
    "                            length = int(nbLines.split(' ')[0])\n",
    "                        except:\n",
    "                            print(t)\n",
    "                            print(grp)\n",
    "                            print(nbLines.split(' '))\n",
    "\n",
    "            treesLength[t].update({'normGaps' : [x / length * 100 for x in treesLength[t]['Gaps']]})\n",
    "\n",
    "for grp in grpSp:\n",
    "    files = subprocess.check_output(\"ls /home/anais/Documents/Projet/G4Evolution/gapFamOrtho/\"+grp+\"/\", shell=True)\n",
    "    files = files.decode(\"utf-8\")\n",
    "    for file in files.split('\\n'):\n",
    "        if file != '':\n",
    "            t = file.split('.')[0]\n",
    "            if t in list(set(dfTree['Tree'])):\n",
    "                grpSpNormalized[grp].extend(treesLength[t]['normGaps'])\n",
    "                    \n",
    "# pprint(trees)\n",
    "# pprint(grpSp)"
   ]
  },
  {
   "cell_type": "code",
   "execution_count": 12,
   "id": "8c595796",
   "metadata": {
    "scrolled": true
   },
   "outputs": [
    {
     "name": "stdout",
     "output_type": "stream",
     "text": [
      "Arc\n"
     ]
    },
    {
     "name": "stderr",
     "output_type": "stream",
     "text": [
      "/home/anais/software/projectsVp3/lib/python3.9/site-packages/seaborn/_decorators.py:36: FutureWarning: Pass the following variable as a keyword arg: x. From version 0.12, the only valid positional argument will be `data`, and passing other arguments without an explicit keyword will result in an error or misinterpretation.\n",
      "  warnings.warn(\n"
     ]
    },
    {
     "data": {
      "image/png": "[encoded data removed]",
      "text/plain": [
       "<Figure size 432x288 with 1 Axes>"
      ]
     },
     "metadata": {
      "needs_background": "light"
     },
     "output_type": "display_data"
    },
    {
     "name": "stdout",
     "output_type": "stream",
     "text": [
      "Bac\n"
     ]
    },
    {
     "name": "stderr",
     "output_type": "stream",
     "text": [
      "/home/anais/software/projectsVp3/lib/python3.9/site-packages/seaborn/_decorators.py:36: FutureWarning: Pass the following variable as a keyword arg: x. From version 0.12, the only valid positional argument will be `data`, and passing other arguments without an explicit keyword will result in an error or misinterpretation.\n",
      "  warnings.warn(\n"
     ]
    },
    {
     "data": {
      "image/png": "[encoded data removed]",
      "text/plain": [
       "<Figure size 432x288 with 1 Axes>"
      ]
     },
     "metadata": {
      "needs_background": "light"
     },
     "output_type": "display_data"
    },
    {
     "name": "stdout",
     "output_type": "stream",
     "text": [
      "Euk\n"
     ]
    },
    {
     "name": "stderr",
     "output_type": "stream",
     "text": [
      "/home/anais/software/projectsVp3/lib/python3.9/site-packages/seaborn/_decorators.py:36: FutureWarning: Pass the following variable as a keyword arg: x. From version 0.12, the only valid positional argument will be `data`, and passing other arguments without an explicit keyword will result in an error or misinterpretation.\n",
      "  warnings.warn(\n"
     ]
    },
    {
     "data": {
      "image/png": "[encoded data removed]",
      "text/plain": [
       "<Figure size 432x288 with 1 Axes>"
      ]
     },
     "metadata": {
      "needs_background": "light"
     },
     "output_type": "display_data"
    },
    {
     "name": "stdout",
     "output_type": "stream",
     "text": [
      "ArcBac\n"
     ]
    },
    {
     "name": "stderr",
     "output_type": "stream",
     "text": [
      "/home/anais/software/projectsVp3/lib/python3.9/site-packages/seaborn/_decorators.py:36: FutureWarning: Pass the following variable as a keyword arg: x. From version 0.12, the only valid positional argument will be `data`, and passing other arguments without an explicit keyword will result in an error or misinterpretation.\n",
      "  warnings.warn(\n"
     ]
    },
    {
     "data": {
      "image/png": "[encoded data removed]",
      "text/plain": [
       "<Figure size 432x288 with 1 Axes>"
      ]
     },
     "metadata": {
      "needs_background": "light"
     },
     "output_type": "display_data"
    },
    {
     "name": "stdout",
     "output_type": "stream",
     "text": [
      "ArcEuk\n"
     ]
    },
    {
     "name": "stderr",
     "output_type": "stream",
     "text": [
      "/home/anais/software/projectsVp3/lib/python3.9/site-packages/seaborn/_decorators.py:36: FutureWarning: Pass the following variable as a keyword arg: x. From version 0.12, the only valid positional argument will be `data`, and passing other arguments without an explicit keyword will result in an error or misinterpretation.\n",
      "  warnings.warn(\n"
     ]
    },
    {
     "data": {
      "image/png": "[encoded data removed]",
      "text/plain": [
       "<Figure size 432x288 with 1 Axes>"
      ]
     },
     "metadata": {
      "needs_background": "light"
     },
     "output_type": "display_data"
    },
    {
     "name": "stdout",
     "output_type": "stream",
     "text": [
      "BacEuk\n"
     ]
    },
    {
     "data": {
      "image/png": "[encoded data removed]",
      "text/plain": [
       "<Figure size 432x288 with 1 Axes>"
      ]
     },
     "metadata": {
      "needs_background": "light"
     },
     "output_type": "display_data"
    },
    {
     "name": "stdout",
     "output_type": "stream",
     "text": [
      "ArcBacEuk\n"
     ]
    },
    {
     "name": "stderr",
     "output_type": "stream",
     "text": [
      "/home/anais/software/projectsVp3/lib/python3.9/site-packages/seaborn/_decorators.py:36: FutureWarning: Pass the following variable as a keyword arg: x. From version 0.12, the only valid positional argument will be `data`, and passing other arguments without an explicit keyword will result in an error or misinterpretation.\n",
      "  warnings.warn(\n"
     ]
    },
    {
     "data": {
      "image/png": "[encoded data removed]",
      "text/plain": [
       "<Figure size 432x288 with 1 Axes>"
      ]
     },
     "metadata": {
      "needs_background": "light"
     },
     "output_type": "display_data"
    }
   ],
   "source": [
    "for grp in grpSp:\n",
    "    print(grp)\n",
    "    if grp == 'Euk':\n",
    "        sns.boxplot(grpSpNormalized[grp])\n",
    "        plt.xscale('log')\n",
    "        plt.show()\n",
    "    else:\n",
    "        sns.boxplot(grpSpNormalized[grp])\n",
    "        plt.show()"
   ]
  },
  {
   "cell_type": "markdown",
   "id": "4e06e4a9",
   "metadata": {},
   "source": [
    "| Group         | threshold wind  |\n",
    "|---------------|-----------------|\n",
    "| Archée        | 5%              |\n",
    "| Bactérie      | 5%              |\n",
    "| Eukaryotes    | 0.001%          |\n",
    "| Arch-Bact     | 5%              |\n",
    "| Arch-Euk      | -               |\n",
    "| Bact-Euk      | -               |\n",
    "| Arch-Bact-Euk | 5%              |"
   ]
  },
  {
   "cell_type": "markdown",
   "id": "f46a991a",
   "metadata": {},
   "source": [
    "## nb fam per gene and tree"
   ]
  },
  {
   "cell_type": "code",
   "execution_count": 13,
   "id": "c65e7f57",
   "metadata": {},
   "outputs": [],
   "source": [
    "grpSpStat = {'Arc': {'fam length': [], 'pG4 per familly': {'Trees': {}, 'Values': []}, 'gene per familly': []},\n",
    "             'Bac': {'fam length': [], 'pG4 per familly': {'Trees': {}, 'Values': []}, 'gene per familly': []},\n",
    "             'Euk': {'fam length': [], 'pG4 per familly': {'Trees': {}, 'Values': []}, 'gene per familly': []},\n",
    "             'ArcBac': {'fam length': [], 'pG4 per familly': {'Trees': {}, 'Values': []}, 'gene per familly': []},\n",
    "             'ArcEuk': {'fam length': [], 'pG4 per familly': {'Trees': {}, 'Values': []}, 'gene per familly': []},\n",
    "             'BacEuk': {'fam length': [], 'pG4 per familly': {'Trees': {}, 'Values': []}, 'gene per familly': []},\n",
    "             'ArcBacEuk': {'fam length': [], 'pG4 per familly': {'Trees': {}, 'Values': []}, 'gene per familly': []}}\n",
    "nbFamperTreeNomerge = {'Arc': [], 'Bac': [], 'Euk': [], 'ArcBac': [], 'ArcEuk': [], 'BacEuk': [], 'ArcBacEuk': []}\n",
    "\n",
    "for grp in grpSpStat:\n",
    "    for tree in list(set(dfTree[dfTree.SpGrp == grp]['Tree'])):\n",
    "        try:\n",
    "            content = subprocess.check_output('cat /home/anais/Documents/Projet/G4Evolution/pG4FamiliesOrtho/'+grp+'/Families_'+tree+'.csv', shell=True)\n",
    "        except:\n",
    "            print('/home/anais/Documents/Projet/G4Evolution/pG4FamiliesOrtho/'+grp+'/Families_'+tree+'.csv')\n",
    "        else:\n",
    "            content = content.decode(\"utf-8\")\n",
    "            content = content.split('\\n')\n",
    "            grpSpStat[trees[tree]]['pG4 per familly']['Trees'][t] = {'CoordsFam':[]}\n",
    "            if content[-1] == '':\n",
    "                content = content[:-1]\n",
    "            content = content[1:]\n",
    "            nbFamperTreeNomerge[trees[tree]].append(len(content))\n",
    "            for l in content:\n",
    "                l = l.split('\\t')\n",
    "                length = int(l[2]) - int(l[1]) + 1\n",
    "                nbGene = int(l[-1])\n",
    "                grpSpStat[grp]['fam length'].append(length)\n",
    "                grpSpStat[grp]['gene per familly'].append(nbGene)\n",
    "                grpSpStat[grp]['pG4 per familly']['Trees'][t]['CoordsFam'].append([int(l[1]), int(l[2])])"
   ]
  },
  {
   "cell_type": "code",
   "execution_count": 14,
   "id": "5c078cf2",
   "metadata": {
    "scrolled": true
   },
   "outputs": [
    {
     "name": "stdout",
     "output_type": "stream",
     "text": [
      "Arc\n",
      "\tgene per fam\n"
     ]
    },
    {
     "name": "stderr",
     "output_type": "stream",
     "text": [
      "/home/anais/software/projectsVp3/lib/python3.9/site-packages/seaborn/_decorators.py:36: FutureWarning: Pass the following variable as a keyword arg: x. From version 0.12, the only valid positional argument will be `data`, and passing other arguments without an explicit keyword will result in an error or misinterpretation.\n",
      "  warnings.warn(\n"
     ]
    },
    {
     "data": {
      "image/png": "[encoded data removed]",
      "text/plain": [
       "<Figure size 432x288 with 1 Axes>"
      ]
     },
     "metadata": {
      "needs_background": "light"
     },
     "output_type": "display_data"
    },
    {
     "name": "stdout",
     "output_type": "stream",
     "text": [
      "Bac\n",
      "\tgene per fam\n"
     ]
    },
    {
     "name": "stderr",
     "output_type": "stream",
     "text": [
      "/home/anais/software/projectsVp3/lib/python3.9/site-packages/seaborn/_decorators.py:36: FutureWarning: Pass the following variable as a keyword arg: x. From version 0.12, the only valid positional argument will be `data`, and passing other arguments without an explicit keyword will result in an error or misinterpretation.\n",
      "  warnings.warn(\n"
     ]
    },
    {
     "data": {
      "image/png": "[encoded data removed]",
      "text/plain": [
       "<Figure size 432x288 with 1 Axes>"
      ]
     },
     "metadata": {
      "needs_background": "light"
     },
     "output_type": "display_data"
    },
    {
     "name": "stdout",
     "output_type": "stream",
     "text": [
      "Euk\n",
      "\tgene per fam\n"
     ]
    },
    {
     "name": "stderr",
     "output_type": "stream",
     "text": [
      "/home/anais/software/projectsVp3/lib/python3.9/site-packages/seaborn/_decorators.py:36: FutureWarning: Pass the following variable as a keyword arg: x. From version 0.12, the only valid positional argument will be `data`, and passing other arguments without an explicit keyword will result in an error or misinterpretation.\n",
      "  warnings.warn(\n"
     ]
    },
    {
     "data": {
      "image/png": "[encoded data removed]",
      "text/plain": [
       "<Figure size 432x288 with 1 Axes>"
      ]
     },
     "metadata": {
      "needs_background": "light"
     },
     "output_type": "display_data"
    },
    {
     "name": "stdout",
     "output_type": "stream",
     "text": [
      "ArcBac\n",
      "\tgene per fam\n"
     ]
    },
    {
     "name": "stderr",
     "output_type": "stream",
     "text": [
      "/home/anais/software/projectsVp3/lib/python3.9/site-packages/seaborn/_decorators.py:36: FutureWarning: Pass the following variable as a keyword arg: x. From version 0.12, the only valid positional argument will be `data`, and passing other arguments without an explicit keyword will result in an error or misinterpretation.\n",
      "  warnings.warn(\n"
     ]
    },
    {
     "data": {
      "image/png": "[encoded data removed]",
      "text/plain": [
       "<Figure size 432x288 with 1 Axes>"
      ]
     },
     "metadata": {
      "needs_background": "light"
     },
     "output_type": "display_data"
    },
    {
     "name": "stdout",
     "output_type": "stream",
     "text": [
      "ArcEuk\n",
      "\tgene per fam\n"
     ]
    },
    {
     "name": "stderr",
     "output_type": "stream",
     "text": [
      "/home/anais/software/projectsVp3/lib/python3.9/site-packages/seaborn/_decorators.py:36: FutureWarning: Pass the following variable as a keyword arg: x. From version 0.12, the only valid positional argument will be `data`, and passing other arguments without an explicit keyword will result in an error or misinterpretation.\n",
      "  warnings.warn(\n"
     ]
    },
    {
     "data": {
      "image/png": "[encoded data removed]",
      "text/plain": [
       "<Figure size 432x288 with 1 Axes>"
      ]
     },
     "metadata": {
      "needs_background": "light"
     },
     "output_type": "display_data"
    },
    {
     "name": "stdout",
     "output_type": "stream",
     "text": [
      "BacEuk\n",
      "\tgene per fam\n"
     ]
    },
    {
     "data": {
      "image/png": "[encoded data removed]",
      "text/plain": [
       "<Figure size 432x288 with 1 Axes>"
      ]
     },
     "metadata": {
      "needs_background": "light"
     },
     "output_type": "display_data"
    },
    {
     "name": "stdout",
     "output_type": "stream",
     "text": [
      "ArcBacEuk\n",
      "\tgene per fam\n"
     ]
    },
    {
     "name": "stderr",
     "output_type": "stream",
     "text": [
      "/home/anais/software/projectsVp3/lib/python3.9/site-packages/seaborn/_decorators.py:36: FutureWarning: Pass the following variable as a keyword arg: x. From version 0.12, the only valid positional argument will be `data`, and passing other arguments without an explicit keyword will result in an error or misinterpretation.\n",
      "  warnings.warn(\n"
     ]
    },
    {
     "data": {
      "image/png": "[encoded data removed]",
      "text/plain": [
       "<Figure size 432x288 with 1 Axes>"
      ]
     },
     "metadata": {
      "needs_background": "light"
     },
     "output_type": "display_data"
    }
   ],
   "source": [
    "for grp in grpSpStat:\n",
    "    print(grp)\n",
    "#     print('\\tfam length')\n",
    "#     sns.boxplot(grpSpStat[grp]['fam length'])\n",
    "#     plt.show()\n",
    "    print('\\tgene per fam')\n",
    "    sns.boxplot(grpSpStat[grp]['gene per familly'])\n",
    "    plt.show()"
   ]
  },
  {
   "cell_type": "code",
   "execution_count": 15,
   "id": "9a298712",
   "metadata": {},
   "outputs": [
    {
     "name": "stdout",
     "output_type": "stream",
     "text": [
      "Arc\n",
      "\t fam per tree\n"
     ]
    },
    {
     "name": "stderr",
     "output_type": "stream",
     "text": [
      "/home/anais/software/projectsVp3/lib/python3.9/site-packages/seaborn/_decorators.py:36: FutureWarning: Pass the following variable as a keyword arg: x. From version 0.12, the only valid positional argument will be `data`, and passing other arguments without an explicit keyword will result in an error or misinterpretation.\n",
      "  warnings.warn(\n"
     ]
    },
    {
     "data": {
      "image/png": "[encoded data removed]",
      "text/plain": [
       "<Figure size 432x288 with 1 Axes>"
      ]
     },
     "metadata": {
      "needs_background": "light"
     },
     "output_type": "display_data"
    },
    {
     "name": "stdout",
     "output_type": "stream",
     "text": [
      "Bac\n",
      "\t fam per tree\n"
     ]
    },
    {
     "name": "stderr",
     "output_type": "stream",
     "text": [
      "/home/anais/software/projectsVp3/lib/python3.9/site-packages/seaborn/_decorators.py:36: FutureWarning: Pass the following variable as a keyword arg: x. From version 0.12, the only valid positional argument will be `data`, and passing other arguments without an explicit keyword will result in an error or misinterpretation.\n",
      "  warnings.warn(\n"
     ]
    },
    {
     "data": {
      "image/png": "[encoded data removed]",
      "text/plain": [
       "<Figure size 432x288 with 1 Axes>"
      ]
     },
     "metadata": {
      "needs_background": "light"
     },
     "output_type": "display_data"
    },
    {
     "name": "stdout",
     "output_type": "stream",
     "text": [
      "Euk\n",
      "\t fam per tree\n"
     ]
    },
    {
     "name": "stderr",
     "output_type": "stream",
     "text": [
      "/home/anais/software/projectsVp3/lib/python3.9/site-packages/seaborn/_decorators.py:36: FutureWarning: Pass the following variable as a keyword arg: x. From version 0.12, the only valid positional argument will be `data`, and passing other arguments without an explicit keyword will result in an error or misinterpretation.\n",
      "  warnings.warn(\n"
     ]
    },
    {
     "data": {
      "image/png": "[encoded data removed]",
      "text/plain": [
       "<Figure size 432x288 with 1 Axes>"
      ]
     },
     "metadata": {
      "needs_background": "light"
     },
     "output_type": "display_data"
    },
    {
     "name": "stdout",
     "output_type": "stream",
     "text": [
      "ArcBac\n",
      "\t fam per tree\n"
     ]
    },
    {
     "name": "stderr",
     "output_type": "stream",
     "text": [
      "/home/anais/software/projectsVp3/lib/python3.9/site-packages/seaborn/_decorators.py:36: FutureWarning: Pass the following variable as a keyword arg: x. From version 0.12, the only valid positional argument will be `data`, and passing other arguments without an explicit keyword will result in an error or misinterpretation.\n",
      "  warnings.warn(\n"
     ]
    },
    {
     "data": {
      "image/png": "[encoded data removed]",
      "text/plain": [
       "<Figure size 432x288 with 1 Axes>"
      ]
     },
     "metadata": {
      "needs_background": "light"
     },
     "output_type": "display_data"
    },
    {
     "name": "stdout",
     "output_type": "stream",
     "text": [
      "ArcEuk\n",
      "\t fam per tree\n"
     ]
    },
    {
     "name": "stderr",
     "output_type": "stream",
     "text": [
      "/home/anais/software/projectsVp3/lib/python3.9/site-packages/seaborn/_decorators.py:36: FutureWarning: Pass the following variable as a keyword arg: x. From version 0.12, the only valid positional argument will be `data`, and passing other arguments without an explicit keyword will result in an error or misinterpretation.\n",
      "  warnings.warn(\n"
     ]
    },
    {
     "data": {
      "image/png": "[encoded data removed]",
      "text/plain": [
       "<Figure size 432x288 with 1 Axes>"
      ]
     },
     "metadata": {
      "needs_background": "light"
     },
     "output_type": "display_data"
    },
    {
     "name": "stdout",
     "output_type": "stream",
     "text": [
      "BacEuk\n",
      "\t fam per tree\n"
     ]
    },
    {
     "data": {
      "image/png": "[encoded data removed]",
      "text/plain": [
       "<Figure size 432x288 with 1 Axes>"
      ]
     },
     "metadata": {
      "needs_background": "light"
     },
     "output_type": "display_data"
    },
    {
     "name": "stdout",
     "output_type": "stream",
     "text": [
      "ArcBacEuk\n",
      "\t fam per tree\n"
     ]
    },
    {
     "name": "stderr",
     "output_type": "stream",
     "text": [
      "/home/anais/software/projectsVp3/lib/python3.9/site-packages/seaborn/_decorators.py:36: FutureWarning: Pass the following variable as a keyword arg: x. From version 0.12, the only valid positional argument will be `data`, and passing other arguments without an explicit keyword will result in an error or misinterpretation.\n",
      "  warnings.warn(\n"
     ]
    },
    {
     "data": {
      "image/png": "[encoded data removed]",
      "text/plain": [
       "<Figure size 432x288 with 1 Axes>"
      ]
     },
     "metadata": {
      "needs_background": "light"
     },
     "output_type": "display_data"
    }
   ],
   "source": [
    "for grp in grpSpStat:\n",
    "    print(grp)\n",
    "    print('\\t fam per tree')\n",
    "    sns.boxplot(nbFamperTreeNomerge[grp])\n",
    "    plt.show()"
   ]
  },
  {
   "cell_type": "markdown",
   "id": "b63efbd3",
   "metadata": {},
   "source": [
    "## average nb pG4 per gene"
   ]
  },
  {
   "cell_type": "code",
   "execution_count": 16,
   "id": "86b8014e",
   "metadata": {},
   "outputs": [],
   "source": [
    "dicoGeneListbySp = {}\n",
    "homologyDir = '/home/anais/Documents/Projet/G4Evolution/Homology/'\n",
    "for path, dirs, files in os.walk(homologyDir):\n",
    "    # for each element of the directory to passed\n",
    "    for filename in files: # for each files\n",
    "        if 'txt' in filename:\n",
    "            inputfile = homologyDir + filename\n",
    "            sp = filename.split('.')[0]\n",
    "            with open(inputfile) as f:\n",
    "                content = f.read()\n",
    "                lines = content.split('\\n')\n",
    "                for l in lines:\n",
    "                    dicoGeneListbySp[l] = sp"
   ]
  },
  {
   "cell_type": "code",
   "execution_count": 17,
   "id": "ba896f8e",
   "metadata": {
    "scrolled": true
   },
   "outputs": [
    {
     "name": "stdout",
     "output_type": "stream",
     "text": [
      "Arc\n",
      "Nb pG4 per gene\n"
     ]
    },
    {
     "name": "stderr",
     "output_type": "stream",
     "text": [
      "/home/anais/software/projectsVp3/lib/python3.9/site-packages/seaborn/_decorators.py:36: FutureWarning: Pass the following variable as a keyword arg: x. From version 0.12, the only valid positional argument will be `data`, and passing other arguments without an explicit keyword will result in an error or misinterpretation.\n",
      "  warnings.warn(\n"
     ]
    },
    {
     "data": {
      "image/png": "[encoded data removed]",
      "text/plain": [
       "<Figure size 432x288 with 1 Axes>"
      ]
     },
     "metadata": {
      "needs_background": "light"
     },
     "output_type": "display_data"
    },
    {
     "name": "stdout",
     "output_type": "stream",
     "text": [
      "Nb pG4 per tree\n"
     ]
    },
    {
     "name": "stderr",
     "output_type": "stream",
     "text": [
      "/home/anais/software/projectsVp3/lib/python3.9/site-packages/seaborn/_decorators.py:36: FutureWarning: Pass the following variable as a keyword arg: x. From version 0.12, the only valid positional argument will be `data`, and passing other arguments without an explicit keyword will result in an error or misinterpretation.\n",
      "  warnings.warn(\n"
     ]
    },
    {
     "data": {
      "image/png": "[encoded data removed]",
      "text/plain": [
       "<Figure size 432x288 with 1 Axes>"
      ]
     },
     "metadata": {
      "needs_background": "light"
     },
     "output_type": "display_data"
    },
    {
     "name": "stdout",
     "output_type": "stream",
     "text": [
      "Bac\n",
      "Nb pG4 per gene\n"
     ]
    },
    {
     "name": "stderr",
     "output_type": "stream",
     "text": [
      "/home/anais/software/projectsVp3/lib/python3.9/site-packages/seaborn/_decorators.py:36: FutureWarning: Pass the following variable as a keyword arg: x. From version 0.12, the only valid positional argument will be `data`, and passing other arguments without an explicit keyword will result in an error or misinterpretation.\n",
      "  warnings.warn(\n"
     ]
    },
    {
     "data": {
      "image/png": "[encoded data removed]",
      "text/plain": [
       "<Figure size 432x288 with 1 Axes>"
      ]
     },
     "metadata": {
      "needs_background": "light"
     },
     "output_type": "display_data"
    },
    {
     "name": "stdout",
     "output_type": "stream",
     "text": [
      "Nb pG4 per tree\n"
     ]
    },
    {
     "name": "stderr",
     "output_type": "stream",
     "text": [
      "/home/anais/software/projectsVp3/lib/python3.9/site-packages/seaborn/_decorators.py:36: FutureWarning: Pass the following variable as a keyword arg: x. From version 0.12, the only valid positional argument will be `data`, and passing other arguments without an explicit keyword will result in an error or misinterpretation.\n",
      "  warnings.warn(\n"
     ]
    },
    {
     "data": {
      "image/png": "[encoded data removed]",
      "text/plain": [
       "<Figure size 432x288 with 1 Axes>"
      ]
     },
     "metadata": {
      "needs_background": "light"
     },
     "output_type": "display_data"
    },
    {
     "name": "stdout",
     "output_type": "stream",
     "text": [
      "Euk\n",
      "Nb pG4 per gene\n"
     ]
    },
    {
     "name": "stderr",
     "output_type": "stream",
     "text": [
      "/home/anais/software/projectsVp3/lib/python3.9/site-packages/seaborn/_decorators.py:36: FutureWarning: Pass the following variable as a keyword arg: x. From version 0.12, the only valid positional argument will be `data`, and passing other arguments without an explicit keyword will result in an error or misinterpretation.\n",
      "  warnings.warn(\n"
     ]
    },
    {
     "data": {
      "image/png": "[encoded data removed]",
      "text/plain": [
       "<Figure size 432x288 with 1 Axes>"
      ]
     },
     "metadata": {
      "needs_background": "light"
     },
     "output_type": "display_data"
    },
    {
     "name": "stdout",
     "output_type": "stream",
     "text": [
      "Nb pG4 per tree\n"
     ]
    },
    {
     "name": "stderr",
     "output_type": "stream",
     "text": [
      "/home/anais/software/projectsVp3/lib/python3.9/site-packages/seaborn/_decorators.py:36: FutureWarning: Pass the following variable as a keyword arg: x. From version 0.12, the only valid positional argument will be `data`, and passing other arguments without an explicit keyword will result in an error or misinterpretation.\n",
      "  warnings.warn(\n"
     ]
    },
    {
     "data": {
      "image/png": "[encoded data removed]",
      "text/plain": [
       "<Figure size 432x288 with 1 Axes>"
      ]
     },
     "metadata": {
      "needs_background": "light"
     },
     "output_type": "display_data"
    },
    {
     "name": "stdout",
     "output_type": "stream",
     "text": [
      "ArcBac\n",
      "Nb pG4 per gene\n"
     ]
    },
    {
     "name": "stderr",
     "output_type": "stream",
     "text": [
      "/home/anais/software/projectsVp3/lib/python3.9/site-packages/seaborn/_decorators.py:36: FutureWarning: Pass the following variable as a keyword arg: x. From version 0.12, the only valid positional argument will be `data`, and passing other arguments without an explicit keyword will result in an error or misinterpretation.\n",
      "  warnings.warn(\n"
     ]
    },
    {
     "data": {
      "image/png": "[encoded data removed]",
      "text/plain": [
       "<Figure size 432x288 with 1 Axes>"
      ]
     },
     "metadata": {
      "needs_background": "light"
     },
     "output_type": "display_data"
    },
    {
     "name": "stdout",
     "output_type": "stream",
     "text": [
      "Nb pG4 per tree\n"
     ]
    },
    {
     "name": "stderr",
     "output_type": "stream",
     "text": [
      "/home/anais/software/projectsVp3/lib/python3.9/site-packages/seaborn/_decorators.py:36: FutureWarning: Pass the following variable as a keyword arg: x. From version 0.12, the only valid positional argument will be `data`, and passing other arguments without an explicit keyword will result in an error or misinterpretation.\n",
      "  warnings.warn(\n"
     ]
    },
    {
     "data": {
      "image/png": "[encoded data removed]",
      "text/plain": [
       "<Figure size 432x288 with 1 Axes>"
      ]
     },
     "metadata": {
      "needs_background": "light"
     },
     "output_type": "display_data"
    },
    {
     "name": "stdout",
     "output_type": "stream",
     "text": [
      "ArcEuk\n",
      "Nb pG4 per gene\n"
     ]
    },
    {
     "name": "stderr",
     "output_type": "stream",
     "text": [
      "/home/anais/software/projectsVp3/lib/python3.9/site-packages/seaborn/_decorators.py:36: FutureWarning: Pass the following variable as a keyword arg: x. From version 0.12, the only valid positional argument will be `data`, and passing other arguments without an explicit keyword will result in an error or misinterpretation.\n",
      "  warnings.warn(\n"
     ]
    },
    {
     "data": {
      "image/png": "[encoded data removed]",
      "text/plain": [
       "<Figure size 432x288 with 1 Axes>"
      ]
     },
     "metadata": {
      "needs_background": "light"
     },
     "output_type": "display_data"
    },
    {
     "name": "stdout",
     "output_type": "stream",
     "text": [
      "Nb pG4 per tree\n"
     ]
    },
    {
     "data": {
      "image/png": "[encoded data removed]",
      "text/plain": [
       "<Figure size 432x288 with 1 Axes>"
      ]
     },
     "metadata": {
      "needs_background": "light"
     },
     "output_type": "display_data"
    },
    {
     "name": "stdout",
     "output_type": "stream",
     "text": [
      "BacEuk\n",
      "Nb pG4 per gene\n"
     ]
    },
    {
     "data": {
      "image/png": "[encoded data removed]",
      "text/plain": [
       "<Figure size 432x288 with 1 Axes>"
      ]
     },
     "metadata": {
      "needs_background": "light"
     },
     "output_type": "display_data"
    },
    {
     "name": "stdout",
     "output_type": "stream",
     "text": [
      "Nb pG4 per tree\n"
     ]
    },
    {
     "name": "stderr",
     "output_type": "stream",
     "text": [
      "/home/anais/software/projectsVp3/lib/python3.9/site-packages/seaborn/_decorators.py:36: FutureWarning: Pass the following variable as a keyword arg: x. From version 0.12, the only valid positional argument will be `data`, and passing other arguments without an explicit keyword will result in an error or misinterpretation.\n",
      "  warnings.warn(\n"
     ]
    },
    {
     "data": {
      "image/png": "[encoded data removed]",
      "text/plain": [
       "<Figure size 432x288 with 1 Axes>"
      ]
     },
     "metadata": {
      "needs_background": "light"
     },
     "output_type": "display_data"
    },
    {
     "name": "stdout",
     "output_type": "stream",
     "text": [
      "ArcBacEuk\n",
      "Nb pG4 per gene\n"
     ]
    },
    {
     "name": "stderr",
     "output_type": "stream",
     "text": [
      "/home/anais/software/projectsVp3/lib/python3.9/site-packages/seaborn/_decorators.py:36: FutureWarning: Pass the following variable as a keyword arg: x. From version 0.12, the only valid positional argument will be `data`, and passing other arguments without an explicit keyword will result in an error or misinterpretation.\n",
      "  warnings.warn(\n"
     ]
    },
    {
     "data": {
      "image/png": "[encoded data removed]",
      "text/plain": [
       "<Figure size 432x288 with 1 Axes>"
      ]
     },
     "metadata": {
      "needs_background": "light"
     },
     "output_type": "display_data"
    },
    {
     "name": "stdout",
     "output_type": "stream",
     "text": [
      "Nb pG4 per tree\n"
     ]
    },
    {
     "name": "stderr",
     "output_type": "stream",
     "text": [
      "/home/anais/software/projectsVp3/lib/python3.9/site-packages/seaborn/_decorators.py:36: FutureWarning: Pass the following variable as a keyword arg: x. From version 0.12, the only valid positional argument will be `data`, and passing other arguments without an explicit keyword will result in an error or misinterpretation.\n",
      "  warnings.warn(\n"
     ]
    },
    {
     "data": {
      "image/png": "[encoded data removed]",
      "text/plain": [
       "<Figure size 432x288 with 1 Axes>"
      ]
     },
     "metadata": {
      "needs_background": "light"
     },
     "output_type": "display_data"
    }
   ],
   "source": [
    "geneList = {'Arc': [], 'Bac': [], 'Euk': [],\n",
    "         'ArcBac': [], 'ArcEuk': [], 'BacEuk': [],\n",
    "         'ArcBacEuk': []}\n",
    "nbpG4ByGene = {'Arc': [], 'Bac': [], 'Euk': [],\n",
    "         'ArcBac': [], 'ArcEuk': [], 'BacEuk': [],\n",
    "         'ArcBacEuk': []}\n",
    "nbpG4ByTree = {'Arc': {}, 'Bac': {}, 'Euk': {},\n",
    "         'ArcBac': {}, 'ArcEuk': {}, 'BacEuk': {},\n",
    "         'ArcBacEuk': {}}\n",
    "\n",
    "for grp in LengthAlignment:\n",
    "    print(grp)\n",
    "    for t in list(set(dfTree[dfTree.SpGrp == grp]['Tree'])):\n",
    "        if t not in nbpG4ByTree[grp]:\n",
    "            nbpG4ByTree[grp][t] = {}\n",
    "        genes = subprocess.check_output(\"cat /home/anais/Documents/Projet/G4Evolution/listOrtho/\"+grp+\"/grpOrtho_\"+t+\".txt\", shell=True)\n",
    "        genes = genes.decode(\"utf-8\").split('\\n')\n",
    "        geneList[grp].extend(genes)\n",
    "        for g in genes:\n",
    "            nbpG4ByTree[grp][t][g] = 0\n",
    "    geneList[grp] = list(set(geneList[grp]))\n",
    "    for g in geneList[grp]:\n",
    "        if g in dicoGeneListbySp:\n",
    "            sp = dicoGeneListbySp[g]\n",
    "            try:\n",
    "                nbpG4 = subprocess.check_output(\"cat /home/anais/Documents/Projet/G4Evolution/data/\"+sp+\"/Gene_pG4WT.csv | grep \"+g, shell=True)\n",
    "            except:\n",
    "                pass\n",
    "            else:\n",
    "                nbpG4 = nbpG4.decode(\"utf-8\")\n",
    "                nbpG4ByGene[grp].append(len(nbpG4.split('\\n')[:-1]))\n",
    "    print('Nb pG4 per gene')\n",
    "    sns.boxplot(nbpG4ByGene[grp])\n",
    "    plt.show()\n",
    "    listNbpG4Tree = []\n",
    "    for t in nbpG4ByTree[grp]:\n",
    "        nbpG4Genes = 0\n",
    "        for g in nbpG4ByTree[grp][t]:\n",
    "            if g in dicoGeneListbySp:\n",
    "                sp = dicoGeneListbySp[g]\n",
    "                try:\n",
    "                    nbpG4 = subprocess.check_output(\"cat /home/anais/Documents/Projet/G4Evolution/data/\"+sp+\"/Gene_pG4WT.csv | grep \"+g, shell=True)\n",
    "                except:\n",
    "                    pass\n",
    "                else:\n",
    "                    nbpG4 = nbpG4.decode(\"utf-8\")\n",
    "                    nbpG4Genes += len(nbpG4.split('\\n')[:-1])\n",
    "        listNbpG4Tree.append(nbpG4Genes)\n",
    "    print('Nb pG4 per tree')\n",
    "    sns.boxplot(listNbpG4Tree)\n",
    "    plt.show()"
   ]
  },
  {
   "cell_type": "markdown",
   "id": "d950b090",
   "metadata": {},
   "source": [
    "# Stat après merge"
   ]
  },
  {
   "cell_type": "code",
   "execution_count": 18,
   "id": "40686d3a",
   "metadata": {},
   "outputs": [
    {
     "name": "stdout",
     "output_type": "stream",
     "text": [
      "/home/anais/Documents/Projet/G4Evolution/mergedpG4FamiliesPecentrOrtho/BacEuk/10076.csv\n",
      "/home/anais/Documents/Projet/G4Evolution/mergedpG4FamiliesPecentrOrtho/BacEuk/11.csv\n",
      "/home/anais/Documents/Projet/G4Evolution/mergedpG4FamiliesPecentrOrtho/BacEuk/136.csv\n"
     ]
    }
   ],
   "source": [
    "grpSpStatmerge = {'Arc': {'fam length': [], 'pG4 per familly': {'Trees': {}, 'Values': []}, 'gene per familly': []},\n",
    "             'Bac': {'fam length': [], 'pG4 per familly': {'Trees': {}, 'Values': []}, 'gene per familly': []},\n",
    "             'Euk': {'fam length': [], 'pG4 per familly': {'Trees': {}, 'Values': []}, 'gene per familly': []},\n",
    "             'ArcBac': {'fam length': [], 'pG4 per familly': {'Trees': {}, 'Values': []}, 'gene per familly': []},\n",
    "             'ArcEuk': {'fam length': [], 'pG4 per familly': {'Trees': {}, 'Values': []}, 'gene per familly': []},\n",
    "             'BacEuk': {'fam length': [], 'pG4 per familly': {'Trees': {}, 'Values': []}, 'gene per familly': []},\n",
    "             'ArcBacEuk': {'fam length': [], 'pG4 per familly': {'Trees': {}, 'Values': []}, 'gene per familly': []}}\n",
    "nbFamperTreemerge = {'Arc': [], 'Bac': [], 'Euk': [], 'ArcBac': [], 'ArcEuk': [], 'BacEuk': [], 'ArcBacEuk': []}\n",
    "\n",
    "for grp in grpSpStatmerge:\n",
    "    for tree in list(set(dfTree[dfTree.SpGrp == grp]['Tree'])):\n",
    "        try:\n",
    "            content = subprocess.check_output('cat /home/anais/Documents/Projet/G4Evolution/mergedpG4FamiliesPecentrOrtho/'+grp+'/'+tree+'.csv', shell=True)\n",
    "        except:\n",
    "            print('/home/anais/Documents/Projet/G4Evolution/mergedpG4FamiliesPecentrOrtho/'+grp+'/'+tree+'.csv')\n",
    "        else:\n",
    "            content = content.decode(\"utf-8\")\n",
    "            content = content.split('\\n')\n",
    "            grpSpStatmerge[trees[tree]]['pG4 per familly']['Trees'][t] = {'CoordsFam':[]}\n",
    "            if content[-1] == '':\n",
    "                content = content[:-1]\n",
    "            content = content[1:]\n",
    "            nbFamperTreemerge[trees[tree]].append(len(content))\n",
    "            for l in content:\n",
    "                l = l.split('\\t')\n",
    "                length = int(l[2]) - int(l[1]) + 1\n",
    "                nbGene = int(l[-1])\n",
    "                grpSpStatmerge[grp]['fam length'].append(length)\n",
    "                grpSpStatmerge[grp]['gene per familly'].append(nbGene)\n",
    "                grpSpStatmerge[grp]['pG4 per familly']['Trees'][t]['CoordsFam'].append([int(l[1]), int(l[2])])"
   ]
  },
  {
   "cell_type": "code",
   "execution_count": 19,
   "id": "50dc9ec2",
   "metadata": {},
   "outputs": [
    {
     "name": "stdout",
     "output_type": "stream",
     "text": [
      "Arc\n",
      "\tgene per fam\n"
     ]
    },
    {
     "name": "stderr",
     "output_type": "stream",
     "text": [
      "/home/anais/software/projectsVp3/lib/python3.9/site-packages/seaborn/_decorators.py:36: FutureWarning: Pass the following variable as a keyword arg: x. From version 0.12, the only valid positional argument will be `data`, and passing other arguments without an explicit keyword will result in an error or misinterpretation.\n",
      "  warnings.warn(\n"
     ]
    },
    {
     "data": {
      "image/png": "[encoded data removed]",
      "text/plain": [
       "<Figure size 432x288 with 1 Axes>"
      ]
     },
     "metadata": {
      "needs_background": "light"
     },
     "output_type": "display_data"
    },
    {
     "name": "stdout",
     "output_type": "stream",
     "text": [
      "Bac\n",
      "\tgene per fam\n"
     ]
    },
    {
     "name": "stderr",
     "output_type": "stream",
     "text": [
      "/home/anais/software/projectsVp3/lib/python3.9/site-packages/seaborn/_decorators.py:36: FutureWarning: Pass the following variable as a keyword arg: x. From version 0.12, the only valid positional argument will be `data`, and passing other arguments without an explicit keyword will result in an error or misinterpretation.\n",
      "  warnings.warn(\n"
     ]
    },
    {
     "data": {
      "image/png": "[encoded data removed]",
      "text/plain": [
       "<Figure size 432x288 with 1 Axes>"
      ]
     },
     "metadata": {
      "needs_background": "light"
     },
     "output_type": "display_data"
    },
    {
     "name": "stdout",
     "output_type": "stream",
     "text": [
      "Euk\n",
      "\tgene per fam\n"
     ]
    },
    {
     "name": "stderr",
     "output_type": "stream",
     "text": [
      "/home/anais/software/projectsVp3/lib/python3.9/site-packages/seaborn/_decorators.py:36: FutureWarning: Pass the following variable as a keyword arg: x. From version 0.12, the only valid positional argument will be `data`, and passing other arguments without an explicit keyword will result in an error or misinterpretation.\n",
      "  warnings.warn(\n"
     ]
    },
    {
     "data": {
      "image/png": "[encoded data removed]",
      "text/plain": [
       "<Figure size 432x288 with 1 Axes>"
      ]
     },
     "metadata": {
      "needs_background": "light"
     },
     "output_type": "display_data"
    },
    {
     "name": "stdout",
     "output_type": "stream",
     "text": [
      "ArcBac\n",
      "\tgene per fam\n"
     ]
    },
    {
     "name": "stderr",
     "output_type": "stream",
     "text": [
      "/home/anais/software/projectsVp3/lib/python3.9/site-packages/seaborn/_decorators.py:36: FutureWarning: Pass the following variable as a keyword arg: x. From version 0.12, the only valid positional argument will be `data`, and passing other arguments without an explicit keyword will result in an error or misinterpretation.\n",
      "  warnings.warn(\n"
     ]
    },
    {
     "data": {
      "image/png": "[encoded data removed]",
      "text/plain": [
       "<Figure size 432x288 with 1 Axes>"
      ]
     },
     "metadata": {
      "needs_background": "light"
     },
     "output_type": "display_data"
    },
    {
     "name": "stdout",
     "output_type": "stream",
     "text": [
      "ArcEuk\n",
      "\tgene per fam\n"
     ]
    },
    {
     "name": "stderr",
     "output_type": "stream",
     "text": [
      "/home/anais/software/projectsVp3/lib/python3.9/site-packages/seaborn/_decorators.py:36: FutureWarning: Pass the following variable as a keyword arg: x. From version 0.12, the only valid positional argument will be `data`, and passing other arguments without an explicit keyword will result in an error or misinterpretation.\n",
      "  warnings.warn(\n"
     ]
    },
    {
     "data": {
      "image/png": "[encoded data removed]",
      "text/plain": [
       "<Figure size 432x288 with 1 Axes>"
      ]
     },
     "metadata": {
      "needs_background": "light"
     },
     "output_type": "display_data"
    },
    {
     "name": "stdout",
     "output_type": "stream",
     "text": [
      "BacEuk\n",
      "\tgene per fam\n"
     ]
    },
    {
     "data": {
      "image/png": "[encoded data removed]",
      "text/plain": [
       "<Figure size 432x288 with 1 Axes>"
      ]
     },
     "metadata": {
      "needs_background": "light"
     },
     "output_type": "display_data"
    },
    {
     "name": "stdout",
     "output_type": "stream",
     "text": [
      "ArcBacEuk\n",
      "\tgene per fam\n"
     ]
    },
    {
     "data": {
      "image/png": "[encoded data removed]",
      "text/plain": [
       "<Figure size 432x288 with 1 Axes>"
      ]
     },
     "metadata": {
      "needs_background": "light"
     },
     "output_type": "display_data"
    }
   ],
   "source": [
    "for grp in grpSpStatmerge:\n",
    "    print(grp)\n",
    "    print('\\tgene per fam')\n",
    "    sns.boxplot(grpSpStatmerge[grp]['gene per familly'])\n",
    "    plt.show()"
   ]
  },
  {
   "cell_type": "code",
   "execution_count": 20,
   "id": "0282ee85",
   "metadata": {},
   "outputs": [
    {
     "name": "stdout",
     "output_type": "stream",
     "text": [
      "Arc\n",
      "\t fam per tree\n"
     ]
    },
    {
     "name": "stderr",
     "output_type": "stream",
     "text": [
      "/home/anais/software/projectsVp3/lib/python3.9/site-packages/seaborn/_decorators.py:36: FutureWarning: Pass the following variable as a keyword arg: x. From version 0.12, the only valid positional argument will be `data`, and passing other arguments without an explicit keyword will result in an error or misinterpretation.\n",
      "  warnings.warn(\n"
     ]
    },
    {
     "data": {
      "image/png": "[encoded data removed]",
      "text/plain": [
       "<Figure size 432x288 with 1 Axes>"
      ]
     },
     "metadata": {
      "needs_background": "light"
     },
     "output_type": "display_data"
    },
    {
     "name": "stdout",
     "output_type": "stream",
     "text": [
      "Bac\n",
      "\t fam per tree\n"
     ]
    },
    {
     "name": "stderr",
     "output_type": "stream",
     "text": [
      "/home/anais/software/projectsVp3/lib/python3.9/site-packages/seaborn/_decorators.py:36: FutureWarning: Pass the following variable as a keyword arg: x. From version 0.12, the only valid positional argument will be `data`, and passing other arguments without an explicit keyword will result in an error or misinterpretation.\n",
      "  warnings.warn(\n"
     ]
    },
    {
     "data": {
      "image/png": "[encoded data removed]",
      "text/plain": [
       "<Figure size 432x288 with 1 Axes>"
      ]
     },
     "metadata": {
      "needs_background": "light"
     },
     "output_type": "display_data"
    },
    {
     "name": "stdout",
     "output_type": "stream",
     "text": [
      "Euk\n",
      "\t fam per tree\n"
     ]
    },
    {
     "name": "stderr",
     "output_type": "stream",
     "text": [
      "/home/anais/software/projectsVp3/lib/python3.9/site-packages/seaborn/_decorators.py:36: FutureWarning: Pass the following variable as a keyword arg: x. From version 0.12, the only valid positional argument will be `data`, and passing other arguments without an explicit keyword will result in an error or misinterpretation.\n",
      "  warnings.warn(\n"
     ]
    },
    {
     "data": {
      "image/png": "[encoded data removed]",
      "text/plain": [
       "<Figure size 432x288 with 1 Axes>"
      ]
     },
     "metadata": {
      "needs_background": "light"
     },
     "output_type": "display_data"
    },
    {
     "name": "stdout",
     "output_type": "stream",
     "text": [
      "ArcBac\n",
      "\t fam per tree\n"
     ]
    },
    {
     "name": "stderr",
     "output_type": "stream",
     "text": [
      "/home/anais/software/projectsVp3/lib/python3.9/site-packages/seaborn/_decorators.py:36: FutureWarning: Pass the following variable as a keyword arg: x. From version 0.12, the only valid positional argument will be `data`, and passing other arguments without an explicit keyword will result in an error or misinterpretation.\n",
      "  warnings.warn(\n"
     ]
    },
    {
     "data": {
      "image/png": "[encoded data removed]",
      "text/plain": [
       "<Figure size 432x288 with 1 Axes>"
      ]
     },
     "metadata": {
      "needs_background": "light"
     },
     "output_type": "display_data"
    },
    {
     "name": "stdout",
     "output_type": "stream",
     "text": [
      "ArcEuk\n",
      "\t fam per tree\n"
     ]
    },
    {
     "name": "stderr",
     "output_type": "stream",
     "text": [
      "/home/anais/software/projectsVp3/lib/python3.9/site-packages/seaborn/_decorators.py:36: FutureWarning: Pass the following variable as a keyword arg: x. From version 0.12, the only valid positional argument will be `data`, and passing other arguments without an explicit keyword will result in an error or misinterpretation.\n",
      "  warnings.warn(\n"
     ]
    },
    {
     "data": {
      "image/png": "[encoded data removed]",
      "text/plain": [
       "<Figure size 432x288 with 1 Axes>"
      ]
     },
     "metadata": {
      "needs_background": "light"
     },
     "output_type": "display_data"
    },
    {
     "name": "stdout",
     "output_type": "stream",
     "text": [
      "BacEuk\n",
      "\t fam per tree\n"
     ]
    },
    {
     "data": {
      "image/png": "[encoded data removed]",
      "text/plain": [
       "<Figure size 432x288 with 1 Axes>"
      ]
     },
     "metadata": {
      "needs_background": "light"
     },
     "output_type": "display_data"
    },
    {
     "name": "stdout",
     "output_type": "stream",
     "text": [
      "ArcBacEuk\n",
      "\t fam per tree\n"
     ]
    },
    {
     "data": {
      "image/png": "[encoded data removed]",
      "text/plain": [
       "<Figure size 432x288 with 1 Axes>"
      ]
     },
     "metadata": {
      "needs_background": "light"
     },
     "output_type": "display_data"
    }
   ],
   "source": [
    "for grp in grpSpStatmerge:\n",
    "    print(grp)\n",
    "    print('\\t fam per tree')\n",
    "    sns.boxplot(nbFamperTreemerge[grp])\n",
    "    plt.show()"
   ]
  },
  {
   "cell_type": "code",
   "execution_count": 21,
   "id": "22cdea74",
   "metadata": {},
   "outputs": [],
   "source": [
    "grpSp = {'Arc': [], 'Bac': [], 'Euk': [],\n",
    "         'ArcBac': [], 'ArcEuk': [], 'BacEuk': [],\n",
    "         'ArcBacEuk': []}\n",
    "grpSpNormalized = {'Arc': [], 'Bac': [], 'Euk': [],\n",
    "         'ArcBac': [], 'ArcEuk': [], 'BacEuk': [],\n",
    "         'ArcBacEuk': []}\n",
    "\n",
    "trees = {}\n",
    "treesLength = {}\n",
    "\n",
    "for grp in grpSp:\n",
    "    files = subprocess.check_output(\"ls /home/anais/Documents/Projet/G4Evolution/gapFamOrtho/\"+grp+\"/\", shell=True)\n",
    "    files = files.decode(\"utf-8\")\n",
    "    for file in files.split('\\n'):\n",
    "        if file != '':\n",
    "            if file.split('.')[0] in list(set(dfTree['Tree'])):\n",
    "                content = subprocess.check_output('cat /home/anais/Documents/Projet/G4Evolution/gapFamOrtho/'+grp+'/'+file, shell=True)\n",
    "                content = content.decode(\"utf-8\")\n",
    "                content = content.split('\\n')\n",
    "                if content[-1] == '':\n",
    "                    content = content[:-1]\n",
    "                content = [int(x) for x in content]\n",
    "                grpSp[grp].extend(content)\n",
    "                trees[file.split('.')[0]] = grp\n",
    "                treesLength[file.split('.')[0]] = {'Gaps': content}"
   ]
  },
  {
   "cell_type": "code",
   "execution_count": 22,
   "id": "ecc55b1e",
   "metadata": {},
   "outputs": [],
   "source": [
    "for grp in grpSp:       \n",
    "    for t in treesLength:\n",
    "        if grp == trees[t]:\n",
    "            nbLines = subprocess.check_output(\"cat /home/anais/Documents/Projet/G4Evolution/ProcessedAlignOrtho/\"+grp+\"/ProcAlignment_\"+t+\".csv | wc\", shell=True)\n",
    "            nbLines = nbLines.decode(\"utf-8\")\n",
    "            try:\n",
    "                length = int(nbLines.split(' ')[3])\n",
    "            except:\n",
    "                try:\n",
    "                    length = int(nbLines.split(' ')[4])\n",
    "                except:\n",
    "                    try:\n",
    "                        length = int(nbLines.split(' ')[5])\n",
    "                    except:\n",
    "                        try:\n",
    "                            length = int(nbLines.split(' ')[0])\n",
    "                        except:\n",
    "                            print(t)\n",
    "                            print(grp)\n",
    "                            print(nbLines.split(' '))\n",
    "\n",
    "            treesLength[t].update({'normGaps' : [x / length * 100 for x in treesLength[t]['Gaps']]})\n",
    "\n",
    "for grp in grpSp:\n",
    "    files = subprocess.check_output(\"ls /home/anais/Documents/Projet/G4Evolution/gapFamOrtho/\"+grp+\"/\", shell=True)\n",
    "    files = files.decode(\"utf-8\")\n",
    "    for file in files.split('\\n'):\n",
    "        if file != '':\n",
    "            t = file.split('.')[0]\n",
    "            if t in list(set(dfTree['Tree'])):\n",
    "                grpSpNormalized[grp].extend(treesLength[t]['normGaps'])\n",
    "                    \n",
    "# pprint(trees)\n",
    "# pprint(grpSp)"
   ]
  },
  {
   "cell_type": "code",
   "execution_count": 23,
   "id": "743389b5",
   "metadata": {
    "scrolled": true
   },
   "outputs": [
    {
     "name": "stdout",
     "output_type": "stream",
     "text": [
      "Arc\n"
     ]
    },
    {
     "name": "stderr",
     "output_type": "stream",
     "text": [
      "/home/anais/software/projectsVp3/lib/python3.9/site-packages/seaborn/_decorators.py:36: FutureWarning: Pass the following variable as a keyword arg: x. From version 0.12, the only valid positional argument will be `data`, and passing other arguments without an explicit keyword will result in an error or misinterpretation.\n",
      "  warnings.warn(\n"
     ]
    },
    {
     "data": {
      "image/png": "[encoded data removed]",
      "text/plain": [
       "<Figure size 432x288 with 1 Axes>"
      ]
     },
     "metadata": {
      "needs_background": "light"
     },
     "output_type": "display_data"
    },
    {
     "name": "stdout",
     "output_type": "stream",
     "text": [
      "Bac\n"
     ]
    },
    {
     "name": "stderr",
     "output_type": "stream",
     "text": [
      "/home/anais/software/projectsVp3/lib/python3.9/site-packages/seaborn/_decorators.py:36: FutureWarning: Pass the following variable as a keyword arg: x. From version 0.12, the only valid positional argument will be `data`, and passing other arguments without an explicit keyword will result in an error or misinterpretation.\n",
      "  warnings.warn(\n"
     ]
    },
    {
     "data": {
      "image/png": "[encoded data removed]",
      "text/plain": [
       "<Figure size 432x288 with 1 Axes>"
      ]
     },
     "metadata": {
      "needs_background": "light"
     },
     "output_type": "display_data"
    },
    {
     "name": "stdout",
     "output_type": "stream",
     "text": [
      "Euk\n"
     ]
    },
    {
     "name": "stderr",
     "output_type": "stream",
     "text": [
      "/home/anais/software/projectsVp3/lib/python3.9/site-packages/seaborn/_decorators.py:36: FutureWarning: Pass the following variable as a keyword arg: x. From version 0.12, the only valid positional argument will be `data`, and passing other arguments without an explicit keyword will result in an error or misinterpretation.\n",
      "  warnings.warn(\n"
     ]
    },
    {
     "data": {
      "image/png": "[encoded data removed]",
      "text/plain": [
       "<Figure size 432x288 with 1 Axes>"
      ]
     },
     "metadata": {
      "needs_background": "light"
     },
     "output_type": "display_data"
    },
    {
     "name": "stdout",
     "output_type": "stream",
     "text": [
      "ArcBac\n"
     ]
    },
    {
     "name": "stderr",
     "output_type": "stream",
     "text": [
      "/home/anais/software/projectsVp3/lib/python3.9/site-packages/seaborn/_decorators.py:36: FutureWarning: Pass the following variable as a keyword arg: x. From version 0.12, the only valid positional argument will be `data`, and passing other arguments without an explicit keyword will result in an error or misinterpretation.\n",
      "  warnings.warn(\n"
     ]
    },
    {
     "data": {
      "image/png": "[encoded data removed]",
      "text/plain": [
       "<Figure size 432x288 with 1 Axes>"
      ]
     },
     "metadata": {
      "needs_background": "light"
     },
     "output_type": "display_data"
    },
    {
     "name": "stdout",
     "output_type": "stream",
     "text": [
      "ArcEuk\n"
     ]
    },
    {
     "name": "stderr",
     "output_type": "stream",
     "text": [
      "/home/anais/software/projectsVp3/lib/python3.9/site-packages/seaborn/_decorators.py:36: FutureWarning: Pass the following variable as a keyword arg: x. From version 0.12, the only valid positional argument will be `data`, and passing other arguments without an explicit keyword will result in an error or misinterpretation.\n",
      "  warnings.warn(\n"
     ]
    },
    {
     "data": {
      "image/png": "[encoded data removed]",
      "text/plain": [
       "<Figure size 432x288 with 1 Axes>"
      ]
     },
     "metadata": {
      "needs_background": "light"
     },
     "output_type": "display_data"
    },
    {
     "name": "stdout",
     "output_type": "stream",
     "text": [
      "BacEuk\n"
     ]
    },
    {
     "data": {
      "image/png": "[encoded data removed]",
      "text/plain": [
       "<Figure size 432x288 with 1 Axes>"
      ]
     },
     "metadata": {
      "needs_background": "light"
     },
     "output_type": "display_data"
    },
    {
     "name": "stdout",
     "output_type": "stream",
     "text": [
      "ArcBacEuk\n"
     ]
    },
    {
     "name": "stderr",
     "output_type": "stream",
     "text": [
      "/home/anais/software/projectsVp3/lib/python3.9/site-packages/seaborn/_decorators.py:36: FutureWarning: Pass the following variable as a keyword arg: x. From version 0.12, the only valid positional argument will be `data`, and passing other arguments without an explicit keyword will result in an error or misinterpretation.\n",
      "  warnings.warn(\n"
     ]
    },
    {
     "data": {
      "image/png": "[encoded data removed]",
      "text/plain": [
       "<Figure size 432x288 with 1 Axes>"
      ]
     },
     "metadata": {
      "needs_background": "light"
     },
     "output_type": "display_data"
    }
   ],
   "source": [
    "for grp in grpSp:\n",
    "    print(grp)\n",
    "    if grp == 'Euk':\n",
    "        sns.boxplot(grpSpNormalized[grp])\n",
    "        plt.xscale('log')\n",
    "        plt.show()\n",
    "    else:\n",
    "        sns.boxplot(grpSpNormalized[grp])\n",
    "        plt.show()"
   ]
  },
  {
   "cell_type": "code",
   "execution_count": 24,
   "id": "1a863ec8",
   "metadata": {},
   "outputs": [
    {
     "name": "stdout",
     "output_type": "stream",
     "text": [
      "25\n"
     ]
    }
   ],
   "source": [
    "print(len(grpSpNormalized['Arc']))"
   ]
  },
  {
   "cell_type": "code",
   "execution_count": 25,
   "id": "d5b202cc",
   "metadata": {},
   "outputs": [],
   "source": [
    "dfTree[['SpGrp', 'Tree']].to_csv(path_or_buf=\\\n",
    "                                '/home/anais/Documents/Projet/G4Evolution/ListTreeAfterFilterSeqQuality.csv',\n",
    "                                header=False, index=False, sep='\\t')"
   ]
  },
  {
   "cell_type": "code",
   "execution_count": 26,
   "id": "9f678233",
   "metadata": {
    "scrolled": true
   },
   "outputs": [
    {
     "name": "stdout",
     "output_type": "stream",
     "text": [
      "Arc\n",
      "['pyrococcus_horikoshii_ot3', 'pyrobaculum_aerophilum_str_im2', 'nanoarchaeum_equitans_kin4_m', 'methanobrevibacter_smithii_atcc_35061', 'halobacterium_salinarum_r1', 'cenarchaeum_symbiosum_a', 'hyperthermus_butylicus_dsm_5456', 'sulfolobus_solfataricus_p2', 'thermoplasma_acidophilum_dsm_1728', 'archaeoglobus_fulgidus_dsm_4304', 'candidatus_korarchaeum_cryptofilum_opf8', 'methanosarcina_acetivorans_c2a']\n",
      "ArcBac\n",
      "['cenarchaeum_symbiosum_a', 'halobacterium_salinarum_r1', 'dictyostelium_discoideum', 'francisella_tularensis_subsp_tularensis_schu_s4', 'mycobacterium_tuberculosis_h37rv', 'enterococcus_faecalis_v583', 'streptococcus_pneumoniae_tigr4', 'bacillus_subtilis_subsp_subtilis_str_168', 'archaeoglobus_fulgidus_dsm_4304', 'candidatus_korarchaeum_cryptofilum_opf8', 'yersinia_pestis_biovar_microtus_str_91001', 'methanosarcina_acetivorans_c2a', 'pyrococcus_horikoshii_ot3', 'chloroflexus_aurantiacus_j_10_fl', 'chlamydia_trachomatis_d_uw_3_cx', 'staphylococcus_aureus_subsp_aureus_n315', 'vibrio_cholerae_o1_biovar_el_tor_str_n16961', 'thermoplasma_acidophilum_dsm_1728', 'geobacter_sulfurreducens_pca', 'haemophilus_influenzae_rd_kw20', 'pyrobaculum_aerophilum_str_im2', 'brucella_abortus_bv_1_str_9_941', 'myxococcus_xanthus_dk_1622', 'hyperthermus_butylicus_dsm_5456', 'escherichia_coli_str_k_12_substr_mg1655', 'sulfolobus_solfataricus_p2', 'legionella_pneumophila_str_paris', 'aquifex_aeolicus_vf5', 'thermus_thermophilus_hb8', 'mycoplasma_pneumoniae_m129', 'anaplasma_phagocytophilum_str_hz', 'nanoarchaeum_equitans_kin4_m', 'neisseria_meningitidis_z2491', 'methanobrevibacter_smithii_atcc_35061', 'campylobacter_jejuni_subsp_jejuni_nctc_11168_atcc_700819', 'borrelia_burgdorferi_b31', 'wolbachia_endosymbiont_of_drosophila_melanogaster']\n",
      "ArcBacEuk\n",
      "['gasterosteus_aculeatus', 'monodelphis_domestica', 'aspergillus_nidulans', 'oryza_sativa', 'cenarchaeum_symbiosum_a', 'halobacterium_salinarum_r1', 'mycobacterium_tuberculosis_h37rv', 'enterococcus_faecalis_v583', 'streptococcus_pneumoniae_tigr4', 'francisella_tularensis_subsp_tularensis_schu_s4', 'bacillus_subtilis_subsp_subtilis_str_168', 'archaeoglobus_fulgidus_dsm_4304', 'candidatus_korarchaeum_cryptofilum_opf8', 'yersinia_pestis_biovar_microtus_str_91001', 'methanosarcina_acetivorans_c2a', 'pyrococcus_horikoshii_ot3', 'anolis_carolinensis', 'chloroflexus_aurantiacus_j_10_fl', 'staphylococcus_aureus_subsp_aureus_n315', 'chlamydia_trachomatis_d_uw_3_cx', 'caenorhabditis_elegans', 'vibrio_cholerae_o1_biovar_el_tor_str_n16961', 'arabidopsis_thaliana', 'thermoplasma_acidophilum_dsm_1728', 'ornithorhynchus_anatinus', 'geobacter_sulfurreducens_pca', 'haemophilus_influenzae_rd_kw20', 'pyrobaculum_aerophilum_str_im2', 'brucella_abortus_bv_1_str_9_941', 'escherichia_coli_str_k_12_substr_mg1655', 'myxococcus_xanthus_dk_1622', 'hyperthermus_butylicus_dsm_5456', 'gallus_gallus', 'legionella_pneumophila_str_paris', 'sulfolobus_solfataricus_p2', 'aquifex_aeolicus_vf5', 'saccharomyces_cerevisiae', 'thermus_thermophilus_hb8', 'pan_troglodytes', 'mycoplasma_pneumoniae_m129', 'anaplasma_phagocytophilum_str_hz', 'pongo_abelii', 'nanoarchaeum_equitans_kin4_m', 'neisseria_meningitidis_z2491', 'methanobrevibacter_smithii_atcc_35061', 'mus_musculus', 'campylobacter_jejuni_subsp_jejuni_nctc_11168_atcc_700819', 'solanum_lycopersicum', 'leishmania_major', 'borrelia_burgdorferi_b31', 'wolbachia_endosymbiont_of_drosophila_melanogaster', 'homo_sapiens', 'danio_rerio', 'neurospora_crassa']\n",
      "Bac\n",
      "['mycobacterium_tuberculosis_h37rv', 'francisella_tularensis_subsp_tularensis_schu_s4', 'enterococcus_faecalis_v583', 'streptococcus_pneumoniae_tigr4', 'bacillus_subtilis_subsp_subtilis_str_168', 'yersinia_pestis_biovar_microtus_str_91001', 'chloroflexus_aurantiacus_j_10_fl', 'staphylococcus_aureus_subsp_aureus_n315', 'chlamydia_trachomatis_d_uw_3_cx', 'vibrio_cholerae_o1_biovar_el_tor_str_n16961', 'geobacter_sulfurreducens_pca', 'haemophilus_influenzae_rd_kw20', 'brucella_abortus_bv_1_str_9_941', 'myxococcus_xanthus_dk_1622', 'escherichia_coli_str_k_12_substr_mg1655', 'legionella_pneumophila_str_paris', 'aquifex_aeolicus_vf5', 'thermus_thermophilus_hb8', 'mycoplasma_pneumoniae_m129', 'anaplasma_phagocytophilum_str_hz', 'neisseria_meningitidis_z2491', 'campylobacter_jejuni_subsp_jejuni_nctc_11168_atcc_700819', 'borrelia_burgdorferi_b31', 'wolbachia_endosymbiont_of_drosophila_melanogaster']\n",
      "BacEuk\n",
      "['gasterosteus_aculeatus', 'monodelphis_domestica', 'aspergillus_nidulans', 'oryza_sativa', 'schizosaccharomyces_pombe', 'drosophila_melanogaster', 'francisella_tularensis_subsp_tularensis_schu_s4', 'enterococcus_faecalis_v583', 'streptococcus_pneumoniae_tigr4', 'mycobacterium_tuberculosis_h37rv', 'bacillus_subtilis_subsp_subtilis_str_168', 'yersinia_pestis_biovar_microtus_str_91001', 'anolis_carolinensis', 'staphylococcus_aureus_subsp_aureus_n315', 'chlamydia_trachomatis_d_uw_3_cx', 'caenorhabditis_elegans', 'vibrio_cholerae_o1_biovar_el_tor_str_n16961', 'arabidopsis_thaliana', 'ornithorhynchus_anatinus', 'geobacter_sulfurreducens_pca', 'haemophilus_influenzae_rd_kw20', 'brucella_abortus_bv_1_str_9_941', 'escherichia_coli_str_k_12_substr_mg1655', 'myxococcus_xanthus_dk_1622', 'gallus_gallus', 'legionella_pneumophila_str_paris', 'saccharomyces_cerevisiae', 'aquifex_aeolicus_vf5', 'thermus_thermophilus_hb8', 'pan_troglodytes', 'mycoplasma_pneumoniae_m129', 'pongo_abelii', 'anaplasma_phagocytophilum_str_hz', 'neisseria_meningitidis_z2491', 'mus_musculus', 'campylobacter_jejuni_subsp_jejuni_nctc_11168_atcc_700819', 'borrelia_burgdorferi_b31', 'wolbachia_endosymbiont_of_drosophila_melanogaster', 'homo_sapiens', 'danio_rerio', 'neurospora_crassa']\n",
      "Euk\n",
      "['gasterosteus_aculeatus', 'monodelphis_domestica', 'aspergillus_nidulans', 'oryza_sativa', 'schizosaccharomyces_pombe', 'drosophila_melanogaster', 'dictyostelium_discoideum', 'anolis_carolinensis', 'vitis_vinifera', 'caenorhabditis_elegans', 'arabidopsis_thaliana', 'vibrio_cholerae_o1_biovar_el_tor_str_n16961', 'apis_mellifera', 'ornithorhynchus_anatinus', 'physcomitrella_patens', 'gallus_gallus', 'saccharomyces_cerevisiae', 'pan_troglodytes', 'chlamydomonas_reinhardtii', 'pongo_abelii', 'leishmania_major', 'solanum_lycopersicum', 'mus_musculus', 'homo_sapiens', 'danio_rerio', 'neurospora_crassa']\n",
      "Tot\n",
      "['gasterosteus_aculeatus', 'monodelphis_domestica', 'aspergillus_nidulans', 'oryza_sativa', 'cenarchaeum_symbiosum_a', 'halobacterium_salinarum_r1', 'schizosaccharomyces_pombe', 'drosophila_melanogaster', 'dictyostelium_discoideum', 'francisella_tularensis_subsp_tularensis_schu_s4', 'mycobacterium_tuberculosis_h37rv', 'enterococcus_faecalis_v583', 'streptococcus_pneumoniae_tigr4', 'bacillus_subtilis_subsp_subtilis_str_168', 'archaeoglobus_fulgidus_dsm_4304', 'candidatus_korarchaeum_cryptofilum_opf8', 'yersinia_pestis_biovar_microtus_str_91001', 'methanosarcina_acetivorans_c2a', 'pyrococcus_horikoshii_ot3', 'anolis_carolinensis', 'chloroflexus_aurantiacus_j_10_fl', 'vitis_vinifera', 'chlamydia_trachomatis_d_uw_3_cx', 'staphylococcus_aureus_subsp_aureus_n315', 'caenorhabditis_elegans', 'vibrio_cholerae_o1_biovar_el_tor_str_n16961', 'arabidopsis_thaliana', 'thermoplasma_acidophilum_dsm_1728', 'apis_mellifera', 'ornithorhynchus_anatinus', 'geobacter_sulfurreducens_pca', 'pyrobaculum_aerophilum_str_im2', 'haemophilus_influenzae_rd_kw20', 'brucella_abortus_bv_1_str_9_941', 'physcomitrella_patens', 'hyperthermus_butylicus_dsm_5456', 'myxococcus_xanthus_dk_1622', 'escherichia_coli_str_k_12_substr_mg1655', 'sulfolobus_solfataricus_p2', 'legionella_pneumophila_str_paris', 'gallus_gallus', 'aquifex_aeolicus_vf5', 'saccharomyces_cerevisiae', 'thermus_thermophilus_hb8', 'pan_troglodytes', 'mycoplasma_pneumoniae_m129', 'chlamydomonas_reinhardtii', 'anaplasma_phagocytophilum_str_hz', 'pongo_abelii', 'nanoarchaeum_equitans_kin4_m', 'neisseria_meningitidis_z2491', 'methanobrevibacter_smithii_atcc_35061', 'mus_musculus', 'campylobacter_jejuni_subsp_jejuni_nctc_11168_atcc_700819', 'solanum_lycopersicum', 'leishmania_major', 'borrelia_burgdorferi_b31', 'wolbachia_endosymbiont_of_drosophila_melanogaster', 'homo_sapiens', 'danio_rerio', 'neurospora_crassa']\n"
     ]
    }
   ],
   "source": [
    "groups = dfTree.groupby('SpGrp')\n",
    "listTot = []\n",
    "for name, group in groups:\n",
    "    print(name)\n",
    "    listTmp = []\n",
    "    for tree in list(set(group['Tree'])):\n",
    "        genes = subprocess.check_output(\"cat /home/anais/Documents/Projet/G4Evolution/listOrtho/\"+name+\"/grpOrtho_\"+tree+\".txt\", shell=True)\n",
    "        genes = genes.decode(\"utf-8\").split('\\n')\n",
    "        for g in genes:\n",
    "            if g in dicoGeneListbySp:\n",
    "                listTmp.append(dicoGeneListbySp[g])\n",
    "    print(list(set(listTmp)))\n",
    "    listTot.extend(listTmp)\n",
    "print('Tot')\n",
    "print(list(set(listTot)))"
   ]
  },
  {
   "cell_type": "code",
   "execution_count": 56,
   "id": "69201200",
   "metadata": {},
   "outputs": [
    {
     "name": "stdout",
     "output_type": "stream",
     "text": [
      "Arc\n",
      "75\n",
      "['13473', '15654', '13174', '13237', '13145', '13119', '13261', '13235', '15715', '13429', '13260', '13529', '13384', '13300', '13419', '13180', '13187', '13162', '13322', '13368', '13420', '13476', '13426', '13111', '13229', '13495', '13340', '13273', '13325', '13501', '13193', '13208', '13183', '13271', '13392', '13120', '13152', '13391', '13139', '13502', '13516', '15708', '26714', '15699', '13341', '13118', '13292', '13472', '15775', '13311', '13487', '13306', '13430', '13547', '13522', '13521', '13355', '13387', '13184', '13236', '13530', '13526', '15714', '13129', '13359', '13182', '13313', '13323', '13351', '13385', '13354', '13439', '15726', '13267', '13275']\n",
      "ArcBac\n",
      "218\n",
      "['10069', '453', '13838', '14050', '14169', '10217', '14603', '167', '139', '111', '354', '13251', '307', '10051', '13246', '14082', '14173', '10176', '13356', '10040', '13906', '9950', '9977', '10227', '20956', '7885', '484', '27', '10027', '68', '9884', '9898', '10136', '230', '100', '14297', '408', '9895', '10149', '461', '74', '14487', '293', '9936', '9867', '72', '7955', '10129', '15784', '14643', '13245', '9930', '10034', '227', '13423', '13498', '413', '13232', '10198', '14448', '13829', '9828', '10068', '10172', '13893', '14492', '10001', '10209', '10232', '13343', '7911', '13546', '9929', '13175', '13332', '214', '15710', '9844', '9857', '9955', '10041', '372', '10194', '14214', '14245', '9969', '13134', '13176', '14231', '7962', '13216', '456', '14446', '9833', '13404', '13144', '13447', '13458', '10066', '8053', '13422', '14035', '10230', '9851', '13952', '10042', '489', '7987', '14193', '10013', '14085', '28', '9913', '14618', '10058', '14191', '14534', '9982', '13542', '13541', '13981', '13543', '13480', '13367', '10231', '10156', '13192', '15785', '21178', '13223', '497', '380', '14136', '8040', '10166', '10050', '482', '15782', '10128', '14177', '7882', '13828', '14484', '13179', '14536', '301', '13485', '10118', '9904', '10223', '13441', '14383', '14217', '13257', '7902', '62', '16535', '21271', '9869', '13248', '14324', '9834', '15709', '13244', '14109', '13171', '10016', '14162', '494', '13167', '339', '9879', '9881', '10226', '140', '13225', '84', '10102', '13886', '13262', '14248', '13151', '9874', '9988', '332', '13407', '14449', '427', '14599', '7875', '14187', '13438', '13326', '14012', '14520', '15758', '266', '13282', '14662', '13269', '13433', '13297', '10059', '13403', '10174', '9915', '244', '13933', '15630', '94', '13258', '13159', '10215', '10052', '9905', '10169', '7853', '13298']\n",
      "ArcBacEuk\n",
      "10\n",
      "['502', '196', '198', '300', '369', '225', '13115', '10196', '329', '10153']\n",
      "Bac\n",
      "138\n",
      "['13885', '14220', '13824', '13966', '9976', '14226', '13936', '10124', '14071', '171', '14123', '8016', '14260', '469', '13929', '9886', '89', '14057', '13799', '15558', '10144', '411', '14395', '10114', '342', '9882', '20990', '302', '7957', '205', '10130', '9951', '10056', '13877', '14699', '7916', '424', '15525', '10143', '264', '288', '10022', '10150', '10197', '284', '392', '9888', '14313', '13949', '398', '206', '9919', '8013', '14346', '228', '9927', '10147', '14223', '458', '10030', '10113', '7917', '13950', '379', '486', '14544', '7886', '14456', '7883', '10031', '14590', '29', '9819', '439', '9958', '10033', '14457', '9829', '10177', '56', '7982', '357', '9900', '311', '88', '9893', '14365', '14259', '13910', '9817', '220', '438', '14119', '10039', '10141', '10167', '10159', '13', '145', '202', '352', '38', '13823', '14060', '191', '14673', '10', '7984', '10182', '14362', '9996', '7940', '212', '14153', '20954', '13925', '312', '9949', '7861', '9', '13976', '9914', '10161', '344', '9964', '281', '113', '13944', '14219', '14030', '9980', '7991', '14255', '9897', '10192', '305', '7889', '14281']\n",
      "BacEuk\n",
      "3\n",
      "['10076', '11', '136']\n",
      "Euk\n",
      "80\n",
      "['9458', '6876', '7250', '4570', '3064', '8005', '16731', '1454', '8135', '14829', '1805', '6475', '746', '9449', '7899', '4415', '7021', '8241', '18476', '20015', '19311', '9032', '4723', '3046', '9682', '9195', '2139', '5723', '16631', '4195', '2070', '14798', '8136', '5778', '4432', '17206', '5601', '5183', '1273', '9214', '15378', '5879', '7187', '15878', '3909', '2885', '9325', '4364', '14985', '8861', '5254', '5481', '6953', '6309', '1705', '6816', '19644', '3018', '3765', '1792', '15330', '20328', '9660', '1023', '5563', '5242', '9270', '3729', '4280', '11076', '8110', '1542', '11232', '2041', '3900', '19494', '16772', '3056', '15946', '7261']\n"
     ]
    }
   ],
   "source": [
    "# print(list(dfTree['Tree']))\n",
    "groups = dfTree.groupby('SpGrp')\n",
    "for name, group in groups:\n",
    "    print(name)\n",
    "    print(len(list(set(group['Tree']))))\n",
    "    print(list(set(group['Tree'])))"
   ]
  },
  {
   "cell_type": "markdown",
   "id": "df0b308f",
   "metadata": {},
   "source": [
    "# Read the merged family with other prediction"
   ]
  },
  {
   "cell_type": "code",
   "execution_count": 28,
   "id": "ee729b63",
   "metadata": {},
   "outputs": [],
   "source": [
    "#dico to rename species for the output file. This step is necessary otherwise count can not link the tree to the matrice.\n",
    "dicoNameSp = {'chlamydomonas_reinhardtii': 'Chlamydomonasreinhardtii',\n",
    "              'apis_mellifera': 'Apismellifera',\n",
    "              'gallus_gallus': 'Gallusgallus',\n",
    "              'arabidopsis_thaliana': 'Arabidopsisthaliana',\n",
    "              'vitis_vinifera': 'Vitisvinifera',\n",
    "              'monodelphis_domestica': 'Monodelphisdomestica',\n",
    "              'physcomitrella_patens': 'Physcomitrellapatens',\n",
    "              'oryza_sativa': 'Oryzasativa',\n",
    "              'neurospora_crassa': 'Neurosporacrassa',\n",
    "              'gasterosteus_aculeatus': 'Gasterosteusaculeatus',\n",
    "              'caenorhabditis_elegans': 'Caenorhabditiselegans',\n",
    "              'saccharomyces_cerevisiae': 'Saccharomycescerevisiae',\n",
    "              'danio_rerio': 'Daniorerio',\n",
    "              'drosophila_melanogaster': 'Drosophilamelanogaster',\n",
    "              'aspergillus_nidulans': 'Aspergillusnidulans',\n",
    "              'homo_sapiens': 'Homosapiens',\n",
    "              'leishmania_major': 'Leishmaniamajor',\n",
    "              'pongo_abelii': 'Pongoabelii',\n",
    "              'mus_musculus': 'Musmusculus',\n",
    "              'ornithorhynchus_anatinus': 'Ornithorhynchusanatinus',\n",
    "              'solanum_lycopersicum': 'Solanumlycopersicum',\n",
    "              'pan_troglodytes': 'Pantroglodytes',\n",
    "              'schizosaccharomyces_pombe': 'Schizosaccharomycespombe',\n",
    "              'anolis_carolinensis': 'Anoliscarolinensis',\n",
    "              'Dictyosteliumdiscoideum': 'Dictyosteliumdiscoideum',\n",
    "              \n",
    "              'chloroflexus_aurantiacus_j_10_fl': 'Chloroflexusaurantiacus',\n",
    "              'haemophilus_influenzae_rd_kw20': 'Haemophilusinfluenzae',\n",
    "              'mycobacterium_tuberculosis_h37rv': 'Mycobacteriumtuberculosis',\n",
    "              'mycoplasma_pneumoniae_m129': 'Mycoplasmapneumoniae',\n",
    "              'aquifex_aeolicus_vf5': 'Aquifexaeolicus',\n",
    "              'francisella_tularensis_subsp_tularensis_schu_s4': 'Francisellatularensis',\n",
    "              'brucella_abortus_bv_1_str_9_941': 'Brucellaabortus',\n",
    "              'anaplasma_phagocytophilum_str_hz': 'Anaplasmaphagocytophilum',\n",
    "              'thermus_thermophilus_hb8': 'Thermusthermophilus',\n",
    "              'enterococcus_faecalis_v583': 'Enterococcusfaecalis',\n",
    "              'wolbachia_endosymbiont_of_drosophila_melanogaster': 'Wolbachiaendosymbiontofdrosophilamelanogaster',\n",
    "              'borrelia_burgdorferi_b31': 'Borreliaburgdorferi',\n",
    "              'myxococcus_xanthus_dk_1622': 'Myxococcusxanthus',\n",
    "              'geobacter_sulfurreducens_pca': 'Geobactersulfurreducens',\n",
    "              'chlamydia_trachomatis_d_uw_3_cx': 'Chlamydiatrachomatis',\n",
    "              'escherichia_coli_str_k_12_substr_mg1655': 'Escherichiacoli',\n",
    "              'yersinia_pestis_biovar_microtus_str_91001': 'Yersiniapestis',\n",
    "              'bacillus_subtilis_subsp_subtilis_str_168': 'Bacillussubtilis',\n",
    "              'staphylococcus_aureus_subsp_aureus_n315': 'Staphylococcusaureus',\n",
    "              'legionella_pneumophila_str_paris': 'Legionellapneumoniae',\n",
    "              'neisseria_meningitidis_z2491': 'Neisseriameningitidis',\n",
    "              'campylobacter_jejuni_subsp_jejuni_nctc_11168_atcc_700819': 'Campylobacterjejuni',\n",
    "              'streptococcus_pneumoniae_tigr4': 'Streptococcuspneumoniae',\n",
    "              \n",
    "              'pyrococcus_horikoshii_ot3': 'Pyrococcushorikoshii',\n",
    "              'cenarchaeum_symbiosum_a': 'Cenarchaeumsymbiosum',\n",
    "              'methanosarcina_acetivorans_c2a': 'Methanosarcinaacetivorans',\n",
    "              'nanoarchaeum_equitans_kin4_m': 'Nanoarcheumequitans',\n",
    "              'thermoplasma_acidophilum_dsm_1728': 'Thermoplasmaacidophilum',\n",
    "              'hyperthermus_butylicus_dsm_5456': 'Hyperthermusbutylicus',\n",
    "              'pyrobaculum_aerophilum_str_im2': 'Pyrobaculumaerophilum',\n",
    "              'halobacterium_salinarum_r1': 'Halobacteriumsalinarum',\n",
    "              'sulfolobus_solfataricus_p2': 'Sulfolobussolfataricus',\n",
    "              'methanobrevibacter_smithii_atcc_35061': 'Metanobrevibactersmithii',\n",
    "              'candidatus_korarchaeum_cryptofilum_opf8': 'Candidatuskorarchaeumcryptofilum',\n",
    "              'archaeoglobus_fulgidus_dsm_4304': 'Archeoglobusfulgidus'}"
   ]
  },
  {
   "cell_type": "code",
   "execution_count": 29,
   "id": "dc4daa44",
   "metadata": {},
   "outputs": [],
   "source": [
    "def getConservation(row):\n",
    "    if row['G4H'] == 1 and row['G4NN'] == 1 and row['cGcC'] == 1:\n",
    "        return 'Strong'\n",
    "    elif row['qgrs'] == 1:\n",
    "        return 'Weak'\n",
    "    else:\n",
    "        return 'None'"
   ]
  },
  {
   "cell_type": "code",
   "execution_count": 30,
   "id": "cb307ae7",
   "metadata": {
    "scrolled": true
   },
   "outputs": [
    {
     "name": "stdout",
     "output_type": "stream",
     "text": [
      "Arc\n"
     ]
    },
    {
     "data": {
      "image/png": "[encoded data removed]",
      "text/plain": [
       "<Figure size 432x288 with 1 Axes>"
      ]
     },
     "metadata": {
      "needs_background": "light"
     },
     "output_type": "display_data"
    },
    {
     "name": "stdout",
     "output_type": "stream",
     "text": [
      "Bac\n"
     ]
    },
    {
     "data": {
      "image/png": "[encoded data removed]",
      "text/plain": [
       "<Figure size 432x288 with 1 Axes>"
      ]
     },
     "metadata": {
      "needs_background": "light"
     },
     "output_type": "display_data"
    },
    {
     "name": "stdout",
     "output_type": "stream",
     "text": [
      "Euk\n"
     ]
    },
    {
     "data": {
      "image/png": "[encoded data removed]",
      "text/plain": [
       "<Figure size 432x288 with 1 Axes>"
      ]
     },
     "metadata": {
      "needs_background": "light"
     },
     "output_type": "display_data"
    }
   ],
   "source": [
    "groups = dfTree.groupby('SpGrp')\n",
    "for name, group in groups:\n",
    "    if name in ['Arc', 'Bac', 'Euk']:\n",
    "        print(name)\n",
    "        listSpGrptmp = list(set(group['Tree']))\n",
    "        dicoCons = {'Strong': 0, 'Medium': 0, 'Weak': 0, 'None': 0}\n",
    "        nbTree = 0\n",
    "        for tree in listSpGrptmp:\n",
    "            nbTree += 1\n",
    "            try:\n",
    "                #read qgrs prediction\n",
    "                df = pd.read_csv('/home/anais/Documents/Projet/G4Evolution/FamG4Pred/'+name+'/'+tree+'.csv', sep='\\t')\n",
    "            except:\n",
    "                pass\n",
    "            else:\n",
    "                dicoDf = df.to_dict('records')\n",
    "                for row in dicoDf:\n",
    "                    dicoCons[getConservation(row)] += 1\n",
    "        dicoCons['Strong'] = dicoCons['Strong'] / nbTree\n",
    "        dicoCons['Medium'] = dicoCons['Medium'] / nbTree\n",
    "        dicoCons['Weak'] = dicoCons['Weak'] / nbTree\n",
    "        dicoCons['None'] = dicoCons['None'] / nbTree\n",
    "        \n",
    "        # Make a random dataset:\n",
    "        height = [dicoCons['Strong'], dicoCons['Medium'], dicoCons['Weak'], dicoCons['None']]\n",
    "        bars = ('Strong', 'Medium', 'Weak', 'None')\n",
    "        y_pos = np.arange(len(bars))\n",
    "\n",
    "        # Create bars\n",
    "        plt.bar(y_pos, height)\n",
    "\n",
    "        # Create names on the x-axis\n",
    "        plt.xticks(y_pos, bars)\n",
    "\n",
    "        # Show graphic\n",
    "        plt.show()"
   ]
  },
  {
   "cell_type": "code",
   "execution_count": 31,
   "id": "7d0d0566",
   "metadata": {},
   "outputs": [],
   "source": [
    "def iniBigMatrice(grp):\n",
    "    listTmp = []\n",
    "    for tree in list(set(dfTree[dfTree.SpGrp == grp]['Tree'])):\n",
    "        genes = subprocess.check_output(\"cat /home/anais/Documents/Projet/G4Evolution/listOrtho/\"+grp+\"/grpOrtho_\"+tree+\".txt\", shell=True)\n",
    "        genes = genes.decode(\"utf-8\").split('\\n')\n",
    "        for g in genes:\n",
    "            if g in dicoGeneListbySp:\n",
    "                listTmp.append(dicoGeneListbySp[g])\n",
    "    column = list(set(listTmp))\n",
    "    column.append('Fam')\n",
    "    if grp == 'Euk':\n",
    "        column.append('Dictyosteliumdiscoideum')\n",
    "    return pd.DataFrame(columns = column)"
   ]
  },
  {
   "cell_type": "code",
   "execution_count": 32,
   "id": "975dd6ba",
   "metadata": {},
   "outputs": [
    {
     "name": "stdout",
     "output_type": "stream",
     "text": [
      "Arc\n",
      "Bac\n",
      "Euk\n"
     ]
    }
   ],
   "source": [
    "#################### WEAK ################################\n",
    "groups = dfTree.groupby('SpGrp')\n",
    "for name, group in groups:\n",
    "    if name in ['Arc', 'Bac', 'Euk']:\n",
    "        print(name)\n",
    "        bigMatrice = iniBigMatrice(name)\n",
    "        \n",
    "        listSpGrptmp = list(set(group['Tree']))\n",
    "\n",
    "        for tree in listSpGrptmp:\n",
    "            try:\n",
    "                df = pd.read_csv('/home/anais/Documents/Projet/G4Evolution/FamG4Pred/'+name+'/'+tree+'.csv', sep='\\t')\n",
    "            except:\n",
    "                pass\n",
    "            else:\n",
    "                if len(df)>0:\n",
    "                    groupsFam = df.groupby('idRegion')\n",
    "                    for region, groupFam in groupsFam:\n",
    "\n",
    "                        dicoRowBigMat = {}\n",
    "                        for sp in bigMatrice.columns:\n",
    "                            dicoRowBigMat[sp] = [0]\n",
    "                        dicoRowBigMat['Fam'] = [region]\n",
    "\n",
    "                        dicoDf = groupFam.to_dict('records')\n",
    "                        for row in dicoDf:\n",
    "                            if row['gene'].split(':')[0] in dicoGeneListbySp:\n",
    "                                sp = dicoGeneListbySp[row['gene'].split(':')[0]]\n",
    "                            elif row['gene'].split(':')[0] == 'DDB_G0282033':\n",
    "                                sp = 'Dictyosteliumdiscoideum'\n",
    "                            if getConservation(row) in ['Strong', 'Weak']:\n",
    "                                dicoRowBigMat[sp] = [1]\n",
    "                            \n",
    "                        bigMatrice = bigMatrice.append(pd.DataFrame(dicoRowBigMat))\n",
    "                        \n",
    "        bigMatrice.set_index('Fam', inplace=True)\n",
    "        bigMatrice.rename(columns=dicoNameSp, inplace=True)\n",
    "#         bigMatrice = bigMatrice.drop_duplicates(subset=None, keep='first', inplace=False)\n",
    "        bigMatrice.to_csv(path_or_buf='/home/anais/Documents/Projet/G4Evolution/Matrices/AllTreeOrtho_Weak_'+name+'.csv', header=True, index=True, sep='\\t')"
   ]
  },
  {
   "cell_type": "code",
   "execution_count": 33,
   "id": "68c01943",
   "metadata": {
    "scrolled": true
   },
   "outputs": [
    {
     "name": "stdout",
     "output_type": "stream",
     "text": [
      "Arc\n",
      "Bac\n",
      "------------------\n",
      "['13885:1536-1597', '13885:1769-1888', '13885:667-726', '9976:1189-1248', '9976:1960-2048', '9976:420-516', '14226:1901-2228', '14226:551-637', '14226:850-928', '13936:899-1020', '10124:1066-1199', '10124:145-293', '14071:990-1080', '171:140-207', '14123:671-836', '89:619-689', '14057:406-467', '14057:561-651', '10114:1106-1166', '342:3959-4018', '342:511-636', '9882:486-693', '7957:286-365', '10130:1221-1335', '9951:261-320', '9951:412-481', '10056:834-922', '14699:2220-2280', '14699:300-473', '7916:650-809', '424:2679-2946', '424:482-542', '10143:1535-1597', '10143:668-792', '10143:84-217', '10143:971-1277', '10022:1305-1369', '10197:559-623', '284:1291-1363', '392:1239-1300', '9888:67-163', '398:900-993', '228:471-534', '228:955-1044', '10147:2695-2783', '10147:830-896', '458:264-331', '10113:655-734', '13950:1756-1815', '14456:216-295', '7883:197-283', '439:1038-1106', '439:1855-1979', '9958:987-1080', '56:1056-1169', '357:437-538', '9893:1292-1606', '14365:1-99', '14365:283-354', '14259:1712-1787', '9817:1106-1305', '14119:434-493', '10141:1237-1408', '10167:412-476', '145:1079-1140', '202:2749-3140', '202:3952-4236', '202:4773-4976', '14060:1195-1270', '14060:828-910', '14673:402-463', '10:281-441', '10:53-139', '7984:943-1031', '9949:193-272', '9914:131-236', '344:408-490', '344:552-657', '281:243-314', '9980:2090-2166', '7991:276-369', '7991:908-968', '9897:265-324', '14281:282-345', '14281:709-768']\n",
      "Euk\n"
     ]
    }
   ],
   "source": [
    "#################### Strong ################################\n",
    "groups = dfTree.groupby('SpGrp')\n",
    "for name, group in groups:\n",
    "    if name in ['Arc', 'Bac', 'Euk']:\n",
    "        print(name)\n",
    "        AllTreeOrtho_Strong = iniBigMatrice(name)\n",
    "        \n",
    "        listSpGrptmp = list(set(group['Tree']))\n",
    "\n",
    "        for tree in listSpGrptmp:\n",
    "            try:\n",
    "                df = pd.read_csv('/home/anais/Documents/Projet/G4Evolution/FamG4Pred/'+name+'/'+tree+'.csv', sep='\\t')\n",
    "            except:\n",
    "                pass\n",
    "                df = pd.read_csv('/home/anais/Documents/Projet/G4Evolution/FamG4Pred/'+name+'/'+tree+'.csv', sep='\\t')\n",
    "            else:\n",
    "                if len(df)>0:\n",
    "                    groupsFam = df.groupby('idRegion')\n",
    "                    for region, groupFam in groupsFam:\n",
    "\n",
    "                        dicoRowBigMat = {}\n",
    "                        for sp in AllTreeOrtho_Strong.columns:\n",
    "                            dicoRowBigMat[sp] = [0]\n",
    "                        dicoRowBigMat['Fam'] = [region]\n",
    "\n",
    "                        dicoDf = groupFam.to_dict('records')\n",
    "                        for row in dicoDf:\n",
    "                            if row['gene'].split(':')[0] in dicoGeneListbySp:\n",
    "                                sp = dicoGeneListbySp[row['gene'].split(':')[0]]\n",
    "                            elif row['gene'].split(':')[0] == 'DDB_G0282033':\n",
    "                                sp = 'Dictyosteliumdiscoideum'\n",
    "                            if getConservation(row) in ['Strong']:\n",
    "                                dicoRowBigMat[sp] = [1]\n",
    "                            \n",
    "                        AllTreeOrtho_Strong = AllTreeOrtho_Strong.append(pd.DataFrame(dicoRowBigMat))\n",
    "                        \n",
    "        AllTreeOrtho_Strong.set_index('Fam', inplace=True)\n",
    "        AllTreeOrtho_Strong.rename(columns=dicoNameSp, inplace=True)\n",
    "#         AllTreeOrtho_Strong = AllTreeOrtho_Strong.drop_duplicates(subset=None, keep='first', inplace=False)\n",
    "        AllTreeOrtho_Strong.to_csv(path_or_buf='/home/anais/Documents/Projet/G4Evolution/Matrices/AllTreeOrtho_Strong_'+name+'.csv', header=True, index=True, sep='\\t')\n",
    "        if name == 'Bac':\n",
    "            print('------------------')\n",
    "            print(list(AllTreeOrtho_Strong.index))"
   ]
  },
  {
   "cell_type": "code",
   "execution_count": 34,
   "id": "95c53cc1",
   "metadata": {
    "scrolled": false
   },
   "outputs": [
    {
     "name": "stdout",
     "output_type": "stream",
     "text": [
      "Gasterosteusaculeatus [0, 1]\n",
      "Monodelphisdomestica [0, 1]\n",
      "Aspergillusnidulans [0]\n",
      "Oryzasativa [0, 1]\n",
      "Schizosaccharomycespombe [0]\n",
      "Drosophilamelanogaster [0, 1]\n",
      "dictyostelium_discoideum [0]\n",
      "Anoliscarolinensis [0, 1]\n",
      "Vitisvinifera [0]\n",
      "Caenorhabditiselegans [0, 1]\n",
      "Arabidopsisthaliana [0]\n",
      "vibrio_cholerae_o1_biovar_el_tor_str_n16961 [0]\n",
      "Apismellifera [0, 1]\n",
      "Ornithorhynchusanatinus [0, 1]\n",
      "Physcomitrellapatens [0, 1]\n",
      "Gallusgallus [0, 1]\n",
      "Saccharomycescerevisiae [0]\n",
      "Pantroglodytes [0, 1]\n",
      "Chlamydomonasreinhardtii [0, 1]\n",
      "Pongoabelii [0, 1]\n",
      "Leishmaniamajor [0, 1]\n",
      "Solanumlycopersicum [0]\n",
      "Musmusculus [0, 1]\n",
      "Homosapiens [0, 1]\n",
      "Daniorerio [0, 1]\n",
      "Neurosporacrassa [0]\n",
      "Dictyosteliumdiscoideum [0]\n"
     ]
    }
   ],
   "source": [
    "for sp in AllTreeOrtho_Strong.columns:\n",
    "    print(sp, list(set(AllTreeOrtho_Strong[sp])))"
   ]
  },
  {
   "cell_type": "code",
   "execution_count": 35,
   "id": "fddddb54",
   "metadata": {},
   "outputs": [
    {
     "name": "stdout",
     "output_type": "stream",
     "text": [
      "Arc\n",
      "Bac\n",
      "Euk\n"
     ]
    }
   ],
   "source": [
    "#################### Read merged fam ################################\n",
    "groups = dfTree.groupby('SpGrp')\n",
    "for name, group in groups:\n",
    "    if name in ['Arc', 'Bac', 'Euk']:\n",
    "        print(name)\n",
    "        AllTreeOrtho_Test = iniBigMatrice(name)\n",
    "        \n",
    "        listSpGrptmp = list(set(group['Tree']))\n",
    "\n",
    "        for tree in listSpGrptmp:\n",
    "            try:\n",
    "                with open('/home/anais/Documents/Projet/G4Evolution/mergedpG4FamiliesPecentrOrtho/'+name+'/'+tree+'.csv') as f:\n",
    "                    content = f.read()\n",
    "                    lines = content.split('\\n')\n",
    "                    for l in lines:\n",
    "                        w = l.split('\\t')\n",
    "                        dicoRowBigMat = {}\n",
    "                        for sp in AllTreeOrtho_Test.columns:\n",
    "                            dicoRowBigMat[sp] = [0]\n",
    "                        dicoRowBigMat['Fam'] = [tree+':'+w[1]+'-'+w[2]]\n",
    "                        \n",
    "                        for gene in w[3].split('|'):\n",
    "                            if gene in dicoGeneListbySp:\n",
    "                                sp = dicoGeneListbySp[gene]\n",
    "                            elif gene == 'DDB_G0282033':\n",
    "                                sp = 'dictyostelium_discoideum'\n",
    "                            dicoRowBigMat[sp] = [1]\n",
    "                            \n",
    "                        AllTreeOrtho_Test = AllTreeOrtho_Test.append(pd.DataFrame(dicoRowBigMat))\n",
    "            except:\n",
    "                pass\n",
    "                        \n",
    "#         AllTreeOrtho_Test.set_index('Fam', inplace=True)\n",
    "#         AllTreeOrtho_Test.to_csv(path_or_buf='/home/anais/Documents/Projet/G4Evolution/Matrices/AllTreeOrtho_Test_'+name+'.csv', header=True, index=True, sep='\\t')"
   ]
  },
  {
   "cell_type": "markdown",
   "id": "a7b73036",
   "metadata": {},
   "source": [
    "# test nombre de fam"
   ]
  },
  {
   "cell_type": "code",
   "execution_count": 36,
   "id": "1a5b3779",
   "metadata": {},
   "outputs": [
    {
     "name": "stdout",
     "output_type": "stream",
     "text": [
      "Arc\n",
      "68\n",
      "\n",
      "Bac\n",
      "85\n",
      "\n",
      "Euk\n",
      "3731\n",
      "\n",
      "ArcBac\n",
      "249\n",
      "\n",
      "ArcEuk\n",
      "0\n",
      "\n",
      "BacEuk\n",
      "0\n",
      "\n",
      "ArcBacEuk\n",
      "20\n",
      "\n"
     ]
    }
   ],
   "source": [
    "for grp in nbFamperTreemerge:\n",
    "    print(grp)\n",
    "    print(sum(nbFamperTreemerge[grp]))\n",
    "    print()"
   ]
  },
  {
   "cell_type": "code",
   "execution_count": 37,
   "id": "49c8560d",
   "metadata": {
    "scrolled": false
   },
   "outputs": [
    {
     "name": "stdout",
     "output_type": "stream",
     "text": [
      "{'gallus_gallus': 539, 'pongo_abelii': 408, 'pan_troglodytes': 982, 'homo_sapiens': 1105, 'mus_musculus': 926, 'monodelphis_domestica': 795, 'danio_rerio': 191, 'gasterosteus_aculeatus': 152, 'ornithorhynchus_anatinus': 162, 'drosophila_melanogaster': 19, 'anolis_carolinensis': 185, 'chlamydomonas_reinhardtii': 48, 'apis_mellifera': 34, 'caenorhabditis_elegans': 2, 'oryza_sativa': 1, 'leishmania_major': 1, 'physcomitrella_patens': 1}\n"
     ]
    }
   ],
   "source": [
    "dicoSpNbpG4Fam = {}\n",
    "\n",
    "for tree in list(set(dfTree[dfTree.SpGrp == 'Euk']['Tree'])):\n",
    "    try:\n",
    "        content = subprocess.check_output('cat /home/anais/Documents/Projet/G4Evolution/mergedpG4FamiliesPecentrOrtho/Euk/'+tree+'.csv', shell=True)\n",
    "    except:\n",
    "        print('/home/anais/Documents/Projet/G4Evolution/mergedpG4FamiliesPecentrOrtho/Euk/'+tree+'.csv')\n",
    "    else:\n",
    "        content = content.decode(\"utf-8\")\n",
    "        content = content.split('\\n')\n",
    "        if content[-1] == '':\n",
    "            content = content[:-1]\n",
    "        content = content[1:]\n",
    "        nbFamperTreemerge[trees[tree]].append(len(content))\n",
    "        for l in content:\n",
    "            l = l.split('\\t')\n",
    "            genes = l[3].split('|')\n",
    "            for g in genes:\n",
    "                if g in dicoGeneListbySp:\n",
    "                    sp = dicoGeneListbySp[g]\n",
    "                elif g == 'DDB_G0282033':\n",
    "                    sp = 'dictyostelium_discoideum'\n",
    "                if sp not in dicoSpNbpG4Fam:\n",
    "                    dicoSpNbpG4Fam[sp] = 0\n",
    "                dicoSpNbpG4Fam[sp] += 1\n",
    "print(dicoSpNbpG4Fam)\n",
    "            "
   ]
  },
  {
   "cell_type": "code",
   "execution_count": 38,
   "id": "eeef75e9",
   "metadata": {},
   "outputs": [
    {
     "data": {
      "text/plain": [
       "1040"
      ]
     },
     "execution_count": 38,
     "metadata": {},
     "output_type": "execute_result"
    }
   ],
   "source": [
    "len(list(dfTree[dfTree.SpGrp == 'Euk']['Tree']))"
   ]
  },
  {
   "cell_type": "code",
   "execution_count": 39,
   "id": "408f342c",
   "metadata": {},
   "outputs": [
    {
     "data": {
      "text/plain": [
       "80"
      ]
     },
     "execution_count": 39,
     "metadata": {},
     "output_type": "execute_result"
    }
   ],
   "source": [
    "len(list(set(dfTree[dfTree.SpGrp == 'Euk']['Tree'])))"
   ]
  },
  {
   "cell_type": "code",
   "execution_count": 40,
   "id": "49027448",
   "metadata": {},
   "outputs": [
    {
     "data": {
      "text/plain": [
       "138"
      ]
     },
     "execution_count": 40,
     "metadata": {},
     "output_type": "execute_result"
    }
   ],
   "source": [
    "len(list(set(dfTree[dfTree.SpGrp == 'Bac']['Tree'])))"
   ]
  },
  {
   "cell_type": "code",
   "execution_count": 41,
   "id": "5be4bd6f",
   "metadata": {},
   "outputs": [
    {
     "data": {
      "text/plain": [
       "75"
      ]
     },
     "execution_count": 41,
     "metadata": {},
     "output_type": "execute_result"
    }
   ],
   "source": [
    "len(list(set(dfTree[dfTree.SpGrp == 'Arc']['Tree'])))"
   ]
  },
  {
   "cell_type": "code",
   "execution_count": 42,
   "id": "933a877e",
   "metadata": {
    "scrolled": false
   },
   "outputs": [
    {
     "data": {
      "text/html": [
       "<div>\n",
       "<style scoped>\n",
       "    .dataframe tbody tr th:only-of-type {\n",
       "        vertical-align: middle;\n",
       "    }\n",
       "\n",
       "    .dataframe tbody tr th {\n",
       "        vertical-align: top;\n",
       "    }\n",
       "\n",
       "    .dataframe thead th {\n",
       "        text-align: right;\n",
       "    }\n",
       "</style>\n",
       "<table border=\"1\" class=\"dataframe\">\n",
       "  <thead>\n",
       "    <tr style=\"text-align: right;\">\n",
       "      <th></th>\n",
       "      <th>SpGrp</th>\n",
       "      <th>Value</th>\n",
       "      <th>NbGene</th>\n",
       "      <th>Tree</th>\n",
       "      <th>Loc</th>\n",
       "      <th>Measure</th>\n",
       "    </tr>\n",
       "  </thead>\n",
       "  <tbody>\n",
       "    <tr>\n",
       "      <th>0</th>\n",
       "      <td>Arc</td>\n",
       "      <td>0.812538</td>\n",
       "      <td>10</td>\n",
       "      <td>13111</td>\n",
       "      <td>All</td>\n",
       "      <td>RatioSeq</td>\n",
       "    </tr>\n",
       "    <tr>\n",
       "      <th>1</th>\n",
       "      <td>Arc</td>\n",
       "      <td>0.910683</td>\n",
       "      <td>11</td>\n",
       "      <td>13118</td>\n",
       "      <td>All</td>\n",
       "      <td>RatioSeq</td>\n",
       "    </tr>\n",
       "    <tr>\n",
       "      <th>2</th>\n",
       "      <td>Arc</td>\n",
       "      <td>0.899340</td>\n",
       "      <td>7</td>\n",
       "      <td>13119</td>\n",
       "      <td>All</td>\n",
       "      <td>RatioSeq</td>\n",
       "    </tr>\n",
       "    <tr>\n",
       "      <th>3</th>\n",
       "      <td>Arc</td>\n",
       "      <td>0.907799</td>\n",
       "      <td>8</td>\n",
       "      <td>13120</td>\n",
       "      <td>All</td>\n",
       "      <td>RatioSeq</td>\n",
       "    </tr>\n",
       "    <tr>\n",
       "      <th>4</th>\n",
       "      <td>Arc</td>\n",
       "      <td>0.806787</td>\n",
       "      <td>10</td>\n",
       "      <td>13129</td>\n",
       "      <td>All</td>\n",
       "      <td>RatioSeq</td>\n",
       "    </tr>\n",
       "    <tr>\n",
       "      <th>...</th>\n",
       "      <td>...</td>\n",
       "      <td>...</td>\n",
       "      <td>...</td>\n",
       "      <td>...</td>\n",
       "      <td>...</td>\n",
       "      <td>...</td>\n",
       "    </tr>\n",
       "    <tr>\n",
       "      <th>7</th>\n",
       "      <td>ArcBacEuk</td>\n",
       "      <td>0.607067</td>\n",
       "      <td>35</td>\n",
       "      <td>502</td>\n",
       "      <td>Rest</td>\n",
       "      <td>Identiy</td>\n",
       "    </tr>\n",
       "    <tr>\n",
       "      <th>8</th>\n",
       "      <td>ArcBacEuk</td>\n",
       "      <td>0.577783</td>\n",
       "      <td>35</td>\n",
       "      <td>502</td>\n",
       "      <td>Fam</td>\n",
       "      <td>RatioSeq</td>\n",
       "    </tr>\n",
       "    <tr>\n",
       "      <th>9</th>\n",
       "      <td>ArcBacEuk</td>\n",
       "      <td>0.620966</td>\n",
       "      <td>35</td>\n",
       "      <td>502</td>\n",
       "      <td>Up</td>\n",
       "      <td>RatioSeq</td>\n",
       "    </tr>\n",
       "    <tr>\n",
       "      <th>10</th>\n",
       "      <td>ArcBacEuk</td>\n",
       "      <td>0.624015</td>\n",
       "      <td>35</td>\n",
       "      <td>502</td>\n",
       "      <td>Down</td>\n",
       "      <td>RatioSeq</td>\n",
       "    </tr>\n",
       "    <tr>\n",
       "      <th>11</th>\n",
       "      <td>ArcBacEuk</td>\n",
       "      <td>0.645752</td>\n",
       "      <td>35</td>\n",
       "      <td>502</td>\n",
       "      <td>Rest</td>\n",
       "      <td>RatioSeq</td>\n",
       "    </tr>\n",
       "  </tbody>\n",
       "</table>\n",
       "<p>3092 rows × 6 columns</p>\n",
       "</div>"
      ],
      "text/plain": [
       "        SpGrp     Value  NbGene   Tree   Loc   Measure\n",
       "0         Arc  0.812538      10  13111   All  RatioSeq\n",
       "1         Arc  0.910683      11  13118   All  RatioSeq\n",
       "2         Arc  0.899340       7  13119   All  RatioSeq\n",
       "3         Arc  0.907799       8  13120   All  RatioSeq\n",
       "4         Arc  0.806787      10  13129   All  RatioSeq\n",
       "..        ...       ...     ...    ...   ...       ...\n",
       "7   ArcBacEuk  0.607067      35    502  Rest   Identiy\n",
       "8   ArcBacEuk  0.577783      35    502   Fam  RatioSeq\n",
       "9   ArcBacEuk  0.620966      35    502    Up  RatioSeq\n",
       "10  ArcBacEuk  0.624015      35    502  Down  RatioSeq\n",
       "11  ArcBacEuk  0.645752      35    502  Rest  RatioSeq\n",
       "\n",
       "[3092 rows x 6 columns]"
      ]
     },
     "execution_count": 42,
     "metadata": {},
     "output_type": "execute_result"
    }
   ],
   "source": [
    "dfTree"
   ]
  },
  {
   "cell_type": "code",
   "execution_count": 43,
   "id": "f1a3bfaf",
   "metadata": {},
   "outputs": [
    {
     "data": {
      "text/html": [
       "<div>\n",
       "<style scoped>\n",
       "    .dataframe tbody tr th:only-of-type {\n",
       "        vertical-align: middle;\n",
       "    }\n",
       "\n",
       "    .dataframe tbody tr th {\n",
       "        vertical-align: top;\n",
       "    }\n",
       "\n",
       "    .dataframe thead th {\n",
       "        text-align: right;\n",
       "    }\n",
       "</style>\n",
       "<table border=\"1\" class=\"dataframe\">\n",
       "  <thead>\n",
       "    <tr style=\"text-align: right;\">\n",
       "      <th></th>\n",
       "      <th>SpGrp</th>\n",
       "      <th>Value</th>\n",
       "      <th>NbGene</th>\n",
       "      <th>Tree</th>\n",
       "      <th>Loc</th>\n",
       "      <th>Measure</th>\n",
       "    </tr>\n",
       "  </thead>\n",
       "  <tbody>\n",
       "    <tr>\n",
       "      <th>0</th>\n",
       "      <td>Arc</td>\n",
       "      <td>0.812538</td>\n",
       "      <td>10</td>\n",
       "      <td>13111</td>\n",
       "      <td>All</td>\n",
       "      <td>RatioSeq</td>\n",
       "    </tr>\n",
       "    <tr>\n",
       "      <th>1</th>\n",
       "      <td>Arc</td>\n",
       "      <td>0.910683</td>\n",
       "      <td>11</td>\n",
       "      <td>13118</td>\n",
       "      <td>All</td>\n",
       "      <td>RatioSeq</td>\n",
       "    </tr>\n",
       "    <tr>\n",
       "      <th>2</th>\n",
       "      <td>Arc</td>\n",
       "      <td>0.899340</td>\n",
       "      <td>7</td>\n",
       "      <td>13119</td>\n",
       "      <td>All</td>\n",
       "      <td>RatioSeq</td>\n",
       "    </tr>\n",
       "    <tr>\n",
       "      <th>3</th>\n",
       "      <td>Arc</td>\n",
       "      <td>0.907799</td>\n",
       "      <td>8</td>\n",
       "      <td>13120</td>\n",
       "      <td>All</td>\n",
       "      <td>RatioSeq</td>\n",
       "    </tr>\n",
       "    <tr>\n",
       "      <th>4</th>\n",
       "      <td>Arc</td>\n",
       "      <td>0.806787</td>\n",
       "      <td>10</td>\n",
       "      <td>13129</td>\n",
       "      <td>All</td>\n",
       "      <td>RatioSeq</td>\n",
       "    </tr>\n",
       "    <tr>\n",
       "      <th>...</th>\n",
       "      <td>...</td>\n",
       "      <td>...</td>\n",
       "      <td>...</td>\n",
       "      <td>...</td>\n",
       "      <td>...</td>\n",
       "      <td>...</td>\n",
       "    </tr>\n",
       "    <tr>\n",
       "      <th>4337</th>\n",
       "      <td>ArcBacEuk</td>\n",
       "      <td>0.699877</td>\n",
       "      <td>22</td>\n",
       "      <td>225</td>\n",
       "      <td>All</td>\n",
       "      <td>RatioSeq</td>\n",
       "    </tr>\n",
       "    <tr>\n",
       "      <th>4408</th>\n",
       "      <td>ArcBacEuk</td>\n",
       "      <td>0.684795</td>\n",
       "      <td>24</td>\n",
       "      <td>300</td>\n",
       "      <td>All</td>\n",
       "      <td>RatioSeq</td>\n",
       "    </tr>\n",
       "    <tr>\n",
       "      <th>4422</th>\n",
       "      <td>ArcBacEuk</td>\n",
       "      <td>0.674314</td>\n",
       "      <td>36</td>\n",
       "      <td>329</td>\n",
       "      <td>All</td>\n",
       "      <td>RatioSeq</td>\n",
       "    </tr>\n",
       "    <tr>\n",
       "      <th>4441</th>\n",
       "      <td>ArcBacEuk</td>\n",
       "      <td>0.694059</td>\n",
       "      <td>32</td>\n",
       "      <td>369</td>\n",
       "      <td>All</td>\n",
       "      <td>RatioSeq</td>\n",
       "    </tr>\n",
       "    <tr>\n",
       "      <th>4518</th>\n",
       "      <td>ArcBacEuk</td>\n",
       "      <td>0.604015</td>\n",
       "      <td>35</td>\n",
       "      <td>502</td>\n",
       "      <td>All</td>\n",
       "      <td>RatioSeq</td>\n",
       "    </tr>\n",
       "  </tbody>\n",
       "</table>\n",
       "<p>524 rows × 6 columns</p>\n",
       "</div>"
      ],
      "text/plain": [
       "          SpGrp     Value  NbGene   Tree  Loc   Measure\n",
       "0           Arc  0.812538      10  13111  All  RatioSeq\n",
       "1           Arc  0.910683      11  13118  All  RatioSeq\n",
       "2           Arc  0.899340       7  13119  All  RatioSeq\n",
       "3           Arc  0.907799       8  13120  All  RatioSeq\n",
       "4           Arc  0.806787      10  13129  All  RatioSeq\n",
       "...         ...       ...     ...    ...  ...       ...\n",
       "4337  ArcBacEuk  0.699877      22    225  All  RatioSeq\n",
       "4408  ArcBacEuk  0.684795      24    300  All  RatioSeq\n",
       "4422  ArcBacEuk  0.674314      36    329  All  RatioSeq\n",
       "4441  ArcBacEuk  0.694059      32    369  All  RatioSeq\n",
       "4518  ArcBacEuk  0.604015      35    502  All  RatioSeq\n",
       "\n",
       "[524 rows x 6 columns]"
      ]
     },
     "execution_count": 43,
     "metadata": {},
     "output_type": "execute_result"
    }
   ],
   "source": [
    "dfTree[dfTree.Loc == 'All']"
   ]
  },
  {
   "cell_type": "code",
   "execution_count": 44,
   "id": "cd41b7f6",
   "metadata": {},
   "outputs": [
    {
     "data": {
      "text/html": [
       "<div>\n",
       "<style scoped>\n",
       "    .dataframe tbody tr th:only-of-type {\n",
       "        vertical-align: middle;\n",
       "    }\n",
       "\n",
       "    .dataframe tbody tr th {\n",
       "        vertical-align: top;\n",
       "    }\n",
       "\n",
       "    .dataframe thead th {\n",
       "        text-align: right;\n",
       "    }\n",
       "</style>\n",
       "<table border=\"1\" class=\"dataframe\">\n",
       "  <thead>\n",
       "    <tr style=\"text-align: right;\">\n",
       "      <th></th>\n",
       "      <th>Gasterosteusaculeatus</th>\n",
       "      <th>Monodelphisdomestica</th>\n",
       "      <th>Aspergillusnidulans</th>\n",
       "      <th>Oryzasativa</th>\n",
       "      <th>Schizosaccharomycespombe</th>\n",
       "      <th>Drosophilamelanogaster</th>\n",
       "      <th>dictyostelium_discoideum</th>\n",
       "      <th>Anoliscarolinensis</th>\n",
       "      <th>Vitisvinifera</th>\n",
       "      <th>Caenorhabditiselegans</th>\n",
       "      <th>...</th>\n",
       "      <th>Pantroglodytes</th>\n",
       "      <th>Chlamydomonasreinhardtii</th>\n",
       "      <th>Pongoabelii</th>\n",
       "      <th>Leishmaniamajor</th>\n",
       "      <th>Solanumlycopersicum</th>\n",
       "      <th>Musmusculus</th>\n",
       "      <th>Homosapiens</th>\n",
       "      <th>Daniorerio</th>\n",
       "      <th>Neurosporacrassa</th>\n",
       "      <th>Dictyosteliumdiscoideum</th>\n",
       "    </tr>\n",
       "    <tr>\n",
       "      <th>Fam</th>\n",
       "      <th></th>\n",
       "      <th></th>\n",
       "      <th></th>\n",
       "      <th></th>\n",
       "      <th></th>\n",
       "      <th></th>\n",
       "      <th></th>\n",
       "      <th></th>\n",
       "      <th></th>\n",
       "      <th></th>\n",
       "      <th></th>\n",
       "      <th></th>\n",
       "      <th></th>\n",
       "      <th></th>\n",
       "      <th></th>\n",
       "      <th></th>\n",
       "      <th></th>\n",
       "      <th></th>\n",
       "      <th></th>\n",
       "      <th></th>\n",
       "      <th></th>\n",
       "    </tr>\n",
       "  </thead>\n",
       "  <tbody>\n",
       "    <tr>\n",
       "      <th>9458:107263-107345</th>\n",
       "      <td>0</td>\n",
       "      <td>0</td>\n",
       "      <td>0</td>\n",
       "      <td>0</td>\n",
       "      <td>0</td>\n",
       "      <td>0</td>\n",
       "      <td>0</td>\n",
       "      <td>0</td>\n",
       "      <td>0</td>\n",
       "      <td>0</td>\n",
       "      <td>...</td>\n",
       "      <td>0</td>\n",
       "      <td>0</td>\n",
       "      <td>0</td>\n",
       "      <td>0</td>\n",
       "      <td>0</td>\n",
       "      <td>1</td>\n",
       "      <td>0</td>\n",
       "      <td>0</td>\n",
       "      <td>0</td>\n",
       "      <td>0</td>\n",
       "    </tr>\n",
       "    <tr>\n",
       "      <th>9458:108187-108333</th>\n",
       "      <td>0</td>\n",
       "      <td>0</td>\n",
       "      <td>0</td>\n",
       "      <td>0</td>\n",
       "      <td>0</td>\n",
       "      <td>0</td>\n",
       "      <td>0</td>\n",
       "      <td>0</td>\n",
       "      <td>0</td>\n",
       "      <td>0</td>\n",
       "      <td>...</td>\n",
       "      <td>0</td>\n",
       "      <td>0</td>\n",
       "      <td>0</td>\n",
       "      <td>0</td>\n",
       "      <td>0</td>\n",
       "      <td>0</td>\n",
       "      <td>0</td>\n",
       "      <td>1</td>\n",
       "      <td>0</td>\n",
       "      <td>0</td>\n",
       "    </tr>\n",
       "    <tr>\n",
       "      <th>9458:1289-1705</th>\n",
       "      <td>0</td>\n",
       "      <td>0</td>\n",
       "      <td>0</td>\n",
       "      <td>0</td>\n",
       "      <td>0</td>\n",
       "      <td>0</td>\n",
       "      <td>0</td>\n",
       "      <td>0</td>\n",
       "      <td>0</td>\n",
       "      <td>0</td>\n",
       "      <td>...</td>\n",
       "      <td>0</td>\n",
       "      <td>0</td>\n",
       "      <td>0</td>\n",
       "      <td>0</td>\n",
       "      <td>0</td>\n",
       "      <td>0</td>\n",
       "      <td>0</td>\n",
       "      <td>0</td>\n",
       "      <td>0</td>\n",
       "      <td>0</td>\n",
       "    </tr>\n",
       "    <tr>\n",
       "      <th>9458:157-577</th>\n",
       "      <td>0</td>\n",
       "      <td>0</td>\n",
       "      <td>0</td>\n",
       "      <td>0</td>\n",
       "      <td>0</td>\n",
       "      <td>0</td>\n",
       "      <td>0</td>\n",
       "      <td>0</td>\n",
       "      <td>0</td>\n",
       "      <td>0</td>\n",
       "      <td>...</td>\n",
       "      <td>1</td>\n",
       "      <td>0</td>\n",
       "      <td>1</td>\n",
       "      <td>0</td>\n",
       "      <td>0</td>\n",
       "      <td>1</td>\n",
       "      <td>1</td>\n",
       "      <td>0</td>\n",
       "      <td>0</td>\n",
       "      <td>0</td>\n",
       "    </tr>\n",
       "    <tr>\n",
       "      <th>9458:15743-15949</th>\n",
       "      <td>0</td>\n",
       "      <td>0</td>\n",
       "      <td>0</td>\n",
       "      <td>0</td>\n",
       "      <td>0</td>\n",
       "      <td>0</td>\n",
       "      <td>0</td>\n",
       "      <td>0</td>\n",
       "      <td>0</td>\n",
       "      <td>0</td>\n",
       "      <td>...</td>\n",
       "      <td>0</td>\n",
       "      <td>0</td>\n",
       "      <td>0</td>\n",
       "      <td>0</td>\n",
       "      <td>0</td>\n",
       "      <td>0</td>\n",
       "      <td>0</td>\n",
       "      <td>1</td>\n",
       "      <td>0</td>\n",
       "      <td>0</td>\n",
       "    </tr>\n",
       "    <tr>\n",
       "      <th>...</th>\n",
       "      <td>...</td>\n",
       "      <td>...</td>\n",
       "      <td>...</td>\n",
       "      <td>...</td>\n",
       "      <td>...</td>\n",
       "      <td>...</td>\n",
       "      <td>...</td>\n",
       "      <td>...</td>\n",
       "      <td>...</td>\n",
       "      <td>...</td>\n",
       "      <td>...</td>\n",
       "      <td>...</td>\n",
       "      <td>...</td>\n",
       "      <td>...</td>\n",
       "      <td>...</td>\n",
       "      <td>...</td>\n",
       "      <td>...</td>\n",
       "      <td>...</td>\n",
       "      <td>...</td>\n",
       "      <td>...</td>\n",
       "      <td>...</td>\n",
       "    </tr>\n",
       "    <tr>\n",
       "      <th>7261:61598-61660</th>\n",
       "      <td>0</td>\n",
       "      <td>0</td>\n",
       "      <td>0</td>\n",
       "      <td>0</td>\n",
       "      <td>0</td>\n",
       "      <td>0</td>\n",
       "      <td>0</td>\n",
       "      <td>1</td>\n",
       "      <td>0</td>\n",
       "      <td>0</td>\n",
       "      <td>...</td>\n",
       "      <td>0</td>\n",
       "      <td>0</td>\n",
       "      <td>0</td>\n",
       "      <td>0</td>\n",
       "      <td>0</td>\n",
       "      <td>0</td>\n",
       "      <td>0</td>\n",
       "      <td>0</td>\n",
       "      <td>0</td>\n",
       "      <td>0</td>\n",
       "    </tr>\n",
       "    <tr>\n",
       "      <th>7261:62901-62970</th>\n",
       "      <td>0</td>\n",
       "      <td>0</td>\n",
       "      <td>0</td>\n",
       "      <td>0</td>\n",
       "      <td>0</td>\n",
       "      <td>0</td>\n",
       "      <td>0</td>\n",
       "      <td>1</td>\n",
       "      <td>0</td>\n",
       "      <td>0</td>\n",
       "      <td>...</td>\n",
       "      <td>0</td>\n",
       "      <td>0</td>\n",
       "      <td>0</td>\n",
       "      <td>0</td>\n",
       "      <td>0</td>\n",
       "      <td>0</td>\n",
       "      <td>0</td>\n",
       "      <td>0</td>\n",
       "      <td>0</td>\n",
       "      <td>0</td>\n",
       "    </tr>\n",
       "    <tr>\n",
       "      <th>7261:64558-64705</th>\n",
       "      <td>0</td>\n",
       "      <td>0</td>\n",
       "      <td>0</td>\n",
       "      <td>0</td>\n",
       "      <td>0</td>\n",
       "      <td>0</td>\n",
       "      <td>0</td>\n",
       "      <td>0</td>\n",
       "      <td>0</td>\n",
       "      <td>0</td>\n",
       "      <td>...</td>\n",
       "      <td>0</td>\n",
       "      <td>0</td>\n",
       "      <td>0</td>\n",
       "      <td>0</td>\n",
       "      <td>0</td>\n",
       "      <td>1</td>\n",
       "      <td>0</td>\n",
       "      <td>0</td>\n",
       "      <td>0</td>\n",
       "      <td>0</td>\n",
       "    </tr>\n",
       "    <tr>\n",
       "      <th>7261:65342-65723</th>\n",
       "      <td>1</td>\n",
       "      <td>0</td>\n",
       "      <td>0</td>\n",
       "      <td>0</td>\n",
       "      <td>0</td>\n",
       "      <td>0</td>\n",
       "      <td>0</td>\n",
       "      <td>0</td>\n",
       "      <td>0</td>\n",
       "      <td>0</td>\n",
       "      <td>...</td>\n",
       "      <td>0</td>\n",
       "      <td>0</td>\n",
       "      <td>0</td>\n",
       "      <td>0</td>\n",
       "      <td>0</td>\n",
       "      <td>0</td>\n",
       "      <td>0</td>\n",
       "      <td>0</td>\n",
       "      <td>0</td>\n",
       "      <td>0</td>\n",
       "    </tr>\n",
       "    <tr>\n",
       "      <th>7261:78384-78443</th>\n",
       "      <td>1</td>\n",
       "      <td>0</td>\n",
       "      <td>0</td>\n",
       "      <td>0</td>\n",
       "      <td>0</td>\n",
       "      <td>0</td>\n",
       "      <td>0</td>\n",
       "      <td>0</td>\n",
       "      <td>0</td>\n",
       "      <td>0</td>\n",
       "      <td>...</td>\n",
       "      <td>0</td>\n",
       "      <td>0</td>\n",
       "      <td>0</td>\n",
       "      <td>0</td>\n",
       "      <td>0</td>\n",
       "      <td>0</td>\n",
       "      <td>0</td>\n",
       "      <td>0</td>\n",
       "      <td>0</td>\n",
       "      <td>0</td>\n",
       "    </tr>\n",
       "  </tbody>\n",
       "</table>\n",
       "<p>3731 rows × 27 columns</p>\n",
       "</div>"
      ],
      "text/plain": [
       "                   Gasterosteusaculeatus Monodelphisdomestica  \\\n",
       "Fam                                                             \n",
       "9458:107263-107345                     0                    0   \n",
       "9458:108187-108333                     0                    0   \n",
       "9458:1289-1705                         0                    0   \n",
       "9458:157-577                           0                    0   \n",
       "9458:15743-15949                       0                    0   \n",
       "...                                  ...                  ...   \n",
       "7261:61598-61660                       0                    0   \n",
       "7261:62901-62970                       0                    0   \n",
       "7261:64558-64705                       0                    0   \n",
       "7261:65342-65723                       1                    0   \n",
       "7261:78384-78443                       1                    0   \n",
       "\n",
       "                   Aspergillusnidulans Oryzasativa Schizosaccharomycespombe  \\\n",
       "Fam                                                                           \n",
       "9458:107263-107345                   0           0                        0   \n",
       "9458:108187-108333                   0           0                        0   \n",
       "9458:1289-1705                       0           0                        0   \n",
       "9458:157-577                         0           0                        0   \n",
       "9458:15743-15949                     0           0                        0   \n",
       "...                                ...         ...                      ...   \n",
       "7261:61598-61660                     0           0                        0   \n",
       "7261:62901-62970                     0           0                        0   \n",
       "7261:64558-64705                     0           0                        0   \n",
       "7261:65342-65723                     0           0                        0   \n",
       "7261:78384-78443                     0           0                        0   \n",
       "\n",
       "                   Drosophilamelanogaster dictyostelium_discoideum  \\\n",
       "Fam                                                                  \n",
       "9458:107263-107345                      0                        0   \n",
       "9458:108187-108333                      0                        0   \n",
       "9458:1289-1705                          0                        0   \n",
       "9458:157-577                            0                        0   \n",
       "9458:15743-15949                        0                        0   \n",
       "...                                   ...                      ...   \n",
       "7261:61598-61660                        0                        0   \n",
       "7261:62901-62970                        0                        0   \n",
       "7261:64558-64705                        0                        0   \n",
       "7261:65342-65723                        0                        0   \n",
       "7261:78384-78443                        0                        0   \n",
       "\n",
       "                   Anoliscarolinensis Vitisvinifera Caenorhabditiselegans  \\\n",
       "Fam                                                                         \n",
       "9458:107263-107345                  0             0                     0   \n",
       "9458:108187-108333                  0             0                     0   \n",
       "9458:1289-1705                      0             0                     0   \n",
       "9458:157-577                        0             0                     0   \n",
       "9458:15743-15949                    0             0                     0   \n",
       "...                               ...           ...                   ...   \n",
       "7261:61598-61660                    1             0                     0   \n",
       "7261:62901-62970                    1             0                     0   \n",
       "7261:64558-64705                    0             0                     0   \n",
       "7261:65342-65723                    0             0                     0   \n",
       "7261:78384-78443                    0             0                     0   \n",
       "\n",
       "                    ... Pantroglodytes Chlamydomonasreinhardtii Pongoabelii  \\\n",
       "Fam                 ...                                                       \n",
       "9458:107263-107345  ...              0                        0           0   \n",
       "9458:108187-108333  ...              0                        0           0   \n",
       "9458:1289-1705      ...              0                        0           0   \n",
       "9458:157-577        ...              1                        0           1   \n",
       "9458:15743-15949    ...              0                        0           0   \n",
       "...                 ...            ...                      ...         ...   \n",
       "7261:61598-61660    ...              0                        0           0   \n",
       "7261:62901-62970    ...              0                        0           0   \n",
       "7261:64558-64705    ...              0                        0           0   \n",
       "7261:65342-65723    ...              0                        0           0   \n",
       "7261:78384-78443    ...              0                        0           0   \n",
       "\n",
       "                   Leishmaniamajor Solanumlycopersicum Musmusculus  \\\n",
       "Fam                                                                  \n",
       "9458:107263-107345               0                   0           1   \n",
       "9458:108187-108333               0                   0           0   \n",
       "9458:1289-1705                   0                   0           0   \n",
       "9458:157-577                     0                   0           1   \n",
       "9458:15743-15949                 0                   0           0   \n",
       "...                            ...                 ...         ...   \n",
       "7261:61598-61660                 0                   0           0   \n",
       "7261:62901-62970                 0                   0           0   \n",
       "7261:64558-64705                 0                   0           1   \n",
       "7261:65342-65723                 0                   0           0   \n",
       "7261:78384-78443                 0                   0           0   \n",
       "\n",
       "                   Homosapiens Daniorerio Neurosporacrassa  \\\n",
       "Fam                                                          \n",
       "9458:107263-107345           0          0                0   \n",
       "9458:108187-108333           0          1                0   \n",
       "9458:1289-1705               0          0                0   \n",
       "9458:157-577                 1          0                0   \n",
       "9458:15743-15949             0          1                0   \n",
       "...                        ...        ...              ...   \n",
       "7261:61598-61660             0          0                0   \n",
       "7261:62901-62970             0          0                0   \n",
       "7261:64558-64705             0          0                0   \n",
       "7261:65342-65723             0          0                0   \n",
       "7261:78384-78443             0          0                0   \n",
       "\n",
       "                   Dictyosteliumdiscoideum  \n",
       "Fam                                         \n",
       "9458:107263-107345                       0  \n",
       "9458:108187-108333                       0  \n",
       "9458:1289-1705                           0  \n",
       "9458:157-577                             0  \n",
       "9458:15743-15949                         0  \n",
       "...                                    ...  \n",
       "7261:61598-61660                         0  \n",
       "7261:62901-62970                         0  \n",
       "7261:64558-64705                         0  \n",
       "7261:65342-65723                         0  \n",
       "7261:78384-78443                         0  \n",
       "\n",
       "[3731 rows x 27 columns]"
      ]
     },
     "execution_count": 44,
     "metadata": {},
     "output_type": "execute_result"
    }
   ],
   "source": [
    "AllTreeOrtho_Strong"
   ]
  },
  {
   "cell_type": "code",
   "execution_count": 45,
   "id": "d88e9c9b",
   "metadata": {
    "scrolled": true
   },
   "outputs": [
    {
     "ename": "KeyError",
     "evalue": "'homo_sapiens'",
     "output_type": "error",
     "traceback": [
      "\u001b[0;31m---------------------------------------------------------------------------\u001b[0m",
      "\u001b[0;31mKeyError\u001b[0m                                  Traceback (most recent call last)",
      "\u001b[0;32m~/software/projectsVp3/lib/python3.9/site-packages/pandas/core/indexes/base.py\u001b[0m in \u001b[0;36mget_loc\u001b[0;34m(self, key, method, tolerance)\u001b[0m\n\u001b[1;32m   3079\u001b[0m             \u001b[0;32mtry\u001b[0m\u001b[0;34m:\u001b[0m\u001b[0;34m\u001b[0m\u001b[0;34m\u001b[0m\u001b[0m\n\u001b[0;32m-> 3080\u001b[0;31m                 \u001b[0;32mreturn\u001b[0m \u001b[0mself\u001b[0m\u001b[0;34m.\u001b[0m\u001b[0m_engine\u001b[0m\u001b[0;34m.\u001b[0m\u001b[0mget_loc\u001b[0m\u001b[0;34m(\u001b[0m\u001b[0mcasted_key\u001b[0m\u001b[0;34m)\u001b[0m\u001b[0;34m\u001b[0m\u001b[0;34m\u001b[0m\u001b[0m\n\u001b[0m\u001b[1;32m   3081\u001b[0m             \u001b[0;32mexcept\u001b[0m \u001b[0mKeyError\u001b[0m \u001b[0;32mas\u001b[0m \u001b[0merr\u001b[0m\u001b[0;34m:\u001b[0m\u001b[0;34m\u001b[0m\u001b[0;34m\u001b[0m\u001b[0m\n",
      "\u001b[0;32mpandas/_libs/index.pyx\u001b[0m in \u001b[0;36mpandas._libs.index.IndexEngine.get_loc\u001b[0;34m()\u001b[0m\n",
      "\u001b[0;32mpandas/_libs/index.pyx\u001b[0m in \u001b[0;36mpandas._libs.index.IndexEngine.get_loc\u001b[0;34m()\u001b[0m\n",
      "\u001b[0;32mpandas/_libs/hashtable_class_helper.pxi\u001b[0m in \u001b[0;36mpandas._libs.hashtable.PyObjectHashTable.get_item\u001b[0;34m()\u001b[0m\n",
      "\u001b[0;32mpandas/_libs/hashtable_class_helper.pxi\u001b[0m in \u001b[0;36mpandas._libs.hashtable.PyObjectHashTable.get_item\u001b[0;34m()\u001b[0m\n",
      "\u001b[0;31mKeyError\u001b[0m: 'homo_sapiens'",
      "\nThe above exception was the direct cause of the following exception:\n",
      "\u001b[0;31mKeyError\u001b[0m                                  Traceback (most recent call last)",
      "\u001b[0;32m<ipython-input-45-53c9224c745b>\u001b[0m in \u001b[0;36m<module>\u001b[0;34m\u001b[0m\n\u001b[0;32m----> 1\u001b[0;31m \u001b[0mAllTreeOrtho_Strong\u001b[0m\u001b[0;34m[\u001b[0m\u001b[0;34m'homo_sapiens'\u001b[0m\u001b[0;34m]\u001b[0m\u001b[0;34m.\u001b[0m\u001b[0msum\u001b[0m\u001b[0;34m(\u001b[0m\u001b[0;34m)\u001b[0m\u001b[0;34m\u001b[0m\u001b[0;34m\u001b[0m\u001b[0m\n\u001b[0m",
      "\u001b[0;32m~/software/projectsVp3/lib/python3.9/site-packages/pandas/core/frame.py\u001b[0m in \u001b[0;36m__getitem__\u001b[0;34m(self, key)\u001b[0m\n\u001b[1;32m   3022\u001b[0m             \u001b[0;32mif\u001b[0m \u001b[0mself\u001b[0m\u001b[0;34m.\u001b[0m\u001b[0mcolumns\u001b[0m\u001b[0;34m.\u001b[0m\u001b[0mnlevels\u001b[0m \u001b[0;34m>\u001b[0m \u001b[0;36m1\u001b[0m\u001b[0;34m:\u001b[0m\u001b[0;34m\u001b[0m\u001b[0;34m\u001b[0m\u001b[0m\n\u001b[1;32m   3023\u001b[0m                 \u001b[0;32mreturn\u001b[0m \u001b[0mself\u001b[0m\u001b[0;34m.\u001b[0m\u001b[0m_getitem_multilevel\u001b[0m\u001b[0;34m(\u001b[0m\u001b[0mkey\u001b[0m\u001b[0;34m)\u001b[0m\u001b[0;34m\u001b[0m\u001b[0;34m\u001b[0m\u001b[0m\n\u001b[0;32m-> 3024\u001b[0;31m             \u001b[0mindexer\u001b[0m \u001b[0;34m=\u001b[0m \u001b[0mself\u001b[0m\u001b[0;34m.\u001b[0m\u001b[0mcolumns\u001b[0m\u001b[0;34m.\u001b[0m\u001b[0mget_loc\u001b[0m\u001b[0;34m(\u001b[0m\u001b[0mkey\u001b[0m\u001b[0;34m)\u001b[0m\u001b[0;34m\u001b[0m\u001b[0;34m\u001b[0m\u001b[0m\n\u001b[0m\u001b[1;32m   3025\u001b[0m             \u001b[0;32mif\u001b[0m \u001b[0mis_integer\u001b[0m\u001b[0;34m(\u001b[0m\u001b[0mindexer\u001b[0m\u001b[0;34m)\u001b[0m\u001b[0;34m:\u001b[0m\u001b[0;34m\u001b[0m\u001b[0;34m\u001b[0m\u001b[0m\n\u001b[1;32m   3026\u001b[0m                 \u001b[0mindexer\u001b[0m \u001b[0;34m=\u001b[0m \u001b[0;34m[\u001b[0m\u001b[0mindexer\u001b[0m\u001b[0;34m]\u001b[0m\u001b[0;34m\u001b[0m\u001b[0;34m\u001b[0m\u001b[0m\n",
      "\u001b[0;32m~/software/projectsVp3/lib/python3.9/site-packages/pandas/core/indexes/base.py\u001b[0m in \u001b[0;36mget_loc\u001b[0;34m(self, key, method, tolerance)\u001b[0m\n\u001b[1;32m   3080\u001b[0m                 \u001b[0;32mreturn\u001b[0m \u001b[0mself\u001b[0m\u001b[0;34m.\u001b[0m\u001b[0m_engine\u001b[0m\u001b[0;34m.\u001b[0m\u001b[0mget_loc\u001b[0m\u001b[0;34m(\u001b[0m\u001b[0mcasted_key\u001b[0m\u001b[0;34m)\u001b[0m\u001b[0;34m\u001b[0m\u001b[0;34m\u001b[0m\u001b[0m\n\u001b[1;32m   3081\u001b[0m             \u001b[0;32mexcept\u001b[0m \u001b[0mKeyError\u001b[0m \u001b[0;32mas\u001b[0m \u001b[0merr\u001b[0m\u001b[0;34m:\u001b[0m\u001b[0;34m\u001b[0m\u001b[0;34m\u001b[0m\u001b[0m\n\u001b[0;32m-> 3082\u001b[0;31m                 \u001b[0;32mraise\u001b[0m \u001b[0mKeyError\u001b[0m\u001b[0;34m(\u001b[0m\u001b[0mkey\u001b[0m\u001b[0;34m)\u001b[0m \u001b[0;32mfrom\u001b[0m \u001b[0merr\u001b[0m\u001b[0;34m\u001b[0m\u001b[0;34m\u001b[0m\u001b[0m\n\u001b[0m\u001b[1;32m   3083\u001b[0m \u001b[0;34m\u001b[0m\u001b[0m\n\u001b[1;32m   3084\u001b[0m         \u001b[0;32mif\u001b[0m \u001b[0mtolerance\u001b[0m \u001b[0;32mis\u001b[0m \u001b[0;32mnot\u001b[0m \u001b[0;32mNone\u001b[0m\u001b[0;34m:\u001b[0m\u001b[0;34m\u001b[0m\u001b[0;34m\u001b[0m\u001b[0m\n",
      "\u001b[0;31mKeyError\u001b[0m: 'homo_sapiens'"
     ]
    }
   ],
   "source": [
    "AllTreeOrtho_Strong['homo_sapiens'].sum()"
   ]
  },
  {
   "cell_type": "code",
   "execution_count": null,
   "id": "cd489a8d",
   "metadata": {},
   "outputs": [],
   "source": [
    "AllTreeOrtho_Test"
   ]
  },
  {
   "cell_type": "code",
   "execution_count": null,
   "id": "6d0c53e0",
   "metadata": {},
   "outputs": [],
   "source": [
    "AllTreeOrtho_Test['homo_sapiens'].sum()"
   ]
  },
  {
   "cell_type": "code",
   "execution_count": null,
   "id": "8efc2c10",
   "metadata": {
    "scrolled": true
   },
   "outputs": [],
   "source": [
    "df_all = AllTreeOrtho_Strong.merge(AllTreeOrtho_Test.drop_duplicates(), on=list(AllTreeOrtho_Strong.columns), \n",
    "                   how='left', indicator=True)\n",
    "df_all = df_all[df_all['_merge'] == 'left_only']\n",
    "df_all"
   ]
  },
  {
   "cell_type": "markdown",
   "id": "02bdf882",
   "metadata": {},
   "source": [
    "Famille \"8005:10068-10217\", existe dans cat mergedpG4FamiliesPecentrOrtho/Euk/8005.csv: Fam20\t10068\t10217\tENSG00000168874|ENSPTRG00000045046\t2\n",
    "\n",
    "Et aussi dans le nouveau: cat FamG4Pred/Euk/8005.csv | grep 8005:10068-10217 mais avec trois strong:\n",
    "\n",
    "1\t1\t1\tENSPPYG00000012219:2a:24364396~24400080:-\t8005:10068-10217\t1\n",
    "1\t1\t1\tENSPTRG00000045046:2A:87468737~87506366:+\t8005:10068-10217\t1\n",
    "1\t1\t1\tENSG00000168874:2:85751344~85791383:+\t8005:10068-10217\t1\n",
    "Pour les autres gènes les scores sont null.\n",
    "\n",
    "# Compute densities of gene\n",
    "## initial data"
   ]
  },
  {
   "cell_type": "code",
   "execution_count": 46,
   "id": "3612ed0e",
   "metadata": {},
   "outputs": [
    {
     "data": {
      "text/html": [
       "<div>\n",
       "<style scoped>\n",
       "    .dataframe tbody tr th:only-of-type {\n",
       "        vertical-align: middle;\n",
       "    }\n",
       "\n",
       "    .dataframe tbody tr th {\n",
       "        vertical-align: top;\n",
       "    }\n",
       "\n",
       "    .dataframe thead th {\n",
       "        text-align: right;\n",
       "    }\n",
       "</style>\n",
       "<table border=\"1\" class=\"dataframe\">\n",
       "  <thead>\n",
       "    <tr style=\"text-align: right;\">\n",
       "      <th></th>\n",
       "      <th>SpGrp</th>\n",
       "      <th>Value</th>\n",
       "      <th>NbGene</th>\n",
       "      <th>Tree</th>\n",
       "      <th>Loc</th>\n",
       "      <th>Measure</th>\n",
       "    </tr>\n",
       "  </thead>\n",
       "  <tbody>\n",
       "    <tr>\n",
       "      <th>0</th>\n",
       "      <td>Arc</td>\n",
       "      <td>0.812538</td>\n",
       "      <td>10</td>\n",
       "      <td>13111</td>\n",
       "      <td>All</td>\n",
       "      <td>RatioSeq</td>\n",
       "    </tr>\n",
       "    <tr>\n",
       "      <th>1</th>\n",
       "      <td>Arc</td>\n",
       "      <td>0.910683</td>\n",
       "      <td>11</td>\n",
       "      <td>13118</td>\n",
       "      <td>All</td>\n",
       "      <td>RatioSeq</td>\n",
       "    </tr>\n",
       "    <tr>\n",
       "      <th>2</th>\n",
       "      <td>Arc</td>\n",
       "      <td>0.899340</td>\n",
       "      <td>7</td>\n",
       "      <td>13119</td>\n",
       "      <td>All</td>\n",
       "      <td>RatioSeq</td>\n",
       "    </tr>\n",
       "    <tr>\n",
       "      <th>3</th>\n",
       "      <td>Arc</td>\n",
       "      <td>0.907799</td>\n",
       "      <td>8</td>\n",
       "      <td>13120</td>\n",
       "      <td>All</td>\n",
       "      <td>RatioSeq</td>\n",
       "    </tr>\n",
       "    <tr>\n",
       "      <th>4</th>\n",
       "      <td>Arc</td>\n",
       "      <td>0.806787</td>\n",
       "      <td>10</td>\n",
       "      <td>13129</td>\n",
       "      <td>All</td>\n",
       "      <td>RatioSeq</td>\n",
       "    </tr>\n",
       "    <tr>\n",
       "      <th>...</th>\n",
       "      <td>...</td>\n",
       "      <td>...</td>\n",
       "      <td>...</td>\n",
       "      <td>...</td>\n",
       "      <td>...</td>\n",
       "      <td>...</td>\n",
       "    </tr>\n",
       "    <tr>\n",
       "      <th>7</th>\n",
       "      <td>ArcBacEuk</td>\n",
       "      <td>0.607067</td>\n",
       "      <td>35</td>\n",
       "      <td>502</td>\n",
       "      <td>Rest</td>\n",
       "      <td>Identiy</td>\n",
       "    </tr>\n",
       "    <tr>\n",
       "      <th>8</th>\n",
       "      <td>ArcBacEuk</td>\n",
       "      <td>0.577783</td>\n",
       "      <td>35</td>\n",
       "      <td>502</td>\n",
       "      <td>Fam</td>\n",
       "      <td>RatioSeq</td>\n",
       "    </tr>\n",
       "    <tr>\n",
       "      <th>9</th>\n",
       "      <td>ArcBacEuk</td>\n",
       "      <td>0.620966</td>\n",
       "      <td>35</td>\n",
       "      <td>502</td>\n",
       "      <td>Up</td>\n",
       "      <td>RatioSeq</td>\n",
       "    </tr>\n",
       "    <tr>\n",
       "      <th>10</th>\n",
       "      <td>ArcBacEuk</td>\n",
       "      <td>0.624015</td>\n",
       "      <td>35</td>\n",
       "      <td>502</td>\n",
       "      <td>Down</td>\n",
       "      <td>RatioSeq</td>\n",
       "    </tr>\n",
       "    <tr>\n",
       "      <th>11</th>\n",
       "      <td>ArcBacEuk</td>\n",
       "      <td>0.645752</td>\n",
       "      <td>35</td>\n",
       "      <td>502</td>\n",
       "      <td>Rest</td>\n",
       "      <td>RatioSeq</td>\n",
       "    </tr>\n",
       "  </tbody>\n",
       "</table>\n",
       "<p>3092 rows × 6 columns</p>\n",
       "</div>"
      ],
      "text/plain": [
       "        SpGrp     Value  NbGene   Tree   Loc   Measure\n",
       "0         Arc  0.812538      10  13111   All  RatioSeq\n",
       "1         Arc  0.910683      11  13118   All  RatioSeq\n",
       "2         Arc  0.899340       7  13119   All  RatioSeq\n",
       "3         Arc  0.907799       8  13120   All  RatioSeq\n",
       "4         Arc  0.806787      10  13129   All  RatioSeq\n",
       "..        ...       ...     ...    ...   ...       ...\n",
       "7   ArcBacEuk  0.607067      35    502  Rest   Identiy\n",
       "8   ArcBacEuk  0.577783      35    502   Fam  RatioSeq\n",
       "9   ArcBacEuk  0.620966      35    502    Up  RatioSeq\n",
       "10  ArcBacEuk  0.624015      35    502  Down  RatioSeq\n",
       "11  ArcBacEuk  0.645752      35    502  Rest  RatioSeq\n",
       "\n",
       "[3092 rows x 6 columns]"
      ]
     },
     "execution_count": 46,
     "metadata": {},
     "output_type": "execute_result"
    }
   ],
   "source": [
    "dfTree"
   ]
  },
  {
   "cell_type": "code",
   "execution_count": 47,
   "id": "a28f38ea",
   "metadata": {
    "scrolled": true
   },
   "outputs": [
    {
     "name": "stdout",
     "output_type": "stream",
     "text": [
      "{'length': 669, 'nbG4': 2}\n",
      "['-\\tChromosome\\t1005487\\t1006155\\tKcr_0996\\t30.679166666666664\\t1.3208333333333333\\t0.7067129539560052\\t1005836\\t1005925\\tATTGAAGGAATCTTTGGAAGGCGTGGAATGGGGGGAGATCGTGATAATGGGGGAAGTTTTCTCGGGGATGGGTGAGGGGGCCTATTACAT', '-\\tChromosome\\t1005487\\t1006155\\tKcr_0996\\t6.779914529914531\\t0.9277777777777777\\t0.7531928123626987\\t1005656\\t1005735\\tATCGATGATTGGAGGAGGAGGGTAATGCCTAAAGTGGTACAGGGGTTCTCGGAGGAGGGAAGGACCTTCGGGGAGGTCGA']\n",
      "2\n"
     ]
    }
   ],
   "source": [
    "dicoLengthGene = {}\n",
    "missingGene = []\n",
    "missingFasta = []\n",
    "\n",
    "groups = dfTree.groupby('SpGrp')\n",
    "for name, group in groups:\n",
    "    if name in ['Arc', 'Bac', 'Euk']:\n",
    "        listSpGrptmp = list(set(group['Tree']))\n",
    "        for tree in listSpGrptmp:\n",
    "            genes = subprocess.check_output(\"cat /home/anais/Documents/Projet/G4Evolution/listOrtho/\"+name+\"/grpOrtho_\"+tree+\".txt\", shell=True)\n",
    "            genes = genes.decode(\"utf-8\").split('\\n')\n",
    "            for g in genes:\n",
    "                if g in dicoGeneListbySp:\n",
    "                    sp = dicoGeneListbySp[g]\n",
    "                    if sp not in dicoLengthGene:\n",
    "                        dicoLengthGene[sp] = {}\n",
    "                    try:\n",
    "                        gene = subprocess.check_output(\"cat /home/anais/Documents/Projet/G4Evolution/data/\"+sp+\"/Sequences_Gene_WT.fa | grep \"+g, shell=True)\n",
    "                    except:\n",
    "                        missingFasta.append(g)\n",
    "                    else:\n",
    "                        gene = gene.decode(\"utf-8\").split(':')\n",
    "                        start = gene[2].split('~')[0]\n",
    "                        end = gene[2].split('~')[1]\n",
    "                        dicoLengthGene[sp][g] = {'length': abs(int(end) - int(start) + 1)}\n",
    "                        try:\n",
    "                            nbLines = subprocess.check_output(\"cat /home/anais/Documents/Projet/G4Evolution/data/\"+sp+\"/Gene_pG4WT.csv | grep \"+g, shell=True)\n",
    "                        except:\n",
    "                            pass\n",
    "                        else:\n",
    "                            nbLines = nbLines.decode(\"utf-8\")\n",
    "                            nbLines = nbLines.split('\\n')\n",
    "                            if nbLines[-1] == '':\n",
    "                                nbLines = nbLines[0:-1]\n",
    "                            length = len(nbLines)\n",
    "                            dicoLengthGene[sp][g]['nbG4'] = length#nb pG4 for this gene\n",
    "                            if g == 'Kcr_0996':\n",
    "                                print(dicoLengthGene[sp][g])\n",
    "                                print(nbLines)\n",
    "                                print(len(nbLines))\n",
    "                else:\n",
    "                    missingGene.append(g)"
   ]
  },
  {
   "cell_type": "code",
   "execution_count": 48,
   "id": "50573cf4",
   "metadata": {},
   "outputs": [
    {
     "name": "stdout",
     "output_type": "stream",
     "text": [
      "thermoplasma_acidophilum_dsm_1728\n",
      "\t 0.020473762872878404\n",
      "archaeoglobus_fulgidus_dsm_4304\n",
      "\t 0.3498950314905528\n",
      "methanobrevibacter_smithii_atcc_35061\n",
      "\t 0.0\n",
      "pyrococcus_horikoshii_ot3\n",
      "\t 0.06510416666666667\n",
      "nanoarchaeum_equitans_kin4_m\n",
      "\t 0.0\n",
      "halobacterium_salinarum_r1\n",
      "\t 0.13946028868279758\n",
      "methanosarcina_acetivorans_c2a\n",
      "\t 0.02006823198876179\n",
      "sulfolobus_solfataricus_p2\n",
      "\t 0.0\n",
      "hyperthermus_butylicus_dsm_5456\n",
      "\t 0.070730111576751\n",
      "candidatus_korarchaeum_cryptofilum_opf8\n",
      "\t 0.6533297287555195\n",
      "pyrobaculum_aerophilum_str_im2\n",
      "\t 0.16209206829479145\n",
      "cenarchaeum_symbiosum_a\n",
      "\t 0.25949516395376265\n",
      "vibrio_cholerae_o1_biovar_el_tor_str_n16961\n"
     ]
    },
    {
     "ename": "ZeroDivisionError",
     "evalue": "float division by zero",
     "output_type": "error",
     "traceback": [
      "\u001b[0;31m---------------------------------------------------------------------------\u001b[0m",
      "\u001b[0;31mZeroDivisionError\u001b[0m                         Traceback (most recent call last)",
      "\u001b[0;32m<ipython-input-48-9bda8ceb331a>\u001b[0m in \u001b[0;36m<module>\u001b[0;34m\u001b[0m\n\u001b[1;32m      8\u001b[0m     \u001b[0mprint\u001b[0m\u001b[0;34m(\u001b[0m\u001b[0msp\u001b[0m\u001b[0;34m)\u001b[0m\u001b[0;34m\u001b[0m\u001b[0;34m\u001b[0m\u001b[0m\n\u001b[1;32m      9\u001b[0m \u001b[0;31m#     print('\\t', nbG4Sp, '\\t', lenghtGeneSp)\u001b[0m\u001b[0;34m\u001b[0m\u001b[0;34m\u001b[0m\u001b[0;34m\u001b[0m\u001b[0m\n\u001b[0;32m---> 10\u001b[0;31m     \u001b[0mprint\u001b[0m\u001b[0;34m(\u001b[0m\u001b[0;34m'\\t'\u001b[0m\u001b[0;34m,\u001b[0m \u001b[0mfloat\u001b[0m\u001b[0;34m(\u001b[0m\u001b[0mnbG4Sp\u001b[0m\u001b[0;34m)\u001b[0m\u001b[0;34m/\u001b[0m\u001b[0mfloat\u001b[0m\u001b[0;34m(\u001b[0m\u001b[0mlenghtGeneSp\u001b[0m\u001b[0;34m)\u001b[0m\u001b[0;34m*\u001b[0m\u001b[0;36m1000\u001b[0m\u001b[0;34m)\u001b[0m\u001b[0;34m\u001b[0m\u001b[0;34m\u001b[0m\u001b[0m\n\u001b[0m",
      "\u001b[0;31mZeroDivisionError\u001b[0m: float division by zero"
     ]
    }
   ],
   "source": [
    "for sp in dicoLengthGene:\n",
    "    lenghtGeneSp = 0\n",
    "    nbG4Sp = 0\n",
    "    for g in dicoLengthGene[sp]:\n",
    "        lenghtGeneSp += dicoLengthGene[sp][g]['length']\n",
    "        if 'nbG4' in dicoLengthGene[sp][g]:\n",
    "            nbG4Sp += dicoLengthGene[sp][g]['nbG4']\n",
    "    print(sp)\n",
    "#     print('\\t', nbG4Sp, '\\t', lenghtGeneSp)\n",
    "    print('\\t', float(nbG4Sp)/float(lenghtGeneSp)*1000)"
   ]
  },
  {
   "cell_type": "markdown",
   "id": "7aaac46c",
   "metadata": {},
   "source": [
    "## weak"
   ]
  },
  {
   "cell_type": "code",
   "execution_count": 50,
   "id": "86ec44ca",
   "metadata": {},
   "outputs": [
    {
     "name": "stdout",
     "output_type": "stream",
     "text": [
      "Arc\n",
      "Bac\n",
      "Euk\n",
      "thermoplasma_acidophilum_dsm_1728\n",
      "\t 20 \t 48843\n",
      "\t 0.40947525745756813\n",
      "archaeoglobus_fulgidus_dsm_4304\n",
      "\t 39 \t 60018\n",
      "\t 0.6498050584824553\n",
      "methanobrevibacter_smithii_atcc_35061\n",
      "\t 7 \t 43512\n",
      "\t 0.16087516087516088\n",
      "pyrococcus_horikoshii_ot3\n",
      "\t 26 \t 61440\n",
      "\t 0.42317708333333337\n",
      "nanoarchaeum_equitans_kin4_m\n",
      "\t 1 \t 16725\n",
      "\t 0.05979073243647235\n",
      "halobacterium_salinarum_r1\n",
      "\t 20 \t 43023\n",
      "\t 0.4648676289426586\n",
      "methanosarcina_acetivorans_c2a\n",
      "\t 13 \t 49830\n",
      "\t 0.2608870158539033\n",
      "sulfolobus_solfataricus_p2\n",
      "\t 5 \t 48360\n",
      "\t 0.10339123242349049\n",
      "hyperthermus_butylicus_dsm_5456\n",
      "\t 23 \t 56553\n",
      "\t 0.40669814156631834\n",
      "candidatus_korarchaeum_cryptofilum_opf8\n",
      "\t 36 \t 44388\n",
      "\t 0.8110300081103001\n",
      "pyrobaculum_aerophilum_str_im2\n",
      "\t 29 \t 55524\n",
      "\t 0.5222966645054391\n",
      "cenarchaeum_symbiosum_a\n",
      "\t 33 \t 42390\n",
      "\t 0.778485491861288\n",
      "vibrio_cholerae_o1_biovar_el_tor_str_n16961\n",
      "\t 0 \t 0\n",
      "\t0\n",
      "escherichia_coli_str_k_12_substr_mg1655\n",
      "\t 23 \t 149391\n",
      "\t 0.15395840445542236\n",
      "chloroflexus_aurantiacus_j_10_fl\n",
      "\t 23 \t 87252\n",
      "\t 0.2636042726814285\n",
      "myxococcus_xanthus_dk_1622\n",
      "\t 63 \t 129819\n",
      "\t 0.48529105908996373\n",
      "mycobacterium_tuberculosis_h37rv\n",
      "\t 18 \t 66384\n",
      "\t 0.27114967462039047\n",
      "thermus_thermophilus_hb8\n",
      "\t 62 \t 68328\n",
      "\t 0.9073878936892636\n",
      "bacillus_subtilis_subsp_subtilis_str_168\n",
      "\t 12 \t 112467\n",
      "\t 0.10669796473632266\n",
      "yersinia_pestis_biovar_microtus_str_91001\n",
      "\t 27 \t 165447\n",
      "\t 0.1631942555622042\n",
      "legionella_pneumophila_str_paris\n",
      "\t 10 \t 105732\n",
      "\t 0.09457874626413953\n",
      "haemophilus_influenzae_rd_kw20\n",
      "\t 9 \t 88263\n",
      "\t 0.10196798205363515\n",
      "francisella_tularensis_subsp_tularensis_schu_s4\n",
      "\t 5 \t 67782\n",
      "\t 0.07376589655070667\n",
      "staphylococcus_aureus_subsp_aureus_n315\n",
      "\t 7 \t 83778\n",
      "\t 0.0835541550287665\n",
      "enterococcus_faecalis_v583\n",
      "\t 7 \t 85551\n",
      "\t 0.08182253860270483\n",
      "campylobacter_jejuni_subsp_jejuni_nctc_11168_atcc_700819\n",
      "\t 6 \t 76644\n",
      "\t 0.07828401440425865\n",
      "neisseria_meningitidis_z2491\n",
      "\t 17 \t 91377\n",
      "\t 0.18604243956356634\n",
      "streptococcus_pneumoniae_tigr4\n",
      "\t 10 \t 70659\n",
      "\t 0.14152478806662988\n",
      "brucella_abortus_bv_1_str_9_941\n",
      "\t 23 \t 100272\n",
      "\t 0.22937609701611616\n",
      "borrelia_burgdorferi_b31\n",
      "\t 5 \t 49608\n",
      "\t 0.10079019512981777\n",
      "wolbachia_endosymbiont_of_drosophila_melanogaster\n",
      "\t 3 \t 55947\n",
      "\t 0.05362217813287576\n",
      "geobacter_sulfurreducens_pca\n",
      "\t 46 \t 115434\n",
      "\t 0.3984961103314448\n",
      "chlamydia_trachomatis_d_uw_3_cx\n",
      "\t 6 \t 68445\n",
      "\t 0.08766162612316458\n",
      "aquifex_aeolicus_vf5\n",
      "\t 19 \t 75627\n",
      "\t 0.2512330252423077\n",
      "anaplasma_phagocytophilum_str_hz\n",
      "\t 9 \t 41235\n",
      "\t 0.21826118588577664\n",
      "mycoplasma_pneumoniae_m129\n",
      "\t 3 \t 21465\n",
      "\t 0.1397624039133473\n",
      "danio_rerio\n",
      "\t 456 \t 4383210\n",
      "\t 0.10403334542492831\n",
      "apis_mellifera\n",
      "\t 59 \t 521205\n",
      "\t 0.11319922103586881\n",
      "monodelphis_domestica\n",
      "\t 1320 \t 5277759\n",
      "\t 0.2501061530092602\n",
      "pongo_abelii\n",
      "\t 1757 \t 5803341\n",
      "\t 0.30275663622041166\n",
      "pan_troglodytes\n",
      "\t 1923 \t 5903455\n",
      "\t 0.32574145140430477\n",
      "gasterosteus_aculeatus\n",
      "\t 261 \t 982607\n",
      "\t 0.26561992739721985\n",
      "mus_musculus\n",
      "\t 1722 \t 5295089\n",
      "\t 0.32520699840928075\n",
      "gallus_gallus\n",
      "\t 920 \t 2768261\n",
      "\t 0.33233860535549214\n",
      "homo_sapiens\n",
      "\t 2012 \t 6239478\n",
      "\t 0.3224628726954403\n",
      "drosophila_melanogaster\n",
      "\t 56 \t 552798\n",
      "\t 0.10130282671066104\n",
      "caenorhabditis_elegans\n",
      "\t 24 \t 202144\n",
      "\t 0.11872724394491055\n",
      "ornithorhynchus_anatinus\n",
      "\t 229 \t 926854\n",
      "\t 0.24707235443769998\n",
      "anolis_carolinensis\n",
      "\t 440 \t 2729152\n",
      "\t 0.161222240461506\n",
      "chlamydomonas_reinhardtii\n",
      "\t 63 \t 38344\n",
      "\t 1.6430210723972458\n",
      "dictyostelium_discoideum\n",
      "\t 0 \t 24243\n",
      "\t 0.0\n",
      "saccharomyces_cerevisiae\n",
      "\t 0 \t 4536\n",
      "\t 0.0\n",
      "leishmania_major\n",
      "\t 2 \t 4686\n",
      "\t 0.42680324370465217\n",
      "solanum_lycopersicum\n",
      "\t 0 \t 12479\n",
      "\t 0.0\n",
      "vitis_vinifera\n",
      "\t 0 \t 12675\n",
      "\t 0.0\n",
      "arabidopsis_thaliana\n",
      "\t 0 \t 8022\n",
      "\t 0.0\n",
      "oryza_sativa\n",
      "\t 1 \t 8690\n",
      "\t 0.11507479861910241\n",
      "schizosaccharomyces_pombe\n",
      "\t 0 \t 5602\n",
      "\t 0.0\n",
      "aspergillus_nidulans\n",
      "\t 1 \t 8503\n",
      "\t 0.11760555098200635\n",
      "neurospora_crassa\n",
      "\t 1 \t 9072\n",
      "\t 0.11022927689594356\n",
      "physcomitrella_patens\n",
      "\t 1 \t 7536\n",
      "\t 0.1326963906581741\n"
     ]
    }
   ],
   "source": [
    "groups = dfTree.groupby('SpGrp')\n",
    "for name, group in groups:\n",
    "    if name in ['Arc', 'Bac', 'Euk']:\n",
    "        print(name)\n",
    "        \n",
    "        listSpGrptmp = list(set(group['Tree']))\n",
    "\n",
    "        for tree in listSpGrptmp:\n",
    "            try:\n",
    "                df = pd.read_csv('/home/anais/Documents/Projet/G4Evolution/FamG4Pred/'+name+'/'+tree+'.csv', sep='\\t')\n",
    "            except:\n",
    "                pass\n",
    "            else:\n",
    "                if len(df)>0:\n",
    "                    groupsFam = df.groupby('idRegion')\n",
    "                    for region, groupFam in groupsFam:\n",
    "                        dicoDf = groupFam.to_dict('records')\n",
    "                        for row in dicoDf:\n",
    "                            g = row['gene'].split(':')[0]\n",
    "                            if 'DDB' not in g:\n",
    "                                if row['gene'].split(':')[0] in dicoGeneListbySp:\n",
    "                                    sp = dicoGeneListbySp[row['gene'].split(':')[0]]\n",
    "                                if getConservation(row) in ['Strong', 'Weak']:\n",
    "                                    if sp == 'saccharomyces_cerevisiae':\n",
    "                                        print(row)\n",
    "                                    if 'nbG4Weak' not in dicoLengthGene[sp][g]:\n",
    "                                        dicoLengthGene[sp][g]['nbG4Weak'] = []\n",
    "                                    dicoLengthGene[sp][g]['nbG4Weak'].append(region)\n",
    "    \n",
    "for sp in dicoLengthGene:\n",
    "    nbG4SpWeak = 0\n",
    "    lenghtGeneSp = 0\n",
    "    for g in dicoLengthGene[sp]:\n",
    "        lenghtGeneSp += dicoLengthGene[sp][g]['length']\n",
    "        if 'nbG4Weak' in dicoLengthGene[sp][g]:\n",
    "            nbG4SpWeak += len(list(set(dicoLengthGene[sp][g]['nbG4Weak'])))\n",
    "    print(sp)\n",
    "    print('\\t', nbG4SpWeak, '\\t', lenghtGeneSp)\n",
    "    if sp != 'vibrio_cholerae_o1_biovar_el_tor_str_n16961':\n",
    "        print('\\t', float(nbG4SpWeak)/float(lenghtGeneSp)*1000)\n",
    "    else:\n",
    "        print('\\t0')"
   ]
  },
  {
   "cell_type": "code",
   "execution_count": 51,
   "id": "738d4277",
   "metadata": {},
   "outputs": [
    {
     "data": {
      "text/plain": [
       "{'YBR083W': {'length': 1461},\n",
       " 'YPL209C': {'length': 1104},\n",
       " 'YKL079W': {'length': 1971}}"
      ]
     },
     "execution_count": 51,
     "metadata": {},
     "output_type": "execute_result"
    }
   ],
   "source": [
    "dicoLengthGene['saccharomyces_cerevisiae']"
   ]
  },
  {
   "cell_type": "markdown",
   "id": "5341fe6d",
   "metadata": {},
   "source": [
    "# Stats\n",
    "## Nb pG4 by fam"
   ]
  },
  {
   "cell_type": "code",
   "execution_count": 52,
   "id": "a02c9aba",
   "metadata": {},
   "outputs": [
    {
     "name": "stdout",
     "output_type": "stream",
     "text": [
      "Arc\n",
      "3.7058823529411766\n",
      "1.2352941176470589\n",
      "Bac\n",
      "4.858823529411764\n",
      "1.1529411764705881\n",
      "Euk\n",
      "3.014741356204771\n",
      "1.6815867059769498\n"
     ]
    }
   ],
   "source": [
    "# get nb gene by fam\n",
    "\n",
    "groups = dfTree.groupby('SpGrp')\n",
    "for name, group in groups:\n",
    "    if name in ['Arc', 'Bac', 'Euk']:\n",
    "        print(name)\n",
    "        listNbGeneWeak = []\n",
    "        listNbGeneStrong = []\n",
    "        listIdFam = []\n",
    "        \n",
    "        listSpGrptmp = list(set(group['Tree']))\n",
    "\n",
    "        for tree in listSpGrptmp:\n",
    "            try:\n",
    "                df = pd.read_csv('/home/anais/Documents/Projet/G4Evolution/FamG4Pred/'+name+'/'+tree+'.csv', sep='\\t')\n",
    "            except:\n",
    "                pass\n",
    "            else:\n",
    "                if len(df)>0:\n",
    "                    groupsFam = df.groupby('idRegion')\n",
    "                    listIdFam.extend(list(set(list(df.idRegion))))\n",
    "                    for region, groupFam in groupsFam:\n",
    "                        dicoDf = groupFam.to_dict('records')\n",
    "                        cptWeakFam = 0\n",
    "                        cptStrongFam = 0\n",
    "                        for row in dicoDf:\n",
    "                            g = row['gene'].split(':')[0]\n",
    "                            if 'DDB' not in g:\n",
    "                                if row['gene'].split(':')[0] in dicoGeneListbySp:\n",
    "                                    sp = dicoGeneListbySp[row['gene'].split(':')[0]]\n",
    "                                if getConservation(row) in ['Strong', 'Weak']:\n",
    "                                    cptWeakFam += 1\n",
    "                                if getConservation(row) == 'Strong':\n",
    "                                    cptStrongFam += 1\n",
    "                        listNbGeneWeak.append(cptWeakFam)\n",
    "                        listNbGeneStrong.append(cptStrongFam)\n",
    "        print(sum(listNbGeneWeak)/float(len(list(set(listIdFam)))))\n",
    "        print(sum(listNbGeneStrong)/float(len(list(set(listIdFam)))))"
   ]
  },
  {
   "cell_type": "markdown",
   "id": "6596758b",
   "metadata": {},
   "source": [
    "## Nb pG4 by sp and by tree"
   ]
  },
  {
   "cell_type": "code",
   "execution_count": 53,
   "id": "789f40ea",
   "metadata": {},
   "outputs": [
    {
     "name": "stdout",
     "output_type": "stream",
     "text": [
      "Arc\n",
      "3.32\n",
      "1.1066666666666667\n",
      "Bac\n",
      "2.7753623188405796\n",
      "0.6956521739130435\n",
      "Euk\n",
      "139.175\n",
      "78.275\n"
     ]
    }
   ],
   "source": [
    "# get nb gene by fam\n",
    "\n",
    "groups = dfTree.groupby('SpGrp')\n",
    "for name, group in groups:\n",
    "    if name in ['Arc', 'Bac', 'Euk']:\n",
    "        print(name)\n",
    "        dicoGeneWeak = {}\n",
    "        dicoGeneStrong = {}\n",
    "        nbpG4Weak = []\n",
    "        nbpG4Strong = []\n",
    "        \n",
    "        listSpGrptmp = list(set(group['Tree']))\n",
    "\n",
    "        for tree in listSpGrptmp:\n",
    "            dicoGeneWeak[tree] = []\n",
    "            dicoGeneStrong[tree] = []\n",
    "            try:\n",
    "                df = pd.read_csv('/home/anais/Documents/Projet/G4Evolution/FamG4Pred/'+name+'/'+tree+'.csv', sep='\\t')\n",
    "            except:\n",
    "                pass\n",
    "            else:\n",
    "                if len(df)>0:\n",
    "                    groupsFam = df.groupby('idRegion')\n",
    "                    for region, groupFam in groupsFam:\n",
    "                        dicoDf = groupFam.to_dict('records')\n",
    "                        for row in dicoDf:\n",
    "                            g = row['gene'].split(':')[0]\n",
    "                            if 'DDB' not in g:\n",
    "                                if row['gene'].split(':')[0] in dicoGeneListbySp:\n",
    "                                    sp = dicoGeneListbySp[row['gene'].split(':')[0]]\n",
    "                                if getConservation(row) in ['Strong', 'Weak']:\n",
    "                                    dicoGeneWeak[tree].append(region+'|'+sp)\n",
    "                                if getConservation(row) == 'Strong':\n",
    "                                    dicoGeneStrong[tree].append(region+'|'+sp)\n",
    "            dicoGeneWeak[tree] = list(set(dicoGeneWeak[tree]))\n",
    "            dicoGeneStrong[tree] = list(set(dicoGeneStrong[tree]))\n",
    "            nbpG4Weak.append(len(dicoGeneWeak[tree]))\n",
    "            nbpG4Strong.append(len(dicoGeneStrong[tree]))\n",
    "        print(sum(nbpG4Weak)/float(len(dicoGeneWeak)))\n",
    "        print(sum(nbpG4Strong)/float(len(dicoGeneStrong)))"
   ]
  },
  {
   "cell_type": "markdown",
   "id": "28b36dac",
   "metadata": {},
   "source": [
    "these are average numbers, not the tot!!!!\n",
    "\n",
    "Just human to check"
   ]
  },
  {
   "cell_type": "code",
   "execution_count": 54,
   "id": "f9fe53f8",
   "metadata": {
    "scrolled": true
   },
   "outputs": [
    {
     "name": "stdout",
     "output_type": "stream",
     "text": [
      "Arc\n",
      "0.0\n",
      "0.0\n",
      "0 0\n",
      "Bac\n",
      "0.0\n",
      "0.0\n",
      "0 0\n",
      "Euk\n",
      "24.725\n",
      "14.6875\n",
      "1978 1175\n"
     ]
    }
   ],
   "source": [
    "# get nb gene by fam\n",
    "\n",
    "groups = dfTree.groupby('SpGrp')\n",
    "for name, group in groups:\n",
    "    if name in ['Arc', 'Bac', 'Euk']:\n",
    "        print(name)\n",
    "        dicoGeneWeak = {}\n",
    "        dicoGeneStrong = {}\n",
    "        nbpG4Weak = []\n",
    "        nbpG4Strong = []\n",
    "        \n",
    "        listSpGrptmp = list(set(group['Tree']))\n",
    "\n",
    "        for tree in listSpGrptmp:\n",
    "            dicoGeneWeak[tree] = []\n",
    "            dicoGeneStrong[tree] = []\n",
    "            try:\n",
    "                df = pd.read_csv('/home/anais/Documents/Projet/G4Evolution/FamG4Pred/'+name+'/'+tree+'.csv', sep='\\t')\n",
    "            except:\n",
    "                pass\n",
    "            else:\n",
    "                if len(df)>0:\n",
    "                    groupsFam = df.groupby('idRegion')\n",
    "                    for region, groupFam in groupsFam:\n",
    "                        dicoDf = groupFam.to_dict('records')\n",
    "                        for row in dicoDf:\n",
    "                            g = row['gene'].split(':')[0]\n",
    "                            if 'DDB' not in g:\n",
    "                                if row['gene'].split(':')[0] in dicoGeneListbySp:\n",
    "                                    sp = dicoGeneListbySp[row['gene'].split(':')[0]]\n",
    "                                if sp == 'homo_sapiens':\n",
    "                                    if getConservation(row) in ['Strong', 'Weak']:\n",
    "                                        dicoGeneWeak[tree].append(region+'|'+sp)\n",
    "                                    if getConservation(row) == 'Strong':\n",
    "                                        dicoGeneStrong[tree].append(region+'|'+sp)\n",
    "            dicoGeneWeak[tree] = list(set(dicoGeneWeak[tree]))\n",
    "            dicoGeneStrong[tree] = list(set(dicoGeneStrong[tree]))\n",
    "            nbpG4Weak.append(len(dicoGeneWeak[tree]))\n",
    "            nbpG4Strong.append(len(dicoGeneStrong[tree]))\n",
    "        print(sum(nbpG4Weak)/float(len(dicoGeneWeak)))\n",
    "        print(sum(nbpG4Strong)/float(len(dicoGeneStrong)))\n",
    "        print(sum(nbpG4Weak), sum(nbpG4Strong))"
   ]
  },
  {
   "cell_type": "markdown",
   "id": "b25b972b",
   "metadata": {},
   "source": [
    "tout est beau :D \n",
    "\n",
    "En effet, avec la prédiction vaste, il y a 1873 familles entre Hsap et Ptro donc 1978 est correct. Puis quand on fait la somme de toutes les fam dans la matrices strong Hsap a 1175 fam donc tous va bien pour de vrai :)\n",
    "\n",
    "# Check nb gene from each sp"
   ]
  },
  {
   "cell_type": "code",
   "execution_count": 55,
   "id": "35ca9774",
   "metadata": {
    "scrolled": true
   },
   "outputs": [
    {
     "name": "stdout",
     "output_type": "stream",
     "text": [
      "Arc\n",
      "thermoplasma_acidophilum_dsm_1728 60\n",
      "archaeoglobus_fulgidus_dsm_4304 71\n",
      "methanobrevibacter_smithii_atcc_35061 59\n",
      "pyrococcus_horikoshii_ot3 69\n",
      "nanoarchaeum_equitans_kin4_m 23\n",
      "halobacterium_salinarum_r1 51\n",
      "methanosarcina_acetivorans_c2a 62\n",
      "sulfolobus_solfataricus_p2 61\n",
      "hyperthermus_butylicus_dsm_5456 65\n",
      "candidatus_korarchaeum_cryptofilum_opf8 54\n",
      "pyrobaculum_aerophilum_str_im2 67\n",
      "cenarchaeum_symbiosum_a 49\n",
      "Bac\n",
      "vibrio_cholerae_o1_biovar_el_tor_str_n16961 129\n",
      "escherichia_coli_str_k_12_substr_mg1655 140\n",
      "chloroflexus_aurantiacus_j_10_fl 77\n",
      "myxococcus_xanthus_dk_1622 113\n",
      "mycobacterium_tuberculosis_h37rv 59\n",
      "thermus_thermophilus_hb8 65\n",
      "bacillus_subtilis_subsp_subtilis_str_168 110\n",
      "yersinia_pestis_biovar_microtus_str_91001 151\n",
      "legionella_pneumophila_str_paris 100\n",
      "haemophilus_influenzae_rd_kw20 82\n",
      "francisella_tularensis_subsp_tularensis_schu_s4 64\n",
      "staphylococcus_aureus_subsp_aureus_n315 78\n",
      "enterococcus_faecalis_v583 84\n",
      "campylobacter_jejuni_subsp_jejuni_nctc_11168_atcc_700819 75\n",
      "neisseria_meningitidis_z2491 86\n",
      "streptococcus_pneumoniae_tigr4 67\n",
      "brucella_abortus_bv_1_str_9_941 92\n",
      "borrelia_burgdorferi_b31 44\n",
      "wolbachia_endosymbiont_of_drosophila_melanogaster 52\n",
      "geobacter_sulfurreducens_pca 105\n",
      "chlamydia_trachomatis_d_uw_3_cx 54\n",
      "aquifex_aeolicus_vf5 74\n",
      "anaplasma_phagocytophilum_str_hz 40\n",
      "mycoplasma_pneumoniae_m129 22\n",
      "Euk\n",
      "danio_rerio 80\n",
      "apis_mellifera 48\n",
      "monodelphis_domestica 71\n",
      "pongo_abelii 79\n",
      "pan_troglodytes 78\n",
      "gasterosteus_aculeatus 64\n",
      "mus_musculus 80\n",
      "gallus_gallus 82\n",
      "homo_sapiens 82\n",
      "drosophila_melanogaster 46\n",
      "caenorhabditis_elegans 28\n",
      "ornithorhynchus_anatinus 13\n",
      "anolis_carolinensis 38\n",
      "chlamydomonas_reinhardtii 9\n",
      "dictyostelium_discoideum 6\n",
      "saccharomyces_cerevisiae 3\n",
      "leishmania_major 3\n",
      "solanum_lycopersicum 3\n",
      "vitis_vinifera 3\n",
      "arabidopsis_thaliana 4\n",
      "oryza_sativa 2\n",
      "schizosaccharomyces_pombe 3\n",
      "aspergillus_nidulans 4\n",
      "neurospora_crassa 3\n",
      "physcomitrella_patens 2\n",
      "vibrio_cholerae_o1_biovar_el_tor_str_n16961 1\n"
     ]
    }
   ],
   "source": [
    "# get nb gene by fam\n",
    "\n",
    "groups = dfTree.groupby('SpGrp')\n",
    "for name, group in groups:\n",
    "    if name in ['Arc', 'Bac', 'Euk']:\n",
    "        print(name)\n",
    "        dicoGene = {}\n",
    "        \n",
    "        listSpGrptmp = list(set(group['Tree']))\n",
    "\n",
    "        for tree in listSpGrptmp:\n",
    "            with open('/home/anais/Documents/Projet/G4Evolution/listOrtho/'+name+'/grpOrtho_'+tree+'.txt') as f:\n",
    "                lines = f.read().split('\\n')\n",
    "                for l in lines:\n",
    "                    if l in dicoGeneListbySp:\n",
    "                        sp = dicoGeneListbySp[l]\n",
    "                        if sp not in dicoGene:\n",
    "                            dicoGene[sp] = []\n",
    "                        dicoGene[sp].append(l)\n",
    "                    \n",
    "                    \n",
    "        for sp in dicoGene:\n",
    "            print(sp, len(set(dicoGene[sp])))"
   ]
  },
  {
   "cell_type": "markdown",
   "id": "7fe55f18",
   "metadata": {},
   "source": [
    "# Make extended matrices"
   ]
  },
  {
   "cell_type": "code",
   "execution_count": 58,
   "id": "af4ee15d",
   "metadata": {},
   "outputs": [
    {
     "name": "stdout",
     "output_type": "stream",
     "text": [
      "Arc\n",
      "3.32\n",
      "1.1066666666666667\n",
      "ArcBac\n",
      "6.990825688073395\n",
      "1.4495412844036697\n",
      "ArcBacEuk\n",
      "18.7\n",
      "3.2\n",
      "Bac\n",
      "2.7753623188405796\n",
      "0.6956521739130435\n",
      "BacEuk\n",
      "4.666666666666667\n",
      "0.6666666666666666\n",
      "Euk\n",
      "139.175\n",
      "78.275\n"
     ]
    }
   ],
   "source": [
    "# get nb gene by fam\n",
    "\n",
    "groups = dfTree.groupby('SpGrp')\n",
    "for name, group in groups:\n",
    "    print(name)\n",
    "    dicoGeneWeak = {}\n",
    "    dicoGeneStrong = {}\n",
    "    nbpG4Weak = []\n",
    "    nbpG4Strong = []\n",
    "\n",
    "    listSpGrptmp = list(set(group['Tree']))\n",
    "\n",
    "    for tree in listSpGrptmp:\n",
    "        dicoGeneWeak[tree] = []\n",
    "        dicoGeneStrong[tree] = []\n",
    "        try:\n",
    "            df = pd.read_csv('/home/anais/Documents/Projet/G4Evolution/FamG4Pred/'+name+'/'+tree+'.csv', sep='\\t')\n",
    "        except:\n",
    "            pass\n",
    "        else:\n",
    "            if len(df)>0:\n",
    "                groupsFam = df.groupby('idRegion')\n",
    "                for region, groupFam in groupsFam:\n",
    "                    dicoDf = groupFam.to_dict('records')\n",
    "                    for row in dicoDf:\n",
    "                        g = row['gene'].split(':')[0]\n",
    "                        if 'DDB' not in g:\n",
    "                            if row['gene'].split(':')[0] in dicoGeneListbySp:\n",
    "                                sp = dicoGeneListbySp[row['gene'].split(':')[0]]\n",
    "                            if getConservation(row) in ['Strong', 'Weak']:\n",
    "                                dicoGeneWeak[tree].append(region+'|'+sp)\n",
    "                            if getConservation(row) == 'Strong':\n",
    "                                dicoGeneStrong[tree].append(region+'|'+sp)\n",
    "        dicoGeneWeak[tree] = list(set(dicoGeneWeak[tree]))\n",
    "        dicoGeneStrong[tree] = list(set(dicoGeneStrong[tree]))\n",
    "        nbpG4Weak.append(len(dicoGeneWeak[tree]))\n",
    "        nbpG4Strong.append(len(dicoGeneStrong[tree]))\n",
    "    print(sum(nbpG4Weak)/float(len(dicoGeneWeak)))\n",
    "    print(sum(nbpG4Strong)/float(len(dicoGeneStrong)))"
   ]
  },
  {
   "cell_type": "code",
   "execution_count": 76,
   "id": "23c6b294",
   "metadata": {},
   "outputs": [],
   "source": [
    "def iniBigMatriceExtended():\n",
    "    column = []\n",
    "    column.extend(list(dicoNameSp.keys()))\n",
    "    column.append('Fam')\n",
    "    return pd.DataFrame(columns = column)"
   ]
  },
  {
   "cell_type": "code",
   "execution_count": 92,
   "id": "80a57343",
   "metadata": {},
   "outputs": [
    {
     "name": "stdout",
     "output_type": "stream",
     "text": [
      "Arc\n",
      "ArcBac\n",
      "ArcBacEuk\n",
      "Bac\n",
      "BacEuk\n",
      "Euk\n"
     ]
    }
   ],
   "source": [
    "#################### WEAK ################################\n",
    "bigMatrice = iniBigMatriceExtended()\n",
    "groups = dfTree.groupby('SpGrp')\n",
    "for name, group in groups:\n",
    "    print(name)\n",
    "\n",
    "    listSpGrptmp = list(set(group['Tree']))\n",
    "\n",
    "    for tree in listSpGrptmp:\n",
    "        try:\n",
    "            df = pd.read_csv('/home/anais/Documents/Projet/G4Evolution/FamG4Pred/'+name+'/'+tree+'.csv', sep='\\t')\n",
    "        except:\n",
    "            pass\n",
    "        else:\n",
    "            if len(df)>0:\n",
    "                groupsFam = df.groupby('idRegion')\n",
    "                for region, groupFam in groupsFam:\n",
    "\n",
    "                    dicoRowBigMat = {}\n",
    "                    for sp in bigMatrice.columns:\n",
    "                        dicoRowBigMat[sp] = [0]\n",
    "                    dicoRowBigMat['Fam'] = [region]\n",
    "\n",
    "                    dicoDf = groupFam.to_dict('records')\n",
    "                    for row in dicoDf:\n",
    "                        if row['gene'].split(':')[0] in dicoGeneListbySp:\n",
    "                            sp = dicoGeneListbySp[row['gene'].split(':')[0]]\n",
    "                        elif row['gene'].split(':')[0] == 'DDB_G0282033':\n",
    "                            sp = 'Dictyosteliumdiscoideum'\n",
    "                        if getConservation(row) in ['Strong', 'Weak']:\n",
    "                            dicoRowBigMat[sp] = [1]\n",
    "\n",
    "                    bigMatrice = bigMatrice.append(pd.DataFrame(dicoRowBigMat))\n",
    "\n",
    "bigMatrice.set_index('Fam', inplace=True)\n",
    "bigMatrice.rename(columns=dicoNameSp, inplace=True)\n",
    "#         bigMatrice = bigMatrice.drop_duplicates(subset=None, keep='first', inplace=False)\n",
    "bigMatrice.to_csv(path_or_buf='/home/anais/Documents/Projet/G4Evolution/Matrices/AllTreeOrtho_WeakExtended.csv', header=True, index=True, sep='\\t')"
   ]
  },
  {
   "cell_type": "code",
   "execution_count": 93,
   "id": "837d7826",
   "metadata": {},
   "outputs": [
    {
     "name": "stdout",
     "output_type": "stream",
     "text": [
      "Arc\n",
      "ArcBac\n",
      "ArcBacEuk\n",
      "Bac\n",
      "BacEuk\n",
      "Euk\n"
     ]
    }
   ],
   "source": [
    "#################### Strong ################################\n",
    "AllTreeOrtho_Strong = iniBigMatriceExtended()\n",
    "groups = dfTree.groupby('SpGrp')\n",
    "for name, group in groups:\n",
    "    print(name)\n",
    "\n",
    "    listSpGrptmp = list(set(group['Tree']))\n",
    "\n",
    "    for tree in listSpGrptmp:\n",
    "        try:\n",
    "            df = pd.read_csv('/home/anais/Documents/Projet/G4Evolution/FamG4Pred/'+name+'/'+tree+'.csv', sep='\\t')\n",
    "        except:\n",
    "            pass\n",
    "            df = pd.read_csv('/home/anais/Documents/Projet/G4Evolution/FamG4Pred/'+name+'/'+tree+'.csv', sep='\\t')\n",
    "        else:\n",
    "            if len(df)>0:\n",
    "                groupsFam = df.groupby('idRegion')\n",
    "                for region, groupFam in groupsFam:\n",
    "\n",
    "                    dicoRowBigMat = {}\n",
    "                    for sp in AllTreeOrtho_Strong.columns:\n",
    "                        dicoRowBigMat[sp] = [0]\n",
    "                    dicoRowBigMat['Fam'] = [region]\n",
    "\n",
    "                    dicoDf = groupFam.to_dict('records')\n",
    "                    for row in dicoDf:\n",
    "                        if row['gene'].split(':')[0] in dicoGeneListbySp:\n",
    "                            sp = dicoGeneListbySp[row['gene'].split(':')[0]]\n",
    "                        elif row['gene'].split(':')[0] == 'DDB_G0282033':\n",
    "                            sp = 'Dictyosteliumdiscoideum'\n",
    "                        if getConservation(row) in ['Strong']:\n",
    "                            dicoRowBigMat[sp] = [1]\n",
    "\n",
    "                    AllTreeOrtho_Strong = AllTreeOrtho_Strong.append(pd.DataFrame(dicoRowBigMat))\n",
    "\n",
    "AllTreeOrtho_Strong.set_index('Fam', inplace=True)\n",
    "AllTreeOrtho_Strong.rename(columns=dicoNameSp, inplace=True)\n",
    "#         AllTreeOrtho_Strong = AllTreeOrtho_Strong.drop_duplicates(subset=None, keep='first', inplace=False)\n",
    "AllTreeOrtho_Strong.to_csv(path_or_buf='/home/anais/Documents/Projet/G4Evolution/Matrices/AllTreeOrtho_StrongExtended.csv', header=True, index=True, sep='\\t')"
   ]
  },
  {
   "cell_type": "code",
   "execution_count": 94,
   "id": "c686df8b",
   "metadata": {},
   "outputs": [
    {
     "data": {
      "text/html": [
       "<div>\n",
       "<style scoped>\n",
       "    .dataframe tbody tr th:only-of-type {\n",
       "        vertical-align: middle;\n",
       "    }\n",
       "\n",
       "    .dataframe tbody tr th {\n",
       "        vertical-align: top;\n",
       "    }\n",
       "\n",
       "    .dataframe thead th {\n",
       "        text-align: right;\n",
       "    }\n",
       "</style>\n",
       "<table border=\"1\" class=\"dataframe\">\n",
       "  <thead>\n",
       "    <tr style=\"text-align: right;\">\n",
       "      <th></th>\n",
       "      <th>Chlamydomonasreinhardtii</th>\n",
       "      <th>Apismellifera</th>\n",
       "      <th>Gallusgallus</th>\n",
       "      <th>Arabidopsisthaliana</th>\n",
       "      <th>Vitisvinifera</th>\n",
       "      <th>Monodelphisdomestica</th>\n",
       "      <th>Physcomitrellapatens</th>\n",
       "      <th>Oryzasativa</th>\n",
       "      <th>Neurosporacrassa</th>\n",
       "      <th>Gasterosteusaculeatus</th>\n",
       "      <th>...</th>\n",
       "      <th>Nanoarcheumequitans</th>\n",
       "      <th>Thermoplasmaacidophilum</th>\n",
       "      <th>Hyperthermusbutylicus</th>\n",
       "      <th>Pyrobaculumaerophilum</th>\n",
       "      <th>Halobacteriumsalinarum</th>\n",
       "      <th>Sulfolobussolfataricus</th>\n",
       "      <th>Metanobrevibactersmithii</th>\n",
       "      <th>Candidatuskorarchaeumcryptofilum</th>\n",
       "      <th>Archeoglobusfulgidus</th>\n",
       "      <th>dictyostelium_discoideum</th>\n",
       "    </tr>\n",
       "    <tr>\n",
       "      <th>Fam</th>\n",
       "      <th></th>\n",
       "      <th></th>\n",
       "      <th></th>\n",
       "      <th></th>\n",
       "      <th></th>\n",
       "      <th></th>\n",
       "      <th></th>\n",
       "      <th></th>\n",
       "      <th></th>\n",
       "      <th></th>\n",
       "      <th></th>\n",
       "      <th></th>\n",
       "      <th></th>\n",
       "      <th></th>\n",
       "      <th></th>\n",
       "      <th></th>\n",
       "      <th></th>\n",
       "      <th></th>\n",
       "      <th></th>\n",
       "      <th></th>\n",
       "      <th></th>\n",
       "    </tr>\n",
       "  </thead>\n",
       "  <tbody>\n",
       "    <tr>\n",
       "      <th>13473:114-178</th>\n",
       "      <td>0</td>\n",
       "      <td>0</td>\n",
       "      <td>0</td>\n",
       "      <td>0</td>\n",
       "      <td>0</td>\n",
       "      <td>0</td>\n",
       "      <td>0</td>\n",
       "      <td>0</td>\n",
       "      <td>0</td>\n",
       "      <td>0</td>\n",
       "      <td>...</td>\n",
       "      <td>0</td>\n",
       "      <td>0</td>\n",
       "      <td>0</td>\n",
       "      <td>0</td>\n",
       "      <td>0</td>\n",
       "      <td>0</td>\n",
       "      <td>0</td>\n",
       "      <td>0</td>\n",
       "      <td>0</td>\n",
       "      <td>0</td>\n",
       "    </tr>\n",
       "    <tr>\n",
       "      <th>13473:326-394</th>\n",
       "      <td>0</td>\n",
       "      <td>0</td>\n",
       "      <td>0</td>\n",
       "      <td>0</td>\n",
       "      <td>0</td>\n",
       "      <td>0</td>\n",
       "      <td>0</td>\n",
       "      <td>0</td>\n",
       "      <td>0</td>\n",
       "      <td>0</td>\n",
       "      <td>...</td>\n",
       "      <td>0</td>\n",
       "      <td>0</td>\n",
       "      <td>0</td>\n",
       "      <td>0</td>\n",
       "      <td>0</td>\n",
       "      <td>0</td>\n",
       "      <td>0</td>\n",
       "      <td>1</td>\n",
       "      <td>0</td>\n",
       "      <td>0</td>\n",
       "    </tr>\n",
       "    <tr>\n",
       "      <th>13473:540-621</th>\n",
       "      <td>0</td>\n",
       "      <td>0</td>\n",
       "      <td>0</td>\n",
       "      <td>0</td>\n",
       "      <td>0</td>\n",
       "      <td>0</td>\n",
       "      <td>0</td>\n",
       "      <td>0</td>\n",
       "      <td>0</td>\n",
       "      <td>0</td>\n",
       "      <td>...</td>\n",
       "      <td>0</td>\n",
       "      <td>0</td>\n",
       "      <td>1</td>\n",
       "      <td>1</td>\n",
       "      <td>0</td>\n",
       "      <td>0</td>\n",
       "      <td>0</td>\n",
       "      <td>0</td>\n",
       "      <td>0</td>\n",
       "      <td>0</td>\n",
       "    </tr>\n",
       "    <tr>\n",
       "      <th>15654:472-727</th>\n",
       "      <td>0</td>\n",
       "      <td>0</td>\n",
       "      <td>0</td>\n",
       "      <td>0</td>\n",
       "      <td>0</td>\n",
       "      <td>0</td>\n",
       "      <td>0</td>\n",
       "      <td>0</td>\n",
       "      <td>0</td>\n",
       "      <td>0</td>\n",
       "      <td>...</td>\n",
       "      <td>0</td>\n",
       "      <td>0</td>\n",
       "      <td>1</td>\n",
       "      <td>1</td>\n",
       "      <td>0</td>\n",
       "      <td>0</td>\n",
       "      <td>0</td>\n",
       "      <td>1</td>\n",
       "      <td>0</td>\n",
       "      <td>0</td>\n",
       "    </tr>\n",
       "    <tr>\n",
       "      <th>15654:939-1028</th>\n",
       "      <td>0</td>\n",
       "      <td>0</td>\n",
       "      <td>0</td>\n",
       "      <td>0</td>\n",
       "      <td>0</td>\n",
       "      <td>0</td>\n",
       "      <td>0</td>\n",
       "      <td>0</td>\n",
       "      <td>0</td>\n",
       "      <td>0</td>\n",
       "      <td>...</td>\n",
       "      <td>0</td>\n",
       "      <td>0</td>\n",
       "      <td>0</td>\n",
       "      <td>0</td>\n",
       "      <td>0</td>\n",
       "      <td>0</td>\n",
       "      <td>0</td>\n",
       "      <td>1</td>\n",
       "      <td>0</td>\n",
       "      <td>0</td>\n",
       "    </tr>\n",
       "    <tr>\n",
       "      <th>...</th>\n",
       "      <td>...</td>\n",
       "      <td>...</td>\n",
       "      <td>...</td>\n",
       "      <td>...</td>\n",
       "      <td>...</td>\n",
       "      <td>...</td>\n",
       "      <td>...</td>\n",
       "      <td>...</td>\n",
       "      <td>...</td>\n",
       "      <td>...</td>\n",
       "      <td>...</td>\n",
       "      <td>...</td>\n",
       "      <td>...</td>\n",
       "      <td>...</td>\n",
       "      <td>...</td>\n",
       "      <td>...</td>\n",
       "      <td>...</td>\n",
       "      <td>...</td>\n",
       "      <td>...</td>\n",
       "      <td>...</td>\n",
       "      <td>...</td>\n",
       "    </tr>\n",
       "    <tr>\n",
       "      <th>7261:61598-61660</th>\n",
       "      <td>0</td>\n",
       "      <td>0</td>\n",
       "      <td>0</td>\n",
       "      <td>0</td>\n",
       "      <td>0</td>\n",
       "      <td>0</td>\n",
       "      <td>0</td>\n",
       "      <td>0</td>\n",
       "      <td>0</td>\n",
       "      <td>0</td>\n",
       "      <td>...</td>\n",
       "      <td>0</td>\n",
       "      <td>0</td>\n",
       "      <td>0</td>\n",
       "      <td>0</td>\n",
       "      <td>0</td>\n",
       "      <td>0</td>\n",
       "      <td>0</td>\n",
       "      <td>0</td>\n",
       "      <td>0</td>\n",
       "      <td>0</td>\n",
       "    </tr>\n",
       "    <tr>\n",
       "      <th>7261:62901-62970</th>\n",
       "      <td>0</td>\n",
       "      <td>0</td>\n",
       "      <td>0</td>\n",
       "      <td>0</td>\n",
       "      <td>0</td>\n",
       "      <td>0</td>\n",
       "      <td>0</td>\n",
       "      <td>0</td>\n",
       "      <td>0</td>\n",
       "      <td>0</td>\n",
       "      <td>...</td>\n",
       "      <td>0</td>\n",
       "      <td>0</td>\n",
       "      <td>0</td>\n",
       "      <td>0</td>\n",
       "      <td>0</td>\n",
       "      <td>0</td>\n",
       "      <td>0</td>\n",
       "      <td>0</td>\n",
       "      <td>0</td>\n",
       "      <td>0</td>\n",
       "    </tr>\n",
       "    <tr>\n",
       "      <th>7261:64558-64705</th>\n",
       "      <td>0</td>\n",
       "      <td>0</td>\n",
       "      <td>0</td>\n",
       "      <td>0</td>\n",
       "      <td>0</td>\n",
       "      <td>0</td>\n",
       "      <td>0</td>\n",
       "      <td>0</td>\n",
       "      <td>0</td>\n",
       "      <td>0</td>\n",
       "      <td>...</td>\n",
       "      <td>0</td>\n",
       "      <td>0</td>\n",
       "      <td>0</td>\n",
       "      <td>0</td>\n",
       "      <td>0</td>\n",
       "      <td>0</td>\n",
       "      <td>0</td>\n",
       "      <td>0</td>\n",
       "      <td>0</td>\n",
       "      <td>0</td>\n",
       "    </tr>\n",
       "    <tr>\n",
       "      <th>7261:65342-65723</th>\n",
       "      <td>0</td>\n",
       "      <td>0</td>\n",
       "      <td>0</td>\n",
       "      <td>0</td>\n",
       "      <td>0</td>\n",
       "      <td>0</td>\n",
       "      <td>0</td>\n",
       "      <td>0</td>\n",
       "      <td>0</td>\n",
       "      <td>1</td>\n",
       "      <td>...</td>\n",
       "      <td>0</td>\n",
       "      <td>0</td>\n",
       "      <td>0</td>\n",
       "      <td>0</td>\n",
       "      <td>0</td>\n",
       "      <td>0</td>\n",
       "      <td>0</td>\n",
       "      <td>0</td>\n",
       "      <td>0</td>\n",
       "      <td>0</td>\n",
       "    </tr>\n",
       "    <tr>\n",
       "      <th>7261:78384-78443</th>\n",
       "      <td>0</td>\n",
       "      <td>0</td>\n",
       "      <td>1</td>\n",
       "      <td>0</td>\n",
       "      <td>0</td>\n",
       "      <td>0</td>\n",
       "      <td>0</td>\n",
       "      <td>0</td>\n",
       "      <td>0</td>\n",
       "      <td>1</td>\n",
       "      <td>...</td>\n",
       "      <td>0</td>\n",
       "      <td>0</td>\n",
       "      <td>0</td>\n",
       "      <td>0</td>\n",
       "      <td>0</td>\n",
       "      <td>0</td>\n",
       "      <td>0</td>\n",
       "      <td>0</td>\n",
       "      <td>0</td>\n",
       "      <td>0</td>\n",
       "    </tr>\n",
       "  </tbody>\n",
       "</table>\n",
       "<p>4156 rows × 61 columns</p>\n",
       "</div>"
      ],
      "text/plain": [
       "                  Chlamydomonasreinhardtii  Apismellifera  Gallusgallus  \\\n",
       "Fam                                                                       \n",
       "13473:114-178                            0              0             0   \n",
       "13473:326-394                            0              0             0   \n",
       "13473:540-621                            0              0             0   \n",
       "15654:472-727                            0              0             0   \n",
       "15654:939-1028                           0              0             0   \n",
       "...                                    ...            ...           ...   \n",
       "7261:61598-61660                         0              0             0   \n",
       "7261:62901-62970                         0              0             0   \n",
       "7261:64558-64705                         0              0             0   \n",
       "7261:65342-65723                         0              0             0   \n",
       "7261:78384-78443                         0              0             1   \n",
       "\n",
       "                  Arabidopsisthaliana  Vitisvinifera  Monodelphisdomestica  \\\n",
       "Fam                                                                          \n",
       "13473:114-178                       0              0                     0   \n",
       "13473:326-394                       0              0                     0   \n",
       "13473:540-621                       0              0                     0   \n",
       "15654:472-727                       0              0                     0   \n",
       "15654:939-1028                      0              0                     0   \n",
       "...                               ...            ...                   ...   \n",
       "7261:61598-61660                    0              0                     0   \n",
       "7261:62901-62970                    0              0                     0   \n",
       "7261:64558-64705                    0              0                     0   \n",
       "7261:65342-65723                    0              0                     0   \n",
       "7261:78384-78443                    0              0                     0   \n",
       "\n",
       "                  Physcomitrellapatens  Oryzasativa  Neurosporacrassa  \\\n",
       "Fam                                                                     \n",
       "13473:114-178                        0            0                 0   \n",
       "13473:326-394                        0            0                 0   \n",
       "13473:540-621                        0            0                 0   \n",
       "15654:472-727                        0            0                 0   \n",
       "15654:939-1028                       0            0                 0   \n",
       "...                                ...          ...               ...   \n",
       "7261:61598-61660                     0            0                 0   \n",
       "7261:62901-62970                     0            0                 0   \n",
       "7261:64558-64705                     0            0                 0   \n",
       "7261:65342-65723                     0            0                 0   \n",
       "7261:78384-78443                     0            0                 0   \n",
       "\n",
       "                  Gasterosteusaculeatus  ...  Nanoarcheumequitans  \\\n",
       "Fam                                      ...                        \n",
       "13473:114-178                         0  ...                    0   \n",
       "13473:326-394                         0  ...                    0   \n",
       "13473:540-621                         0  ...                    0   \n",
       "15654:472-727                         0  ...                    0   \n",
       "15654:939-1028                        0  ...                    0   \n",
       "...                                 ...  ...                  ...   \n",
       "7261:61598-61660                      0  ...                    0   \n",
       "7261:62901-62970                      0  ...                    0   \n",
       "7261:64558-64705                      0  ...                    0   \n",
       "7261:65342-65723                      1  ...                    0   \n",
       "7261:78384-78443                      1  ...                    0   \n",
       "\n",
       "                  Thermoplasmaacidophilum  Hyperthermusbutylicus  \\\n",
       "Fam                                                                \n",
       "13473:114-178                           0                      0   \n",
       "13473:326-394                           0                      0   \n",
       "13473:540-621                           0                      1   \n",
       "15654:472-727                           0                      1   \n",
       "15654:939-1028                          0                      0   \n",
       "...                                   ...                    ...   \n",
       "7261:61598-61660                        0                      0   \n",
       "7261:62901-62970                        0                      0   \n",
       "7261:64558-64705                        0                      0   \n",
       "7261:65342-65723                        0                      0   \n",
       "7261:78384-78443                        0                      0   \n",
       "\n",
       "                  Pyrobaculumaerophilum  Halobacteriumsalinarum  \\\n",
       "Fam                                                               \n",
       "13473:114-178                         0                       0   \n",
       "13473:326-394                         0                       0   \n",
       "13473:540-621                         1                       0   \n",
       "15654:472-727                         1                       0   \n",
       "15654:939-1028                        0                       0   \n",
       "...                                 ...                     ...   \n",
       "7261:61598-61660                      0                       0   \n",
       "7261:62901-62970                      0                       0   \n",
       "7261:64558-64705                      0                       0   \n",
       "7261:65342-65723                      0                       0   \n",
       "7261:78384-78443                      0                       0   \n",
       "\n",
       "                  Sulfolobussolfataricus  Metanobrevibactersmithii  \\\n",
       "Fam                                                                  \n",
       "13473:114-178                          0                         0   \n",
       "13473:326-394                          0                         0   \n",
       "13473:540-621                          0                         0   \n",
       "15654:472-727                          0                         0   \n",
       "15654:939-1028                         0                         0   \n",
       "...                                  ...                       ...   \n",
       "7261:61598-61660                       0                         0   \n",
       "7261:62901-62970                       0                         0   \n",
       "7261:64558-64705                       0                         0   \n",
       "7261:65342-65723                       0                         0   \n",
       "7261:78384-78443                       0                         0   \n",
       "\n",
       "                  Candidatuskorarchaeumcryptofilum  Archeoglobusfulgidus  \\\n",
       "Fam                                                                        \n",
       "13473:114-178                                    0                     0   \n",
       "13473:326-394                                    1                     0   \n",
       "13473:540-621                                    0                     0   \n",
       "15654:472-727                                    1                     0   \n",
       "15654:939-1028                                   1                     0   \n",
       "...                                            ...                   ...   \n",
       "7261:61598-61660                                 0                     0   \n",
       "7261:62901-62970                                 0                     0   \n",
       "7261:64558-64705                                 0                     0   \n",
       "7261:65342-65723                                 0                     0   \n",
       "7261:78384-78443                                 0                     0   \n",
       "\n",
       "                  dictyostelium_discoideum  \n",
       "Fam                                         \n",
       "13473:114-178                            0  \n",
       "13473:326-394                            0  \n",
       "13473:540-621                            0  \n",
       "15654:472-727                            0  \n",
       "15654:939-1028                           0  \n",
       "...                                    ...  \n",
       "7261:61598-61660                         0  \n",
       "7261:62901-62970                         0  \n",
       "7261:64558-64705                         0  \n",
       "7261:65342-65723                         0  \n",
       "7261:78384-78443                         0  \n",
       "\n",
       "[4156 rows x 61 columns]"
      ]
     },
     "execution_count": 94,
     "metadata": {},
     "output_type": "execute_result"
    }
   ],
   "source": [
    "dfAllRBPMatriceWeak = pd.read_csv('/home/anais/Documents/Projet/G4Evolution/Matrices/AllTreeOrtho_WeakExtended.csv', sep='\\t', index_col=0)\n",
    "\n",
    "dfAllRBPMatriceWeak = dfAllRBPMatriceWeak.fillna(0)\n",
    "dfAllRBPMatriceWeak.astype(int).to_csv(path_or_buf='/home/anais/Documents/Projet/G4Evolution/Matrices/AllTreeOrtho_WeakExtended.csv', header=True, index=True, sep='\\t')\n",
    "dfAllRBPMatriceWeak.astype(int)"
   ]
  },
  {
   "cell_type": "code",
   "execution_count": 95,
   "id": "d50c7ccc",
   "metadata": {},
   "outputs": [
    {
     "data": {
      "text/html": [
       "<div>\n",
       "<style scoped>\n",
       "    .dataframe tbody tr th:only-of-type {\n",
       "        vertical-align: middle;\n",
       "    }\n",
       "\n",
       "    .dataframe tbody tr th {\n",
       "        vertical-align: top;\n",
       "    }\n",
       "\n",
       "    .dataframe thead th {\n",
       "        text-align: right;\n",
       "    }\n",
       "</style>\n",
       "<table border=\"1\" class=\"dataframe\">\n",
       "  <thead>\n",
       "    <tr style=\"text-align: right;\">\n",
       "      <th></th>\n",
       "      <th>Chlamydomonasreinhardtii</th>\n",
       "      <th>Apismellifera</th>\n",
       "      <th>Gallusgallus</th>\n",
       "      <th>Arabidopsisthaliana</th>\n",
       "      <th>Vitisvinifera</th>\n",
       "      <th>Monodelphisdomestica</th>\n",
       "      <th>Physcomitrellapatens</th>\n",
       "      <th>Oryzasativa</th>\n",
       "      <th>Neurosporacrassa</th>\n",
       "      <th>Gasterosteusaculeatus</th>\n",
       "      <th>...</th>\n",
       "      <th>Methanosarcinaacetivorans</th>\n",
       "      <th>Nanoarcheumequitans</th>\n",
       "      <th>Thermoplasmaacidophilum</th>\n",
       "      <th>Hyperthermusbutylicus</th>\n",
       "      <th>Pyrobaculumaerophilum</th>\n",
       "      <th>Halobacteriumsalinarum</th>\n",
       "      <th>Sulfolobussolfataricus</th>\n",
       "      <th>Metanobrevibactersmithii</th>\n",
       "      <th>Candidatuskorarchaeumcryptofilum</th>\n",
       "      <th>Archeoglobusfulgidus</th>\n",
       "    </tr>\n",
       "    <tr>\n",
       "      <th>Fam</th>\n",
       "      <th></th>\n",
       "      <th></th>\n",
       "      <th></th>\n",
       "      <th></th>\n",
       "      <th></th>\n",
       "      <th></th>\n",
       "      <th></th>\n",
       "      <th></th>\n",
       "      <th></th>\n",
       "      <th></th>\n",
       "      <th></th>\n",
       "      <th></th>\n",
       "      <th></th>\n",
       "      <th></th>\n",
       "      <th></th>\n",
       "      <th></th>\n",
       "      <th></th>\n",
       "      <th></th>\n",
       "      <th></th>\n",
       "      <th></th>\n",
       "      <th></th>\n",
       "    </tr>\n",
       "  </thead>\n",
       "  <tbody>\n",
       "    <tr>\n",
       "      <th>13473:114-178</th>\n",
       "      <td>0</td>\n",
       "      <td>0</td>\n",
       "      <td>0</td>\n",
       "      <td>0</td>\n",
       "      <td>0</td>\n",
       "      <td>0</td>\n",
       "      <td>0</td>\n",
       "      <td>0</td>\n",
       "      <td>0</td>\n",
       "      <td>0</td>\n",
       "      <td>...</td>\n",
       "      <td>0</td>\n",
       "      <td>0</td>\n",
       "      <td>0</td>\n",
       "      <td>0</td>\n",
       "      <td>0</td>\n",
       "      <td>0</td>\n",
       "      <td>0</td>\n",
       "      <td>0</td>\n",
       "      <td>0</td>\n",
       "      <td>0</td>\n",
       "    </tr>\n",
       "    <tr>\n",
       "      <th>13473:326-394</th>\n",
       "      <td>0</td>\n",
       "      <td>0</td>\n",
       "      <td>0</td>\n",
       "      <td>0</td>\n",
       "      <td>0</td>\n",
       "      <td>0</td>\n",
       "      <td>0</td>\n",
       "      <td>0</td>\n",
       "      <td>0</td>\n",
       "      <td>0</td>\n",
       "      <td>...</td>\n",
       "      <td>0</td>\n",
       "      <td>0</td>\n",
       "      <td>0</td>\n",
       "      <td>0</td>\n",
       "      <td>0</td>\n",
       "      <td>0</td>\n",
       "      <td>0</td>\n",
       "      <td>0</td>\n",
       "      <td>1</td>\n",
       "      <td>0</td>\n",
       "    </tr>\n",
       "    <tr>\n",
       "      <th>13473:540-621</th>\n",
       "      <td>0</td>\n",
       "      <td>0</td>\n",
       "      <td>0</td>\n",
       "      <td>0</td>\n",
       "      <td>0</td>\n",
       "      <td>0</td>\n",
       "      <td>0</td>\n",
       "      <td>0</td>\n",
       "      <td>0</td>\n",
       "      <td>0</td>\n",
       "      <td>...</td>\n",
       "      <td>0</td>\n",
       "      <td>0</td>\n",
       "      <td>0</td>\n",
       "      <td>0</td>\n",
       "      <td>1</td>\n",
       "      <td>0</td>\n",
       "      <td>0</td>\n",
       "      <td>0</td>\n",
       "      <td>0</td>\n",
       "      <td>0</td>\n",
       "    </tr>\n",
       "    <tr>\n",
       "      <th>15654:472-727</th>\n",
       "      <td>0</td>\n",
       "      <td>0</td>\n",
       "      <td>0</td>\n",
       "      <td>0</td>\n",
       "      <td>0</td>\n",
       "      <td>0</td>\n",
       "      <td>0</td>\n",
       "      <td>0</td>\n",
       "      <td>0</td>\n",
       "      <td>0</td>\n",
       "      <td>...</td>\n",
       "      <td>0</td>\n",
       "      <td>0</td>\n",
       "      <td>0</td>\n",
       "      <td>0</td>\n",
       "      <td>0</td>\n",
       "      <td>0</td>\n",
       "      <td>0</td>\n",
       "      <td>0</td>\n",
       "      <td>1</td>\n",
       "      <td>0</td>\n",
       "    </tr>\n",
       "    <tr>\n",
       "      <th>15654:939-1028</th>\n",
       "      <td>0</td>\n",
       "      <td>0</td>\n",
       "      <td>0</td>\n",
       "      <td>0</td>\n",
       "      <td>0</td>\n",
       "      <td>0</td>\n",
       "      <td>0</td>\n",
       "      <td>0</td>\n",
       "      <td>0</td>\n",
       "      <td>0</td>\n",
       "      <td>...</td>\n",
       "      <td>0</td>\n",
       "      <td>0</td>\n",
       "      <td>0</td>\n",
       "      <td>0</td>\n",
       "      <td>0</td>\n",
       "      <td>0</td>\n",
       "      <td>0</td>\n",
       "      <td>0</td>\n",
       "      <td>1</td>\n",
       "      <td>0</td>\n",
       "    </tr>\n",
       "    <tr>\n",
       "      <th>...</th>\n",
       "      <td>...</td>\n",
       "      <td>...</td>\n",
       "      <td>...</td>\n",
       "      <td>...</td>\n",
       "      <td>...</td>\n",
       "      <td>...</td>\n",
       "      <td>...</td>\n",
       "      <td>...</td>\n",
       "      <td>...</td>\n",
       "      <td>...</td>\n",
       "      <td>...</td>\n",
       "      <td>...</td>\n",
       "      <td>...</td>\n",
       "      <td>...</td>\n",
       "      <td>...</td>\n",
       "      <td>...</td>\n",
       "      <td>...</td>\n",
       "      <td>...</td>\n",
       "      <td>...</td>\n",
       "      <td>...</td>\n",
       "      <td>...</td>\n",
       "    </tr>\n",
       "    <tr>\n",
       "      <th>7261:61598-61660</th>\n",
       "      <td>0</td>\n",
       "      <td>0</td>\n",
       "      <td>0</td>\n",
       "      <td>0</td>\n",
       "      <td>0</td>\n",
       "      <td>0</td>\n",
       "      <td>0</td>\n",
       "      <td>0</td>\n",
       "      <td>0</td>\n",
       "      <td>0</td>\n",
       "      <td>...</td>\n",
       "      <td>0</td>\n",
       "      <td>0</td>\n",
       "      <td>0</td>\n",
       "      <td>0</td>\n",
       "      <td>0</td>\n",
       "      <td>0</td>\n",
       "      <td>0</td>\n",
       "      <td>0</td>\n",
       "      <td>0</td>\n",
       "      <td>0</td>\n",
       "    </tr>\n",
       "    <tr>\n",
       "      <th>7261:62901-62970</th>\n",
       "      <td>0</td>\n",
       "      <td>0</td>\n",
       "      <td>0</td>\n",
       "      <td>0</td>\n",
       "      <td>0</td>\n",
       "      <td>0</td>\n",
       "      <td>0</td>\n",
       "      <td>0</td>\n",
       "      <td>0</td>\n",
       "      <td>0</td>\n",
       "      <td>...</td>\n",
       "      <td>0</td>\n",
       "      <td>0</td>\n",
       "      <td>0</td>\n",
       "      <td>0</td>\n",
       "      <td>0</td>\n",
       "      <td>0</td>\n",
       "      <td>0</td>\n",
       "      <td>0</td>\n",
       "      <td>0</td>\n",
       "      <td>0</td>\n",
       "    </tr>\n",
       "    <tr>\n",
       "      <th>7261:64558-64705</th>\n",
       "      <td>0</td>\n",
       "      <td>0</td>\n",
       "      <td>0</td>\n",
       "      <td>0</td>\n",
       "      <td>0</td>\n",
       "      <td>0</td>\n",
       "      <td>0</td>\n",
       "      <td>0</td>\n",
       "      <td>0</td>\n",
       "      <td>0</td>\n",
       "      <td>...</td>\n",
       "      <td>0</td>\n",
       "      <td>0</td>\n",
       "      <td>0</td>\n",
       "      <td>0</td>\n",
       "      <td>0</td>\n",
       "      <td>0</td>\n",
       "      <td>0</td>\n",
       "      <td>0</td>\n",
       "      <td>0</td>\n",
       "      <td>0</td>\n",
       "    </tr>\n",
       "    <tr>\n",
       "      <th>7261:65342-65723</th>\n",
       "      <td>0</td>\n",
       "      <td>0</td>\n",
       "      <td>0</td>\n",
       "      <td>0</td>\n",
       "      <td>0</td>\n",
       "      <td>0</td>\n",
       "      <td>0</td>\n",
       "      <td>0</td>\n",
       "      <td>0</td>\n",
       "      <td>1</td>\n",
       "      <td>...</td>\n",
       "      <td>0</td>\n",
       "      <td>0</td>\n",
       "      <td>0</td>\n",
       "      <td>0</td>\n",
       "      <td>0</td>\n",
       "      <td>0</td>\n",
       "      <td>0</td>\n",
       "      <td>0</td>\n",
       "      <td>0</td>\n",
       "      <td>0</td>\n",
       "    </tr>\n",
       "    <tr>\n",
       "      <th>7261:78384-78443</th>\n",
       "      <td>0</td>\n",
       "      <td>0</td>\n",
       "      <td>0</td>\n",
       "      <td>0</td>\n",
       "      <td>0</td>\n",
       "      <td>0</td>\n",
       "      <td>0</td>\n",
       "      <td>0</td>\n",
       "      <td>0</td>\n",
       "      <td>1</td>\n",
       "      <td>...</td>\n",
       "      <td>0</td>\n",
       "      <td>0</td>\n",
       "      <td>0</td>\n",
       "      <td>0</td>\n",
       "      <td>0</td>\n",
       "      <td>0</td>\n",
       "      <td>0</td>\n",
       "      <td>0</td>\n",
       "      <td>0</td>\n",
       "      <td>0</td>\n",
       "    </tr>\n",
       "  </tbody>\n",
       "</table>\n",
       "<p>4156 rows × 60 columns</p>\n",
       "</div>"
      ],
      "text/plain": [
       "                  Chlamydomonasreinhardtii  Apismellifera  Gallusgallus  \\\n",
       "Fam                                                                       \n",
       "13473:114-178                            0              0             0   \n",
       "13473:326-394                            0              0             0   \n",
       "13473:540-621                            0              0             0   \n",
       "15654:472-727                            0              0             0   \n",
       "15654:939-1028                           0              0             0   \n",
       "...                                    ...            ...           ...   \n",
       "7261:61598-61660                         0              0             0   \n",
       "7261:62901-62970                         0              0             0   \n",
       "7261:64558-64705                         0              0             0   \n",
       "7261:65342-65723                         0              0             0   \n",
       "7261:78384-78443                         0              0             0   \n",
       "\n",
       "                  Arabidopsisthaliana  Vitisvinifera  Monodelphisdomestica  \\\n",
       "Fam                                                                          \n",
       "13473:114-178                       0              0                     0   \n",
       "13473:326-394                       0              0                     0   \n",
       "13473:540-621                       0              0                     0   \n",
       "15654:472-727                       0              0                     0   \n",
       "15654:939-1028                      0              0                     0   \n",
       "...                               ...            ...                   ...   \n",
       "7261:61598-61660                    0              0                     0   \n",
       "7261:62901-62970                    0              0                     0   \n",
       "7261:64558-64705                    0              0                     0   \n",
       "7261:65342-65723                    0              0                     0   \n",
       "7261:78384-78443                    0              0                     0   \n",
       "\n",
       "                  Physcomitrellapatens  Oryzasativa  Neurosporacrassa  \\\n",
       "Fam                                                                     \n",
       "13473:114-178                        0            0                 0   \n",
       "13473:326-394                        0            0                 0   \n",
       "13473:540-621                        0            0                 0   \n",
       "15654:472-727                        0            0                 0   \n",
       "15654:939-1028                       0            0                 0   \n",
       "...                                ...          ...               ...   \n",
       "7261:61598-61660                     0            0                 0   \n",
       "7261:62901-62970                     0            0                 0   \n",
       "7261:64558-64705                     0            0                 0   \n",
       "7261:65342-65723                     0            0                 0   \n",
       "7261:78384-78443                     0            0                 0   \n",
       "\n",
       "                  Gasterosteusaculeatus  ...  Methanosarcinaacetivorans  \\\n",
       "Fam                                      ...                              \n",
       "13473:114-178                         0  ...                          0   \n",
       "13473:326-394                         0  ...                          0   \n",
       "13473:540-621                         0  ...                          0   \n",
       "15654:472-727                         0  ...                          0   \n",
       "15654:939-1028                        0  ...                          0   \n",
       "...                                 ...  ...                        ...   \n",
       "7261:61598-61660                      0  ...                          0   \n",
       "7261:62901-62970                      0  ...                          0   \n",
       "7261:64558-64705                      0  ...                          0   \n",
       "7261:65342-65723                      1  ...                          0   \n",
       "7261:78384-78443                      1  ...                          0   \n",
       "\n",
       "                  Nanoarcheumequitans  Thermoplasmaacidophilum  \\\n",
       "Fam                                                              \n",
       "13473:114-178                       0                        0   \n",
       "13473:326-394                       0                        0   \n",
       "13473:540-621                       0                        0   \n",
       "15654:472-727                       0                        0   \n",
       "15654:939-1028                      0                        0   \n",
       "...                               ...                      ...   \n",
       "7261:61598-61660                    0                        0   \n",
       "7261:62901-62970                    0                        0   \n",
       "7261:64558-64705                    0                        0   \n",
       "7261:65342-65723                    0                        0   \n",
       "7261:78384-78443                    0                        0   \n",
       "\n",
       "                  Hyperthermusbutylicus  Pyrobaculumaerophilum  \\\n",
       "Fam                                                              \n",
       "13473:114-178                         0                      0   \n",
       "13473:326-394                         0                      0   \n",
       "13473:540-621                         0                      1   \n",
       "15654:472-727                         0                      0   \n",
       "15654:939-1028                        0                      0   \n",
       "...                                 ...                    ...   \n",
       "7261:61598-61660                      0                      0   \n",
       "7261:62901-62970                      0                      0   \n",
       "7261:64558-64705                      0                      0   \n",
       "7261:65342-65723                      0                      0   \n",
       "7261:78384-78443                      0                      0   \n",
       "\n",
       "                  Halobacteriumsalinarum  Sulfolobussolfataricus  \\\n",
       "Fam                                                                \n",
       "13473:114-178                          0                       0   \n",
       "13473:326-394                          0                       0   \n",
       "13473:540-621                          0                       0   \n",
       "15654:472-727                          0                       0   \n",
       "15654:939-1028                         0                       0   \n",
       "...                                  ...                     ...   \n",
       "7261:61598-61660                       0                       0   \n",
       "7261:62901-62970                       0                       0   \n",
       "7261:64558-64705                       0                       0   \n",
       "7261:65342-65723                       0                       0   \n",
       "7261:78384-78443                       0                       0   \n",
       "\n",
       "                  Metanobrevibactersmithii  Candidatuskorarchaeumcryptofilum  \\\n",
       "Fam                                                                            \n",
       "13473:114-178                            0                                 0   \n",
       "13473:326-394                            0                                 1   \n",
       "13473:540-621                            0                                 0   \n",
       "15654:472-727                            0                                 1   \n",
       "15654:939-1028                           0                                 1   \n",
       "...                                    ...                               ...   \n",
       "7261:61598-61660                         0                                 0   \n",
       "7261:62901-62970                         0                                 0   \n",
       "7261:64558-64705                         0                                 0   \n",
       "7261:65342-65723                         0                                 0   \n",
       "7261:78384-78443                         0                                 0   \n",
       "\n",
       "                  Archeoglobusfulgidus  \n",
       "Fam                                     \n",
       "13473:114-178                        0  \n",
       "13473:326-394                        0  \n",
       "13473:540-621                        0  \n",
       "15654:472-727                        0  \n",
       "15654:939-1028                       0  \n",
       "...                                ...  \n",
       "7261:61598-61660                     0  \n",
       "7261:62901-62970                     0  \n",
       "7261:64558-64705                     0  \n",
       "7261:65342-65723                     0  \n",
       "7261:78384-78443                     0  \n",
       "\n",
       "[4156 rows x 60 columns]"
      ]
     },
     "execution_count": 95,
     "metadata": {},
     "output_type": "execute_result"
    }
   ],
   "source": [
    "dfAllRBPMatriceStrong = pd.read_csv('/home/anais/Documents/Projet/G4Evolution/Matrices/AllTreeOrtho_StrongExtended.csv', sep='\\t', index_col=0)\n",
    "\n",
    "dfAllRBPMatriceStrong = dfAllRBPMatriceStrong.fillna(0)\n",
    "dfAllRBPMatriceStrong.astype(int).to_csv(path_or_buf='/home/anais/Documents/Projet/G4Evolution/Matrices/AllTreeOrtho_StrongExtended.csv', header=True, index=True, sep='\\t')\n",
    "dfAllRBPMatriceStrong.astype(int)"
   ]
  },
  {
   "cell_type": "code",
   "execution_count": 96,
   "id": "663c48fe",
   "metadata": {},
   "outputs": [],
   "source": [
    "dfAllRBPMatriceWeak.astype(int)[['Pongoabelii', 'Leishmaniamajor', 'Saccharomycescerevisiae',\n",
    "    'Chlamydomonasreinhardtii', 'Vitisvinifera', 'Musmusculus',\n",
    "    'Neurosporacrassa', 'Solanumlycopersicum', 'Drosophilamelanogaster',\n",
    "    'Gasterosteusaculeatus', 'Apismellifera', 'Homosapiens',\n",
    "    'Pantroglodytes', 'Schizosaccharomycespombe', 'Arabidopsisthaliana',\n",
    "    'Caenorhabditiselegans', 'Oryzasativa', 'Daniorerio', 'Dictyosteliumdiscoideum',\n",
    "    'Ornithorhynchusanatinus', 'Physcomitrellapatens', 'Gallusgallus',\n",
    "    'Monodelphisdomestica', 'Anoliscarolinensis', 'Aspergillusnidulans']].to_csv(path_or_buf='/home/anais/Documents/Projet/G4Evolution/Matrices/Ortho_EukExtended_Weak.csv', header=True, index=True, sep='\\t')\n",
    "dfAllRBPMatriceWeak.astype(int)[['Nanoarcheumequitans', 'Pyrobaculumaerophilum', 'Metanobrevibactersmithii',\n",
    "    'Cenarchaeumsymbiosum', 'Sulfolobussolfataricus', 'Thermoplasmaacidophilum',\n",
    "    'Methanosarcinaacetivorans', 'Pyrococcushorikoshii', 'Archeoglobusfulgidus',\n",
    "    'Halobacteriumsalinarum', 'Hyperthermusbutylicus', 'Candidatuskorarchaeumcryptofilum']].to_csv(path_or_buf='/home/anais/Documents/Projet/G4Evolution/Matrices/Ortho_ArcExtended_Weak.csv', header=True, index=True, sep='\\t')\n",
    "dfAllRBPMatriceWeak.astype(int)[['Bacillussubtilis', 'Francisellatularensis',\n",
    "    'Wolbachiaendosymbiontofdrosophilamelanogaster',\n",
    "    'Anaplasmaphagocytophilum', 'Mycobacteriumtuberculosis',\n",
    "    'Geobactersulfurreducens', 'Streptococcuspneumoniae',\n",
    "    'Chlamydiatrachomatis', 'Borreliaburgdorferi', 'Legionellapneumoniae',\n",
    "    'Thermusthermophilus', 'Myxococcusxanthus', 'Aquifexaeolicus',\n",
    "    'Mycoplasmapneumoniae', 'Escherichiacoli', 'Neisseriameningitidis',\n",
    "    'Campylobacterjejuni', 'Enterococcusfaecalis', 'Haemophilusinfluenzae',\n",
    "    'Yersiniapestis', 'Staphylococcusaureus', 'Brucellaabortus',\n",
    "    'Chloroflexusaurantiacus']].to_csv(path_or_buf='/home/anais/Documents/Projet/G4Evolution/Matrices/Ortho_BacExtended_Weak.csv', header=True, index=True, sep='\\t')\n",
    "\n",
    "dfAllRBPMatriceStrong.astype(int)[['Pongoabelii', 'Leishmaniamajor', 'Saccharomycescerevisiae',\n",
    "    'Chlamydomonasreinhardtii', 'Vitisvinifera', 'Musmusculus',\n",
    "    'Neurosporacrassa', 'Solanumlycopersicum', 'Drosophilamelanogaster',\n",
    "    'Gasterosteusaculeatus', 'Apismellifera', 'Homosapiens',\n",
    "    'Pantroglodytes', 'Schizosaccharomycespombe', 'Arabidopsisthaliana',\n",
    "    'Caenorhabditiselegans', 'Oryzasativa', 'Daniorerio', 'Dictyosteliumdiscoideum',\n",
    "    'Ornithorhynchusanatinus', 'Physcomitrellapatens', 'Gallusgallus',\n",
    "    'Monodelphisdomestica', 'Anoliscarolinensis', 'Aspergillusnidulans']].to_csv(path_or_buf='/home/anais/Documents/Projet/G4Evolution/Matrices/Ortho_EukExtended_Strong.csv', header=True, index=True, sep='\\t')\n",
    "dfAllRBPMatriceStrong.astype(int)[['Nanoarcheumequitans', 'Pyrobaculumaerophilum', 'Metanobrevibactersmithii',\n",
    "    'Cenarchaeumsymbiosum', 'Sulfolobussolfataricus', 'Thermoplasmaacidophilum',\n",
    "    'Methanosarcinaacetivorans', 'Pyrococcushorikoshii', 'Archeoglobusfulgidus',\n",
    "    'Halobacteriumsalinarum', 'Hyperthermusbutylicus', 'Candidatuskorarchaeumcryptofilum']].to_csv(path_or_buf='/home/anais/Documents/Projet/G4Evolution/Matrices/Ortho_ArcExtended_Strong.csv', header=True, index=True, sep='\\t')\n",
    "dfAllRBPMatriceStrong.astype(int)[['Bacillussubtilis', 'Francisellatularensis',\n",
    "    'Wolbachiaendosymbiontofdrosophilamelanogaster',\n",
    "    'Anaplasmaphagocytophilum', 'Mycobacteriumtuberculosis',\n",
    "    'Geobactersulfurreducens', 'Streptococcuspneumoniae',\n",
    "    'Chlamydiatrachomatis', 'Borreliaburgdorferi', 'Legionellapneumoniae',\n",
    "    'Thermusthermophilus', 'Myxococcusxanthus', 'Aquifexaeolicus',\n",
    "    'Mycoplasmapneumoniae', 'Escherichiacoli', 'Neisseriameningitidis',\n",
    "    'Campylobacterjejuni', 'Enterococcusfaecalis', 'Haemophilusinfluenzae',\n",
    "    'Yersiniapestis', 'Staphylococcusaureus', 'Brucellaabortus',\n",
    "    'Chloroflexusaurantiacus']].to_csv(path_or_buf='/home/anais/Documents/Projet/G4Evolution/Matrices/Ortho_BacExtended_Strong.csv', header=True, index=True, sep='\\t')"
   ]
  }
 ],
 "metadata": {
  "kernelspec": {
   "display_name": "Python 3",
   "language": "python",
   "name": "python3"
  },
  "language_info": {
   "codemirror_mode": {
    "name": "ipython",
    "version": 3
   },
   "file_extension": ".py",
   "mimetype": "text/x-python",
   "name": "python",
   "nbconvert_exporter": "python",
   "pygments_lexer": "ipython3",
   "version": "3.9.5"
  }
 },
 "nbformat": 4,
 "nbformat_minor": 5
}
