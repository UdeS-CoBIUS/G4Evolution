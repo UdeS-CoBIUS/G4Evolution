{
 "cells": [
  {
   "cell_type": "code",
   "execution_count": 30,
   "id": "8aec5f49",
   "metadata": {},
   "outputs": [],
   "source": [
    "import os\n",
    "import random\n",
    "import pandas as pd\n",
    "import seaborn as sns\n",
    "import matplotlib.pyplot as plt\n",
    "from pprint import pprint"
   ]
  },
  {
   "cell_type": "markdown",
   "id": "dc67f338",
   "metadata": {},
   "source": [
    "# Get File"
   ]
  },
  {
   "cell_type": "code",
   "execution_count": 2,
   "id": "2f1c478b",
   "metadata": {},
   "outputs": [],
   "source": [
    "spList = ['Hsap', 'Mmus', 'Cele', 'Drer', 'Dmel', 'Scer']"
   ]
  },
  {
   "cell_type": "markdown",
   "id": "81b387bf",
   "metadata": {},
   "source": [
    "## psql\n",
    "I am going to retrieve the data via my local version of gaia because it is easier and then I can keep a clean trace of how I did it."
   ]
  },
  {
   "cell_type": "code",
   "execution_count": 3,
   "id": "edffe84b",
   "metadata": {
    "scrolled": true
   },
   "outputs": [
    {
     "name": "stdout",
     "output_type": "stream",
     "text": [
      "----------Hsap----------\n",
      "----------Mmus----------\n",
      "----------Cele----------\n",
      "----------Drer----------\n",
      "----------Dmel----------\n",
      "----------Scer----------\n"
     ]
    }
   ],
   "source": [
    "for sp in spList:\n",
    "    print('----------'+sp+'----------')\n",
    "#     print()\n",
    "\n",
    "    cmd = \"\"\"psql -d pg4db -t -A -F\",\" -c\"\"\"\n",
    "    cmd += \"\"\" \"CREATE or REPLACE VIEW full_table_tr AS \"\"\"\n",
    "    cmd += \"\"\"SELECT t.transcript_id, t.transcript_start, t.transcript_end, t.chromosome, t.strand, s.id_tr_loc, s.location_name, sp.short_name \"\"\"\n",
    "    cmd += \"\"\"FROM transcription as t, species as sp, splicing as s \"\"\"\n",
    "    cmd += \"\"\"WHERE sp.short_name = '\"\"\"+sp+\"\"\"' AND sp.full_name = t.species_name AND t.transcript_id = s.transcript_id AND s.location_name IN ('exon', 'intron');\" \"\"\"\n",
    "#     print(cmd)\n",
    "#     os.system(cmd)\n",
    "\n",
    "    cmd = \"\"\"psql -d pg4db -t -A -F\",\" -c\"\"\"\n",
    "    cmd += \"\"\" \"SELECT ft.transcript_id, ft.transcript_start, ft.transcript_end, ft.chromosome, ft.strand, pg4.pg4_start, pg4.pg4_end, ft.short_name \"\"\"\n",
    "    cmd += \"\"\"  FROM full_table_tr as ft LEFT OUTER JOIN pg4 ON ft.id_tr_loc = pg4.id_tr_loc;\" \"\"\"\n",
    "    cmd += \"> /home/anais/Documents/Projet/G4RBPevo/data/sp/\"+sp+\"_GAIA_Random.csv\"\n",
    "#     print(cmd)\n",
    "#     os.system(cmd)"
   ]
  },
  {
   "cell_type": "markdown",
   "id": "a3c79673",
   "metadata": {},
   "source": [
    "## get sp Stat"
   ]
  },
  {
   "cell_type": "code",
   "execution_count": 6,
   "id": "8e5bc328",
   "metadata": {},
   "outputs": [
    {
     "name": "stdout",
     "output_type": "stream",
     "text": [
      "----------Hsap----------\n",
      "\n",
      "----------Mmus----------\n",
      "\n",
      "----------Cele----------\n",
      "\n",
      "----------Drer----------\n",
      "\n",
      "----------Dmel----------\n",
      "\n",
      "----------Scer----------\n",
      "\n"
     ]
    }
   ],
   "source": [
    "dicoStat = {'Sp': [], 'idTr': [], 'lengthTr': [], 'lengthG4': [], 'NbG4': []}\n",
    "for sp in spList:\n",
    "    print('----------'+sp+'----------')\n",
    "    print()\n",
    "    pG4df = pd.read_csv('/home/anais/Documents/Projet/G4RBPevo/data/sp/'+sp+'_GAIA_Random.csv', sep=',', names=['trID', 'trStart', 'trEnd', 'chromosome', 'strand', 'pG4Start', 'pG4End', 'Sp'], index_col=None)\n",
    "    pG4df['pG4Start'] = pG4df['pG4Start'].fillna(0)\n",
    "    pG4df['pG4End'] = pG4df['pG4End'].fillna(0)\n",
    "    pG4df['LengthTr'] = pG4df['trEnd'] - pG4df['trStart'] +1\n",
    "    pG4df['LengthpG4'] = pG4df['pG4End'] - pG4df['pG4Start'] +1\n",
    "    \n",
    "    groups = pG4df.groupby('trID')\n",
    "    for name, group in groups:\n",
    "        dicoStat['Sp'].append(sp)\n",
    "        dicoStat['idTr'].append(name)\n",
    "        dicoStat['lengthTr'].append( list(set(group.LengthTr))[0] )\n",
    "        group = group[group.LengthpG4 != 1]\n",
    "        listLengthG4 = []\n",
    "        groupsG4 = group.groupby(['chromosome', 'strand', 'pG4Start', 'pG4End'])\n",
    "        for pG4Id, groupG4 in groupsG4:\n",
    "            listLengthG4.append( list(set(groupG4.LengthpG4))[0] )\n",
    "        if len(listLengthG4) == 0:\n",
    "            dicoStat['lengthG4'].append( 0 )\n",
    "            dicoStat['NbG4'].append( 0 )\n",
    "        else:\n",
    "#         print(listLengthG4)\n",
    "            dicoStat['lengthG4'].append( float(sum(listLengthG4)) / float(len(listLengthG4)) )\n",
    "            dicoStat['NbG4'].append(len(listLengthG4))"
   ]
  },
  {
   "cell_type": "code",
   "execution_count": 7,
   "id": "27a7e61b",
   "metadata": {},
   "outputs": [
    {
     "data": {
      "text/html": [
       "<div>\n",
       "<style scoped>\n",
       "    .dataframe tbody tr th:only-of-type {\n",
       "        vertical-align: middle;\n",
       "    }\n",
       "\n",
       "    .dataframe tbody tr th {\n",
       "        vertical-align: top;\n",
       "    }\n",
       "\n",
       "    .dataframe thead th {\n",
       "        text-align: right;\n",
       "    }\n",
       "</style>\n",
       "<table border=\"1\" class=\"dataframe\">\n",
       "  <thead>\n",
       "    <tr style=\"text-align: right;\">\n",
       "      <th></th>\n",
       "      <th>Sp</th>\n",
       "      <th>idTr</th>\n",
       "      <th>lengthTr</th>\n",
       "      <th>lengthG4</th>\n",
       "      <th>NbG4</th>\n",
       "    </tr>\n",
       "  </thead>\n",
       "  <tbody>\n",
       "    <tr>\n",
       "      <th>0</th>\n",
       "      <td>Hsap</td>\n",
       "      <td>ENST00000000233</td>\n",
       "      <td>3290</td>\n",
       "      <td>90.000000</td>\n",
       "      <td>1</td>\n",
       "    </tr>\n",
       "    <tr>\n",
       "      <th>1</th>\n",
       "      <td>Hsap</td>\n",
       "      <td>ENST00000000412</td>\n",
       "      <td>9285</td>\n",
       "      <td>65.000000</td>\n",
       "      <td>2</td>\n",
       "    </tr>\n",
       "    <tr>\n",
       "      <th>2</th>\n",
       "      <td>Hsap</td>\n",
       "      <td>ENST00000000442</td>\n",
       "      <td>11220</td>\n",
       "      <td>84.000000</td>\n",
       "      <td>10</td>\n",
       "    </tr>\n",
       "    <tr>\n",
       "      <th>3</th>\n",
       "      <td>Hsap</td>\n",
       "      <td>ENST00000001008</td>\n",
       "      <td>10454</td>\n",
       "      <td>70.000000</td>\n",
       "      <td>2</td>\n",
       "    </tr>\n",
       "    <tr>\n",
       "      <th>4</th>\n",
       "      <td>Hsap</td>\n",
       "      <td>ENST00000001146</td>\n",
       "      <td>18801</td>\n",
       "      <td>84.090909</td>\n",
       "      <td>22</td>\n",
       "    </tr>\n",
       "    <tr>\n",
       "      <th>...</th>\n",
       "      <td>...</td>\n",
       "      <td>...</td>\n",
       "      <td>...</td>\n",
       "      <td>...</td>\n",
       "      <td>...</td>\n",
       "    </tr>\n",
       "    <tr>\n",
       "      <th>531462</th>\n",
       "      <td>Scer</td>\n",
       "      <td>tY(GUA)J1_tRNA</td>\n",
       "      <td>89</td>\n",
       "      <td>0.000000</td>\n",
       "      <td>0</td>\n",
       "    </tr>\n",
       "    <tr>\n",
       "      <th>531463</th>\n",
       "      <td>Scer</td>\n",
       "      <td>tY(GUA)J2_tRNA</td>\n",
       "      <td>89</td>\n",
       "      <td>0.000000</td>\n",
       "      <td>0</td>\n",
       "    </tr>\n",
       "    <tr>\n",
       "      <th>531464</th>\n",
       "      <td>Scer</td>\n",
       "      <td>tY(GUA)M1_tRNA</td>\n",
       "      <td>89</td>\n",
       "      <td>0.000000</td>\n",
       "      <td>0</td>\n",
       "    </tr>\n",
       "    <tr>\n",
       "      <th>531465</th>\n",
       "      <td>Scer</td>\n",
       "      <td>tY(GUA)M2_tRNA</td>\n",
       "      <td>89</td>\n",
       "      <td>0.000000</td>\n",
       "      <td>0</td>\n",
       "    </tr>\n",
       "    <tr>\n",
       "      <th>531466</th>\n",
       "      <td>Scer</td>\n",
       "      <td>tY(GUA)O_tRNA</td>\n",
       "      <td>89</td>\n",
       "      <td>0.000000</td>\n",
       "      <td>0</td>\n",
       "    </tr>\n",
       "  </tbody>\n",
       "</table>\n",
       "<p>531467 rows × 5 columns</p>\n",
       "</div>"
      ],
      "text/plain": [
       "          Sp             idTr  lengthTr   lengthG4  NbG4\n",
       "0       Hsap  ENST00000000233      3290  90.000000     1\n",
       "1       Hsap  ENST00000000412      9285  65.000000     2\n",
       "2       Hsap  ENST00000000442     11220  84.000000    10\n",
       "3       Hsap  ENST00000001008     10454  70.000000     2\n",
       "4       Hsap  ENST00000001146     18801  84.090909    22\n",
       "...      ...              ...       ...        ...   ...\n",
       "531462  Scer   tY(GUA)J1_tRNA        89   0.000000     0\n",
       "531463  Scer   tY(GUA)J2_tRNA        89   0.000000     0\n",
       "531464  Scer   tY(GUA)M1_tRNA        89   0.000000     0\n",
       "531465  Scer   tY(GUA)M2_tRNA        89   0.000000     0\n",
       "531466  Scer    tY(GUA)O_tRNA        89   0.000000     0\n",
       "\n",
       "[531467 rows x 5 columns]"
      ]
     },
     "execution_count": 7,
     "metadata": {},
     "output_type": "execute_result"
    }
   ],
   "source": [
    "dfStat = pd.DataFrame(data=dicoStat)\n",
    "dfStat"
   ]
  },
  {
   "cell_type": "code",
   "execution_count": 22,
   "id": "4cf11c10",
   "metadata": {
    "scrolled": true
   },
   "outputs": [
    {
     "name": "stdout",
     "output_type": "stream",
     "text": [
      "----------Cele----------\n",
      "            lengthTr      lengthG4          NbG4\n",
      "count   61415.000000  61415.000000  61415.000000\n",
      "mean     2346.045608      2.368420      0.040186\n",
      "std      4404.700325     14.139521      0.279184\n",
      "min        17.000000      0.000000      0.000000\n",
      "25%        21.000000      0.000000      0.000000\n",
      "50%       922.000000      0.000000      0.000000\n",
      "75%      2718.000000      0.000000      0.000000\n",
      "max    102626.000000    500.000000     20.000000\n",
      "Avr density: 0.01712908831447696\n",
      "Estimated global density density: 0.01712908831447696\n",
      "----------Dmel----------\n",
      "           lengthTr      lengthG4          NbG4\n",
      "count  3.484200e+04  34842.000000  34842.000000\n",
      "mean   9.722743e+03     18.115220      0.949285\n",
      "std    2.234641e+04     33.555450      3.386430\n",
      "min    3.000000e+01      0.000000      0.000000\n",
      "25%    1.230000e+03      0.000000      0.000000\n",
      "50%    2.907500e+03      0.000000      0.000000\n",
      "75%    8.479000e+03      0.000000      0.000000\n",
      "max    1.965857e+06    403.333333    114.000000\n",
      "Avr density: 0.09763554833948247\n",
      "Estimated global density density: 0.09763554833948249\n",
      "----------Drer----------\n",
      "            lengthTr      lengthG4          NbG4\n",
      "count   59253.000000  59253.000000  59253.000000\n",
      "mean    25755.396554     27.892965      1.045213\n",
      "std     46117.110130     42.863168      2.522738\n",
      "min        10.000000      0.000000      0.000000\n",
      "25%      3451.000000      0.000000      0.000000\n",
      "50%      9993.000000      0.000000      0.000000\n",
      "75%     27173.000000     70.000000      1.000000\n",
      "max    870283.000000   1980.000000     55.000000\n",
      "Avr density: 0.040582287227877975\n",
      "Estimated global density density: 0.04058228722787798\n",
      "----------Hsap----------\n",
      "           lengthTr       lengthG4           NbG4\n",
      "count  2.266840e+05  226684.000000  226684.000000\n",
      "mean   3.855638e+04      57.637534       5.772825\n",
      "std    8.641634e+04      42.879204      12.117570\n",
      "min    8.000000e+00       0.000000       0.000000\n",
      "25%    2.919000e+03       0.000000       0.000000\n",
      "50%    1.098150e+04      70.833333       2.000000\n",
      "75%    3.622825e+04      82.000000       6.000000\n",
      "max    2.471657e+06    1490.000000     422.000000\n",
      "Avr density: 0.14972425846947662\n",
      "Estimated global density density: 0.14972425846947662\n",
      "----------Mmus----------\n",
      "           lengthTr       lengthG4           NbG4\n",
      "count  1.422010e+05  142201.000000  142201.000000\n",
      "mean   2.841372e+04      53.187849       4.935099\n",
      "std    7.760159e+04      46.878870      12.395244\n",
      "min    9.000000e+00       0.000000       0.000000\n",
      "25%    1.842000e+03       0.000000       0.000000\n",
      "50%    6.903000e+03      70.000000       1.000000\n",
      "75%    2.364900e+04      85.000000       5.000000\n",
      "max    4.434882e+06    5035.000000    1514.000000\n",
      "Avr density: 0.173687199483273\n",
      "Estimated global density density: 0.17368719948327296\n",
      "----------Scer----------\n",
      "           lengthTr     lengthG4         NbG4\n",
      "count   7072.000000  7072.000000  7072.000000\n",
      "mean    1299.045249     0.228365     0.003676\n",
      "std     1145.148436     3.865512     0.062820\n",
      "min       51.000000     0.000000     0.000000\n",
      "25%      480.000000     0.000000     0.000000\n",
      "50%     1023.000000     0.000000     0.000000\n",
      "75%     1728.000000     0.000000     0.000000\n",
      "max    14733.000000    90.000000     2.000000\n",
      "Avr density: 0.0028301328159560275\n",
      "Estimated global density density: 0.0028301328159560275\n"
     ]
    }
   ],
   "source": [
    "stat = {}\n",
    "groups = dfStat.groupby(['Sp'])\n",
    "for sp, group in groups:\n",
    "    print('----------'+sp+'----------')\n",
    "    print(group.describe())\n",
    "    print('Avr density:', group['NbG4'].mean()/group['lengthTr'].mean()*1000)\n",
    "    print('Estimated global density density:', group['NbG4'].sum()/group['lengthTr'].sum() *1000)\n",
    "    stat[sp] = {'avrNbG4': [group['NbG4'].mean()],\n",
    "                'avrLengthG4': [group['lengthG4'].mean()]}"
   ]
  },
  {
   "cell_type": "code",
   "execution_count": 26,
   "id": "56d2c173",
   "metadata": {},
   "outputs": [
    {
     "name": "stdout",
     "output_type": "stream",
     "text": [
      "{'Cele': {'avrLengthG4': [2.368419857617122], 'avrNbG4': [0.04018562240494993]},\n",
      " 'Dmel': {'avrLengthG4': [18.115220032467235], 'avrNbG4': [0.9492853452729464]},\n",
      " 'Drer': {'avrLengthG4': [27.89296471162658], 'avrNbG4': [1.0452129006126272]},\n",
      " 'Hsap': {'avrLengthG4': [57.63753441982159], 'avrNbG4': [5.772824725168076]},\n",
      " 'Mmus': {'avrLengthG4': [53.187849456319015], 'avrNbG4': [4.935098909290371]},\n",
      " 'Scer': {'avrLengthG4': [0.2283653846153846],\n",
      "          'avrNbG4': [0.003676470588235294]}}\n"
     ]
    }
   ],
   "source": [
    "pprint(stat)\n",
    "G4Sp = {'Cele': 610+1858, 'Dmel': 3317+29758,\n",
    "        'Drer': 4455+57477, 'Hsap': 54679+1253928,\n",
    "        'Mmus': 29261+672515, 'Scer': 26}"
   ]
  },
  {
   "cell_type": "markdown",
   "id": "8164f1a5",
   "metadata": {},
   "source": [
    "Densities are similar to the one from article 2, now let's find out how to create random G4.\n",
    "# Create random G4\n",
    "Finally, I decided to get the number of pG4 by species, and get them randomly in the sp. So first step is to allocate the number of pG4 to transcript, then to get these random coordinates."
   ]
  },
  {
   "cell_type": "code",
   "execution_count": 38,
   "id": "a628f29a",
   "metadata": {},
   "outputs": [
    {
     "name": "stdout",
     "output_type": "stream",
     "text": [
      "----------Hsap----------\n",
      "\n",
      "5.772824725168076\n",
      "----------Mmus----------\n",
      "\n",
      "4.935098909290371\n",
      "----------Cele----------\n",
      "\n",
      "0.04018562240494993\n",
      "----------Drer----------\n",
      "\n",
      "1.0452129006126272\n",
      "----------Dmel----------\n",
      "\n",
      "0.9492853452729464\n",
      "----------Scer----------\n",
      "\n",
      "0.003676470588235294\n"
     ]
    }
   ],
   "source": [
    "dicoSpnbG4Tr = {}\n",
    "for sp in spList:\n",
    "    nbTr = len(list(set( dfStat[dfStat.Sp == sp]['idTr'] )))\n",
    "    listnbG4Tr = [0]*nbTr\n",
    "    nbG4 = G4Sp[sp]\n",
    "    while nbG4 != 0:\n",
    "        rd = random.randint(0, nbTr-1)\n",
    "        listnbG4Tr[rd] += 1\n",
    "        nbG4 -= 1\n",
    "    dicoSpnbG4Tr[sp] = listnbG4Tr\n",
    "    print('----------'+sp+'----------')\n",
    "    print()\n",
    "    print(float(sum(listnbG4Tr))/len(listnbG4Tr))\n",
    "    "
   ]
  },
  {
   "cell_type": "code",
   "execution_count": 54,
   "id": "df00495d",
   "metadata": {},
   "outputs": [
    {
     "name": "stdout",
     "output_type": "stream",
     "text": [
      "1\n",
      "Hsap\n",
      "Mmus\n",
      "Cele\n",
      "Drer\n",
      "9\n",
      "21723716\n",
      "21723746\n",
      "+\n"
     ]
    },
    {
     "ename": "TypeError",
     "evalue": "can only concatenate str (not \"int\") to str",
     "output_type": "error",
     "traceback": [
      "\u001b[0;31m---------------------------------------------------------------------------\u001b[0m",
      "\u001b[0;31mTypeError\u001b[0m                                 Traceback (most recent call last)",
      "\u001b[0;32m<ipython-input-54-09252db22900>\u001b[0m in \u001b[0;36m<module>\u001b[0;34m\u001b[0m\n\u001b[1;32m     23\u001b[0m                 \u001b[0;32mtry\u001b[0m\u001b[0;34m:\u001b[0m\u001b[0;34m\u001b[0m\u001b[0;34m\u001b[0m\u001b[0m\n\u001b[0;32m---> 24\u001b[0;31m                     \u001b[0mlistlineOutputFile\u001b[0m\u001b[0;34m.\u001b[0m\u001b[0mappend\u001b[0m\u001b[0;34m(\u001b[0m\u001b[0mrow\u001b[0m\u001b[0;34m.\u001b[0m\u001b[0mchromosome\u001b[0m\u001b[0;34m[\u001b[0m\u001b[0;36m0\u001b[0m\u001b[0;34m]\u001b[0m\u001b[0;34m+\u001b[0m\u001b[0;34m'\\t'\u001b[0m\u001b[0;34m+\u001b[0m\u001b[0mstr\u001b[0m\u001b[0;34m(\u001b[0m\u001b[0mrd\u001b[0m\u001b[0;34m)\u001b[0m\u001b[0;34m+\u001b[0m\u001b[0;34m'\\t'\u001b[0m\u001b[0;34m+\u001b[0m\u001b[0mstr\u001b[0m\u001b[0;34m(\u001b[0m\u001b[0mrd\u001b[0m\u001b[0;34m+\u001b[0m\u001b[0mlengthG4\u001b[0m\u001b[0;34m)\u001b[0m\u001b[0;34m+\u001b[0m\u001b[0;34m'\\t.\\t.\\t'\u001b[0m\u001b[0;34m+\u001b[0m\u001b[0mrow\u001b[0m\u001b[0;34m.\u001b[0m\u001b[0mstrand\u001b[0m\u001b[0;34m[\u001b[0m\u001b[0;36m0\u001b[0m\u001b[0;34m]\u001b[0m\u001b[0;34m)\u001b[0m\u001b[0;34m\u001b[0m\u001b[0;34m\u001b[0m\u001b[0m\n\u001b[0m\u001b[1;32m     25\u001b[0m                 \u001b[0;32mexcept\u001b[0m\u001b[0;34m:\u001b[0m\u001b[0;34m\u001b[0m\u001b[0;34m\u001b[0m\u001b[0m\n",
      "\u001b[0;31mTypeError\u001b[0m: 'int' object is not subscriptable",
      "\nDuring handling of the above exception, another exception occurred:\n",
      "\u001b[0;31mTypeError\u001b[0m                                 Traceback (most recent call last)",
      "\u001b[0;32m<ipython-input-54-09252db22900>\u001b[0m in \u001b[0;36m<module>\u001b[0;34m\u001b[0m\n\u001b[1;32m     28\u001b[0m                     \u001b[0mprint\u001b[0m\u001b[0;34m(\u001b[0m\u001b[0mrd\u001b[0m\u001b[0;34m+\u001b[0m\u001b[0mlengthG4\u001b[0m\u001b[0;34m)\u001b[0m\u001b[0;34m\u001b[0m\u001b[0;34m\u001b[0m\u001b[0m\n\u001b[1;32m     29\u001b[0m                     \u001b[0mprint\u001b[0m\u001b[0;34m(\u001b[0m\u001b[0mrow\u001b[0m\u001b[0;34m.\u001b[0m\u001b[0mstrand\u001b[0m\u001b[0;34m)\u001b[0m\u001b[0;34m\u001b[0m\u001b[0;34m\u001b[0m\u001b[0m\n\u001b[0;32m---> 30\u001b[0;31m                     \u001b[0mprint\u001b[0m\u001b[0;34m(\u001b[0m\u001b[0;34m'chr'\u001b[0m\u001b[0;34m+\u001b[0m\u001b[0mrow\u001b[0m\u001b[0;34m.\u001b[0m\u001b[0mchromosome\u001b[0m\u001b[0;34m+\u001b[0m\u001b[0;34m'\\t'\u001b[0m\u001b[0;34m+\u001b[0m\u001b[0mstr\u001b[0m\u001b[0;34m(\u001b[0m\u001b[0mrd\u001b[0m\u001b[0;34m)\u001b[0m\u001b[0;34m+\u001b[0m\u001b[0;34m'\\t'\u001b[0m\u001b[0;34m+\u001b[0m\u001b[0mstr\u001b[0m\u001b[0;34m(\u001b[0m\u001b[0mrd\u001b[0m\u001b[0;34m+\u001b[0m\u001b[0mlengthG4\u001b[0m\u001b[0;34m)\u001b[0m\u001b[0;34m+\u001b[0m\u001b[0;34m'\\t.\\t.\\t'\u001b[0m\u001b[0;34m+\u001b[0m\u001b[0mrow\u001b[0m\u001b[0;34m.\u001b[0m\u001b[0mstrand\u001b[0m\u001b[0;34m)\u001b[0m\u001b[0;34m\u001b[0m\u001b[0;34m\u001b[0m\u001b[0m\n\u001b[0m\u001b[1;32m     31\u001b[0m \u001b[0;34m\u001b[0m\u001b[0m\n\u001b[1;32m     32\u001b[0m \u001b[0;34m\u001b[0m\u001b[0m\n",
      "\u001b[0;31mTypeError\u001b[0m: can only concatenate str (not \"int\") to str"
     ]
    }
   ],
   "source": [
    "for randomNb in [1,2,3,4,5,6,7,8,9,10]:\n",
    "    print(randomNb)\n",
    "    for sp in spList:\n",
    "        listlineOutputFile = []\n",
    "        dicoSpRandom = {'Start': [], 'End': [], 'Chromosome': [], 'Strand': []}\n",
    "        print(sp)\n",
    "        pG4df = pd.read_csv('/home/anais/Documents/Projet/G4RBPevo/data/sp/'+sp+'_GAIA_Random.csv', sep=',', names=['trID', 'trStart', 'trEnd', 'chromosome', 'strand', 'pG4Start', 'pG4End', 'Sp'], index_col=None)\n",
    "        del pG4df['pG4Start']\n",
    "        del pG4df['pG4End']\n",
    "        pG4df = pG4df.drop_duplicates(keep='last')\n",
    "        pG4df = pG4df.reset_index()\n",
    "\n",
    "        if sp in ['Scer', 'Cele', 'Dmel']:\n",
    "            lengthG4 = 20\n",
    "        elif sp == 'Drer':\n",
    "            lengthG4 = 30\n",
    "        else:\n",
    "            lengthG4 = 60\n",
    "\n",
    "        for index, row in pG4df.iterrows():\n",
    "            for i in range(0,dicoSpnbG4Tr[sp][index]):\n",
    "                rd = random.randint(row.trStart, row.trEnd-5)\n",
    "                try:\n",
    "                    listlineOutputFile.append(row.chromosome[0]+'\\t'+str(rd)+'\\t'+str(rd+lengthG4)+'\\t.\\t.\\t'+row.strand[0])\n",
    "                except:\n",
    "                    print(row.chromosome)\n",
    "                    print(rd)\n",
    "                    print(rd+lengthG4)\n",
    "                    print(row.strand)\n",
    "                    print()\n",
    "                    print('chr'+row.chromosome+'\\t'+str(rd)+'\\t'+str(rd+lengthG4)+'\\t.\\t.\\t'+row.strand)\n",
    "                \n",
    "        \n",
    "        output = open('/home/anais/Documents/Projet/G4RBPevo/data/Random/'+sp+'_pG4coord_'+str(randomNb)+'.bed', \"a\")\n",
    "        output.write('\\n'.join(listlineOutputFile))\n",
    "        output.close()"
   ]
  }
 ],
 "metadata": {
  "kernelspec": {
   "display_name": "Python 3",
   "language": "python",
   "name": "python3"
  },
  "language_info": {
   "codemirror_mode": {
    "name": "ipython",
    "version": 3
   },
   "file_extension": ".py",
   "mimetype": "text/x-python",
   "name": "python",
   "nbconvert_exporter": "python",
   "pygments_lexer": "ipython3",
   "version": "3.9.5"
  }
 },
 "nbformat": 4,
 "nbformat_minor": 5
}
